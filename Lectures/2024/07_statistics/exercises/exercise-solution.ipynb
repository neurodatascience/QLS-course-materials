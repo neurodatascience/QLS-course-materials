{
 "cells": [
  {
   "cell_type": "code",
   "execution_count": null,
   "id": "4b26189f",
   "metadata": {
    "editable": true,
    "slideshow": {
     "slide_type": "skip"
    },
    "tags": []
   },
   "outputs": [],
   "source": [
    "import matplotlib.pyplot as plt\n",
    "\n",
    "%matplotlib inline\n",
    "import numpy as np\n",
    "import scipy.stats as sst"
   ]
  },
  {
   "cell_type": "code",
   "execution_count": null,
   "id": "a468472d",
   "metadata": {},
   "outputs": [],
   "source": [
    "def do_one_exp(n, mu, sigma, alpha, dist=\"normal\"):\n",
    "    \"\"\"\n",
    "    Draw random sample and compute effect size and t value\n",
    "\n",
    "    Parameters:\n",
    "    -----------\n",
    "    n: int,\n",
    "        The number of sample in the experiment\n",
    "    mu: float\n",
    "        The mean of the alternative\n",
    "    sigma: float\n",
    "        The standard deviation of the alternative\n",
    "    alpha: float\n",
    "        The risk of error (type I)\n",
    "\n",
    "    Returns:\n",
    "    --------\n",
    "    (2,) tuple : (effect, t_value)\n",
    "    \"\"\"\n",
    "\n",
    "    try:\n",
    "        assert dist in [\"normal\"]\n",
    "    except AssertionError as e:\n",
    "        raise e  # (e.message + ' happens at %s' % dist)\n",
    "\n",
    "    dist_rv = sst.norm(mu, sigma)\n",
    "    sample = dist_rv.rvs(size=(n,))\n",
    "\n",
    "    effect = sample.mean()\n",
    "\n",
    "    std_error_data = np.std(sample, ddof=1)\n",
    "    std_error_mean = std_error_data / np.sqrt(n)\n",
    "\n",
    "    t_value = effect / std_error_mean\n",
    "\n",
    "    return (effect, t_value)"
   ]
  },
  {
   "cell_type": "markdown",
   "id": "6d037dc6-6b5b-4183-8f71-91309939f69d",
   "metadata": {},
   "source": [
    "We have a sample size of $n$, an effect size of $\\mu$, To compute power you would first define an alternative distribution, which in a simulation using a normal distribution for drawing the sampled data is a non central $t$ distribution, i.e. a $t$ distribution that has a mean of $\\theta$\n",
    "$$\\theta = \\sqrt{n-1} \\mu / \\sigma$$\n",
    "The power would be computed by looking at the probability (so integrate the distribution) of the alternative to be larger than the $alpha$ (risk of type I) under the null (the null is a normal 0,1 distribution). \n",
    "\n",
    "Try to implement that function !"
   ]
  },
  {
   "cell_type": "code",
   "execution_count": null,
   "id": "10e20b97",
   "metadata": {},
   "outputs": [],
   "source": [
    "# a simple function to compute power\n",
    "def stat_power(n, mu, sigma, alpha, dist=\"normal\"):\n",
    "    \"\"\"\n",
    "    Parameters:\n",
    "    -----------\n",
    "    n: int,\n",
    "        The number of sample in the experiment\n",
    "    mu: float\n",
    "        The mean of the alternative\n",
    "    sigma: float\n",
    "        The standard deviation of the alternative\n",
    "    alpha: float\n",
    "        The risk of error (type I)\n",
    "\n",
    "    Returns:\n",
    "    --------\n",
    "    float\n",
    "        The statistical power for this number of sample, mu, sigma, alpha\"\"\"\n",
    "\n",
    "    df = n - 1\n",
    "    # theta tells us how 'far' is the alternative hypothesis\n",
    "    theta = np.sqrt(n) * mu / sigma\n",
    "\n",
    "    # this is the alternative\n",
    "    ncrv = sst.nct(df, theta)\n",
    "\n",
    "    # this is the threshold, computed on the null\n",
    "    t_alph_null = sst.t.isf(alpha, df)\n",
    "\n",
    "    spow = 1 - ncrv.cdf(t_alph_null)\n",
    "\n",
    "    return spow"
   ]
  },
  {
   "cell_type": "code",
   "execution_count": null,
   "id": "79bcc546",
   "metadata": {},
   "outputs": [],
   "source": [
    "args = [30, 0.25, 1, 0.05]\n",
    "print(do_one_exp(*args, dist=\"normal\"))\n",
    "print(stat_power(*args))"
   ]
  },
  {
   "cell_type": "code",
   "execution_count": null,
   "id": "324b2d68",
   "metadata": {},
   "outputs": [],
   "source": [
    "# do N_exp experiments\n",
    "\n",
    "N_exp = 100\n",
    "effects = np.zeros((N_exp,))\n",
    "t_values = np.zeros((N_exp,))\n",
    "\n",
    "n = 30\n",
    "mu = 0.25\n",
    "alpha = 0.05\n",
    "sigma = 1\n",
    "\n",
    "for exp in range(N_exp):\n",
    "    effects[exp], t_values[exp] = do_one_exp(n, mu, sigma, alpha)\n",
    "\n",
    "strv = sst.t(n - 1)  # degree of freedom of the student distribution is n-1\n",
    "t_alpha = strv.isf(alpha)\n",
    "\n",
    "published = effects[t_values > t_alpha]\n",
    "\n",
    "print(effects.mean(), published.mean())"
   ]
  },
  {
   "cell_type": "code",
   "execution_count": null,
   "id": "63ea209a",
   "metadata": {},
   "outputs": [],
   "source": []
  }
 ],
 "metadata": {
  "kernelspec": {
   "display_name": "Python 3 (ipykernel)",
   "language": "python",
   "name": "python3"
  },
  "language_info": {
   "codemirror_mode": {
    "name": "ipython",
    "version": 3
   },
   "file_extension": ".py",
   "mimetype": "text/x-python",
   "name": "python",
   "nbconvert_exporter": "python",
   "pygments_lexer": "ipython3",
   "version": "3.12.3"
  },
  "toc": {
   "nav_menu": {},
   "number_sections": true,
   "sideBar": true,
   "skip_h1_title": false,
   "toc_cell": false,
   "toc_position": {},
   "toc_section_display": "block",
   "toc_window_display": false
  }
 },
 "nbformat": 4,
 "nbformat_minor": 5
}

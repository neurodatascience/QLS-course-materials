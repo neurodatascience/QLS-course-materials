{
 "cells": [
  {
   "cell_type": "markdown",
   "metadata": {},
   "source": [
    "# Exercises\n",
    "\n",
    "For the Intro to Python module of the QLSC 612 course"
   ]
  },
  {
   "cell_type": "markdown",
   "metadata": {},
   "source": [
    "## Part 1: Practice coding in Python\n",
    "\n",
    "These questions will require you to code a little. Try them on your own, and then after ~10 minutes we can check in and go over a solution"
   ]
  },
  {
   "cell_type": "markdown",
   "metadata": {},
   "source": [
    "### Exercise 1\n",
    "\n",
    "Create a function called `left_of_1_is_1`. It should take as input a checkerboard which is represented as a 4x4 two-dimensional list comprised of 1s and 0s (see examples). The function should modify that checkerboard by changing any element to the left of a 1 into a 1."
   ]
  },
  {
   "cell_type": "code",
   "execution_count": null,
   "metadata": {},
   "outputs": [],
   "source": [
    "# example checkerboards\n",
    "# the function should work with any other 4x4 checkerboard of 1s and 0s\n",
    "\n",
    "checkerboard1 = [[0, 0, 0, 0], [0, 0, 1, 0], [1, 0, 0, 0], [0, 0, 0, 1]]\n",
    "# expected result: \n",
    "#               [[0, 0, 0, 0], [0, 1, 1, 0], [1, 0, 0, 0], [0, 0, 1, 1]]\n",
    "\n",
    "checkerboard2 = [[1, 1, 1, 1], [0, 0, 0, 0], [0, 1, 0, 1], [1, 0, 1, 0]]\n",
    "# expected result: \n",
    "#               [[1, 1, 1, 1], [0, 0, 0, 0], [1, 1, 1, 1], [1, 1, 1, 0]]\n",
    "\n",
    "def left_of_1_is_1(checkerboard):\n",
    "    # your code here (can delete \"pass\")\n",
    "    pass\n",
    "\n",
    "left_of_1_is_1(checkerboard1)\n",
    "left_of_1_is_1(checkerboard2)"
   ]
  },
  {
   "cell_type": "markdown",
   "metadata": {},
   "source": [
    "### Exercise 2\n",
    "\n",
    "Write a function `get_and_write_number` that takes as argument a filename. The function should ask for an integer user input from the keyboard, and write it to a text file with the correct filename.\n",
    "- If the input is not numerical, then the function should inform the user and attempt to obtain their input again.\n",
    "- *Hint*: The function `input(\"Prompt to your question\")` will read the user's input from the keyboard as a string.\n",
    "- *Hint*: Read about writing to files in the [Python documentation](https://docs.python.org/3/tutorial/inputoutput.html). Get used to reading documentation!"
   ]
  },
  {
   "cell_type": "code",
   "execution_count": null,
   "metadata": {},
   "outputs": [],
   "source": [
    "# run this to see how the input() function works\n",
    "input(\"Prompt to your question\")"
   ]
  },
  {
   "cell_type": "code",
   "execution_count": null,
   "metadata": {},
   "outputs": [],
   "source": [
    "def get_and_write_number(filename):\n",
    "    # your code here (can delete \"pass\")\n",
    "    pass\n",
    "\n",
    "get_and_write_number(\"./user_number.txt\")"
   ]
  },
  {
   "cell_type": "markdown",
   "metadata": {},
   "source": [
    "### Exercise 3\n",
    "\n",
    "Create a function `get_average_calories` that takes as input a dictionary with the same structure as the `fruits_nutrition` dictionary from the lecture (see examples) and computes the average amount of calories of the fruits in the dictionary.\n",
    "- You can assume that every fruit dictionary will have a `\"calories\"` key, which can be either a number or `None`\n",
    "    - If the calories field of the fruit is `None`, then skip this fruit and do not use it in your averaging"
   ]
  },
  {
   "cell_type": "code",
   "execution_count": null,
   "metadata": {},
   "outputs": [],
   "source": [
    "# example inputs\n",
    "\n",
    "# expected output: 50\n",
    "fruits_nutrition1 = {\n",
    "    \"apple\": {\"calories\": 54, \"water_percent\": 86, \"fibre_grams\": 2.4},\n",
    "    \"orange\": {\"calories\": 60, \"water_percent\": 86, \"fibre_grams\": 3.0},\n",
    "    \"banana\": {\"calories\": 36, \"water_percent\": 75, \"fibre_grams\": 2.6},\n",
    "}\n",
    "\n",
    "# expected output: 50\n",
    "fruits_nutrition2 = {\n",
    "    \"apple\": {\"calories\": 54, \"water_percent\": 86, \"fibre_grams\": 2.4},\n",
    "    \"orange\": {\"calories\": 60, \"water_percent\": 86, \"fibre_grams\": 3.0},\n",
    "    \"banana\": {\"calories\": 36, \"water_percent\": 75, \"fibre_grams\": 2.6},\n",
    "    \"otherfruit\": {\"calories\": None, \"water_percent\": 66, \"fibre_grams\": 2.0},\n",
    "}\n",
    "\n",
    "# expected output: 40\n",
    "fruits_nutrition3 = {\n",
    "    \"apple\": {\"calories\": 54, \"water_percent\": 86, \"fibre_grams\": 2.4},\n",
    "    \"orange\": {\"calories\": 60, \"water_percent\": 86, \"fibre_grams\": 3.0},\n",
    "    \"banana\": {\"calories\": 36, \"water_percent\": 75, \"fibre_grams\": 2.6},\n",
    "    \"otherfruit\": {\"calories\": None, \"water_percent\": 66, \"fibre_grams\": 2.0},\n",
    "    \"strawberry\": {\"calories\": 10, \"water_percent\": 91, \"fibre_grams\": 0.2},\n",
    "}\n",
    "\n",
    "def get_average_calories(fruit_dictionary):\n",
    "    # your code here (can delete \"pass\")\n",
    "    pass\n",
    "\n",
    "\n",
    "print(get_average_calories(fruits_nutrition1))\n",
    "print(get_average_calories(fruits_nutrition2))\n",
    "print(get_average_calories(fruits_nutrition3))"
   ]
  },
  {
   "cell_type": "markdown",
   "metadata": {},
   "source": [
    "## Part 2 - Reviewing for the quiz\n",
    "\n",
    "Do not use the interpreter to run code for these questions (1-8). Make sure you can work through them by hand (on paper if needed) and understand what is going on. Then run the code to check your solutions! This will prepare you well for the quiz.\n",
    "\n",
    "### Exercise 4\n",
    "What does the following code print?"
   ]
  },
  {
   "cell_type": "code",
   "execution_count": null,
   "metadata": {},
   "outputs": [],
   "source": [
    "# prime_list = [1, 3, 5, 7, 11, 13]\n",
    "# for i in prime_list:\n",
    "#     if (i + 2) % 3 == 0:\n",
    "#         print(i)"
   ]
  },
  {
   "cell_type": "markdown",
   "metadata": {},
   "source": [
    "### Exercise 5\n",
    "What does the following code print?"
   ]
  },
  {
   "cell_type": "code",
   "execution_count": null,
   "metadata": {},
   "outputs": [],
   "source": [
    "# list1 = [1,2,3]\n",
    "# list2 = [1,0,2]\n",
    "# list3 = [3,2,1]\n",
    "# list4 = []\n",
    "\n",
    "# i = 0\n",
    "# while i < len(list1):\n",
    "#     term = list1[i] * list2[i] + list3[i]\n",
    "#     list4.append(term)\n",
    "#     i += 1\n",
    "# print(list4)"
   ]
  },
  {
   "cell_type": "markdown",
   "metadata": {},
   "source": [
    "### Exercise 6\n",
    "What does the following code print?"
   ]
  },
  {
   "cell_type": "code",
   "execution_count": null,
   "metadata": {},
   "outputs": [],
   "source": [
    "# people = {1: {'Name': 'Juan', 'Age': '24', 'Level': 'Advanced'},\n",
    "#           2: {'Name': 'Mary', 'Age': '19', 'Level': 'Intermediate'},\n",
    "#           3: {'Name': 'Sneha', 'Age': '21', 'Level': 'Advanced'},\n",
    "#           4: {'Name': 'Adam', 'Age': '27', 'Level': 'Beginner'}}\n",
    "\n",
    "# my_array = []\n",
    "\n",
    "# for key, value in people.items():\n",
    "#     my_array.append(value[\"Name\"])\n",
    "# print(my_array)"
   ]
  },
  {
   "cell_type": "markdown",
   "metadata": {},
   "source": [
    "### Exercise 7\n",
    "What does the following code print?"
   ]
  },
  {
   "cell_type": "code",
   "execution_count": null,
   "metadata": {},
   "outputs": [],
   "source": [
    "# my_string = \"abcd1234\"\n",
    "\n",
    "# def fun1(str_input):\n",
    "#     separator_index = int(len(str_input)/2)\n",
    "#     str1 = str_input[0:separator_index]\n",
    "#     str2 = str_input[separator_index:]\n",
    "#     return str2 + str1\n",
    "\n",
    "# def fun2(str_input):\n",
    "#     output = \"\"\n",
    "#     modified = fun1(str_input)\n",
    "#     return str_input + modified\n",
    "\n",
    "# print(fun2(my_string))"
   ]
  },
  {
   "cell_type": "markdown",
   "metadata": {},
   "source": [
    "### Exercise 8\n",
    "What does the following code print?"
   ]
  },
  {
   "cell_type": "code",
   "execution_count": null,
   "metadata": {},
   "outputs": [],
   "source": [
    "# x = [\"Google\", \"apple\", \"djembe\", \"pear\", \"orange\", \"aardvark\", \"avocado\", \"bard\"]\n",
    "# print (x[0][0:3] + x[2][0:1] + x[2][1] + x[6][-1] + x[2][-2])"
   ]
  },
  {
   "cell_type": "markdown",
   "metadata": {},
   "source": [
    "### Exercise 9\n",
    "What does the following code print?"
   ]
  },
  {
   "cell_type": "code",
   "execution_count": null,
   "metadata": {},
   "outputs": [],
   "source": [
    "# x = [\"apple\", \"pear\", \"orange\", \"aardvark\", \"avocado\"]\n",
    "# fruits = [\"apple\", \"banana\", \"melon\", \"orange\", \"avocado\"]\n",
    "\n",
    "# for item in x:\n",
    "#     if item in fruits:\n",
    "#         print(\"Fruit: \" + item)\n",
    "#     else:\n",
    "#         print(\"Not a fruit: \" + item)"
   ]
  },
  {
   "cell_type": "markdown",
   "metadata": {},
   "source": [
    "### Exercise 10\n",
    "What does the following code print?"
   ]
  },
  {
   "cell_type": "code",
   "execution_count": null,
   "metadata": {},
   "outputs": [],
   "source": [
    "# x = \"QLSC\"\n",
    "# y = \" \"\n",
    "# z = \"123\"\n",
    "\n",
    "\n",
    "# def neurodatascience(z, x):\n",
    "#     if type(x) == str:\n",
    "#         x = int(x)\n",
    "#         x += 489\n",
    "#     return str(z) + str(y) + str(x)\n",
    "\n",
    "\n",
    "# print(neurodatascience(x, z))\n",
    "# print(type(x))\n",
    "# print(type(z))"
   ]
  },
  {
   "cell_type": "markdown",
   "metadata": {},
   "source": [
    "### Exercise 11\n",
    "What does the following code print?"
   ]
  },
  {
   "cell_type": "code",
   "execution_count": null,
   "metadata": {},
   "outputs": [],
   "source": [
    "# def my_function():\n",
    "#     try:\n",
    "#         return 1\n",
    "#     except Exception:\n",
    "#           print(\"An exception occurred\")\n",
    "#     finally:\n",
    "#         return 2\n",
    "\n",
    "# print(my_function())"
   ]
  },
  {
   "cell_type": "markdown",
   "metadata": {},
   "source": [
    "# Part 3: Bonus challenge\n",
    "\n",
    "For those who want more practice or find this easy :)"
   ]
  },
  {
   "cell_type": "markdown",
   "metadata": {},
   "source": [
    "1. Write a piece of code that prints the first 100 primes"
   ]
  },
  {
   "cell_type": "code",
   "execution_count": null,
   "metadata": {},
   "outputs": [],
   "source": [
    "# your code here"
   ]
  },
  {
   "cell_type": "markdown",
   "metadata": {},
   "source": [
    "2. Replace 100 with a variable called `n_primes` (makes your script more customizable)."
   ]
  },
  {
   "cell_type": "code",
   "execution_count": null,
   "metadata": {},
   "outputs": [],
   "source": [
    "# your code here"
   ]
  },
  {
   "cell_type": "markdown",
   "metadata": {},
   "source": [
    "3. Add code that prints how long it takes to execute (hint: you may want to check out the [`time.time` function](https://docs.python.org/3/library/time.html#time.time))."
   ]
  },
  {
   "cell_type": "code",
   "execution_count": null,
   "metadata": {},
   "outputs": [],
   "source": [
    "# your code here"
   ]
  },
  {
   "cell_type": "markdown",
   "metadata": {},
   "source": [
    "4. Add a break somewhere to speed up your code (you should notice a smaller run time)."
   ]
  },
  {
   "cell_type": "code",
   "execution_count": null,
   "metadata": {},
   "outputs": [],
   "source": [
    "# your code here"
   ]
  },
  {
   "cell_type": "markdown",
   "metadata": {},
   "source": [
    "5. Modify the range that you iterate through to speed up your code (you should notice a smaller run time). Hints: try using `math.sqrt()` (need to `import math` and be weary of type-casting errors)."
   ]
  },
  {
   "cell_type": "code",
   "execution_count": null,
   "metadata": {},
   "outputs": [],
   "source": [
    "# your code here"
   ]
  },
  {
   "cell_type": "markdown",
   "metadata": {},
   "source": [
    "6. Add a prompt that ask a person to input how many ordered primes they want to print."
   ]
  },
  {
   "cell_type": "code",
   "execution_count": null,
   "metadata": {},
   "outputs": [],
   "source": [
    "# your code here"
   ]
  }
 ],
 "metadata": {
  "kernelspec": {
   "display_name": "Python 3 (ipykernel)",
   "language": "python",
   "name": "python3"
  },
  "language_info": {
   "codemirror_mode": {
    "name": "ipython",
    "version": 3
   },
   "file_extension": ".py",
   "mimetype": "text/x-python",
   "name": "python",
   "nbconvert_exporter": "python",
   "pygments_lexer": "ipython3",
   "version": "3.9.19"
  }
 },
 "nbformat": 4,
 "nbformat_minor": 4
}

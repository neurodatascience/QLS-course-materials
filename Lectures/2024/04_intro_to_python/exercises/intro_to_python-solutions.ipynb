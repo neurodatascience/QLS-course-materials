{
 "cells": [
  {
   "cell_type": "markdown",
   "metadata": {},
   "source": [
    "# Exercise solutions\n",
    "\n",
    "For the Intro to Python module of the QLSC 612 course"
   ]
  },
  {
   "cell_type": "markdown",
   "metadata": {},
   "source": [
    "## Part 1: Practice coding in Python\n",
    "\n",
    "These questions will require you to code a little. Try them on your own, and then after ~10 minutes we can check in and go over a solution"
   ]
  },
  {
   "cell_type": "markdown",
   "metadata": {},
   "source": [
    "### Exercise 1\n",
    "\n",
    "Create a function called `left_of_1_is_1`. It should take as input a checkerboard which is represented as a 4x4 two-dimensional list comprised of 1s and 0s (see examples). The function should modify that checkerboard by changing any element to the left of a 1 into a 1."
   ]
  },
  {
   "cell_type": "code",
   "execution_count": 1,
   "metadata": {},
   "outputs": [
    {
     "name": "stdout",
     "output_type": "stream",
     "text": [
      "before:\t[[0, 0, 0, 0], [0, 0, 1, 0], [1, 0, 0, 0], [0, 0, 0, 1]]\n",
      "after:\t[[0, 0, 0, 0], [0, 1, 1, 0], [1, 0, 0, 0], [0, 0, 1, 1]]\n",
      "before:\t[[1, 1, 1, 1], [0, 0, 0, 0], [0, 1, 0, 1], [1, 0, 1, 0]]\n",
      "after:\t[[1, 1, 1, 1], [0, 0, 0, 0], [1, 1, 1, 1], [1, 1, 1, 0]]\n"
     ]
    }
   ],
   "source": [
    "# example checkerboards\n",
    "# the function should work with any other 4x4 checkerboard of 1s and 0s\n",
    "\n",
    "checkerboard1 = [[0, 0, 0, 0], [0, 0, 1, 0], [1, 0, 0, 0], [0, 0, 0, 1]]\n",
    "# expected result:\n",
    "#               [[0, 0, 0, 0], [0, 1, 1, 0], [1, 0, 0, 0], [0, 0, 1, 1]]\n",
    "\n",
    "checkerboard2 = [[1, 1, 1, 1], [0, 0, 0, 0], [0, 1, 0, 1], [1, 0, 1, 0]]\n",
    "# expected result:\n",
    "#               [[1, 1, 1, 1], [0, 0, 0, 0], [1, 1, 1, 1], [1, 1, 1, 0]]\n",
    "\n",
    "\n",
    "# solution (not the only one)\n",
    "def left_of_1_is_1(checkerboard):\n",
    "    print(\"before:\\t\" + str(checkerboard))\n",
    "    row = 0\n",
    "    column = 0\n",
    "\n",
    "    while row <= 3:\n",
    "        while column <= 3:\n",
    "            if checkerboard[row][column] == 1 and column - 1 >= 0:\n",
    "                checkerboard[row][column - 1] = 1\n",
    "            column += 1\n",
    "        column = 0\n",
    "        row += 1\n",
    "    print(\"after:\\t\" + str(checkerboard))  # pass by assignment, no need to return it.\n",
    "\n",
    "\n",
    "left_of_1_is_1(checkerboard1)\n",
    "left_of_1_is_1(checkerboard2)"
   ]
  },
  {
   "cell_type": "markdown",
   "metadata": {},
   "source": [
    "### Exercise 2\n",
    "\n",
    "Write a function `get_and_write_number` that takes as argument a filename. The function should ask for an integer user input from the keyboard, and write it to a text file with the correct filename.\n",
    "- If the input is not numerical, then the function should inform the user and attempt to obtain their input again.\n",
    "- *Hint*: The function `input(\"Prompt to your question\")` will read the user's input from the keyboard as a string.\n",
    "- *Hint*: Read about writing to files in the [Python documentation](https://docs.python.org/3/tutorial/inputoutput.html). Get used to reading documentation!"
   ]
  },
  {
   "cell_type": "code",
   "execution_count": 2,
   "metadata": {},
   "outputs": [
    {
     "data": {
      "text/plain": [
       "'s'"
      ]
     },
     "execution_count": 2,
     "metadata": {},
     "output_type": "execute_result"
    }
   ],
   "source": [
    "# run this to see how the input() function works\n",
    "input(\"Prompt to your question\")"
   ]
  },
  {
   "cell_type": "code",
   "execution_count": 3,
   "metadata": {},
   "outputs": [],
   "source": [
    "# solution (not the only one)\n",
    "def get_and_write_number(filename):\n",
    "    while True:\n",
    "        try:\n",
    "            x = int(input(\"Please enter a number: \"))\n",
    "            break\n",
    "        except ValueError:\n",
    "            print(\"Oops! That was no valid number. Try again...\")\n",
    "\n",
    "    with open(filename, \"w\") as f:\n",
    "        f.write(str(x))\n",
    "        f.close()\n",
    "    return\n",
    "\n",
    "\n",
    "get_and_write_number(\"./user_number.txt\")"
   ]
  },
  {
   "cell_type": "markdown",
   "metadata": {},
   "source": [
    "### Exercise 3\n",
    "\n",
    "Create a function `get_average_calories` that takes as input a dictionary with the same structure as the `fruits_nutrition` dictionary from the lecture (see examples) and computes the average amount of calories of the fruits in the dictionary.\n",
    "- You can assume that every fruit dictionary will have a `\"calories\"` key, which can be either a number or `None`\n",
    "    - If the calories field of the fruit is `None`, then skip this fruit and do not use it in your averaging"
   ]
  },
  {
   "cell_type": "code",
   "execution_count": 4,
   "metadata": {},
   "outputs": [
    {
     "name": "stdout",
     "output_type": "stream",
     "text": [
      "50.0\n",
      "50.0\n",
      "40.0\n"
     ]
    }
   ],
   "source": [
    "# example inputs\n",
    "\n",
    "# expected output: 50\n",
    "fruits_nutrition1 = {\n",
    "    \"apple\": {\"calories\": 54, \"water_percent\": 86, \"fibre_grams\": 2.4},\n",
    "    \"orange\": {\"calories\": 60, \"water_percent\": 86, \"fibre_grams\": 3.0},\n",
    "    \"banana\": {\"calories\": 36, \"water_percent\": 75, \"fibre_grams\": 2.6},\n",
    "}\n",
    "\n",
    "# expected output: 50\n",
    "fruits_nutrition2 = {\n",
    "    \"apple\": {\"calories\": 54, \"water_percent\": 86, \"fibre_grams\": 2.4},\n",
    "    \"orange\": {\"calories\": 60, \"water_percent\": 86, \"fibre_grams\": 3.0},\n",
    "    \"banana\": {\"calories\": 36, \"water_percent\": 75, \"fibre_grams\": 2.6},\n",
    "    \"otherfruit\": {\"calories\": None, \"water_percent\": 66, \"fibre_grams\": 2.0},\n",
    "}\n",
    "\n",
    "# expected output: 40\n",
    "fruits_nutrition3 = {\n",
    "    \"apple\": {\"calories\": 54, \"water_percent\": 86, \"fibre_grams\": 2.4},\n",
    "    \"orange\": {\"calories\": 60, \"water_percent\": 86, \"fibre_grams\": 3.0},\n",
    "    \"banana\": {\"calories\": 36, \"water_percent\": 75, \"fibre_grams\": 2.6},\n",
    "    \"otherfruit\": {\"calories\": None, \"water_percent\": 66, \"fibre_grams\": 2.0},\n",
    "    \"strawberry\": {\"calories\": 10, \"water_percent\": 91, \"fibre_grams\": 0.2},\n",
    "}\n",
    "\n",
    "\n",
    "# solution (not the only one)\n",
    "def get_average_calories(fruit_dictionary):\n",
    "    total_calories = 0\n",
    "    fruit_count = 0\n",
    "\n",
    "    for nutrition_info in fruit_dictionary.values():\n",
    "        if nutrition_info.get(\"calories\") is not None:\n",
    "            total_calories += nutrition_info[\"calories\"]\n",
    "            fruit_count += 1\n",
    "\n",
    "    return total_calories / fruit_count\n",
    "\n",
    "\n",
    "print(get_average_calories(fruits_nutrition1))\n",
    "print(get_average_calories(fruits_nutrition2))\n",
    "print(get_average_calories(fruits_nutrition3))"
   ]
  },
  {
   "cell_type": "markdown",
   "metadata": {},
   "source": [
    "## Part 2 - Reviewing for the quiz\n",
    "\n",
    "Do not use the interpreter to run code for these questions (1-8). Make sure you can work through them by hand (on paper if needed) and understand what is going on. Then run the code to check your solutions! This will prepare you well for the quiz.\n",
    "\n",
    "### Exercise 4\n",
    "What does the following code print?"
   ]
  },
  {
   "cell_type": "code",
   "execution_count": 5,
   "metadata": {},
   "outputs": [
    {
     "name": "stdout",
     "output_type": "stream",
     "text": [
      "1\n",
      "7\n",
      "13\n"
     ]
    }
   ],
   "source": [
    "prime_list = [1, 3, 5, 7, 11, 13]\n",
    "for i in prime_list:\n",
    "    if (i + 2) % 3 == 0:\n",
    "        print(i)"
   ]
  },
  {
   "cell_type": "markdown",
   "metadata": {},
   "source": [
    "### Exercise 5\n",
    "What does the following code print?"
   ]
  },
  {
   "cell_type": "code",
   "execution_count": 6,
   "metadata": {},
   "outputs": [
    {
     "name": "stdout",
     "output_type": "stream",
     "text": [
      "[4, 2, 7]\n"
     ]
    }
   ],
   "source": [
    "list1 = [1, 2, 3]\n",
    "list2 = [1, 0, 2]\n",
    "list3 = [3, 2, 1]\n",
    "list4 = []\n",
    "\n",
    "i = 0\n",
    "while i < len(list1):\n",
    "    term = list1[i] * list2[i] + list3[i]\n",
    "    list4.append(term)\n",
    "    i += 1\n",
    "print(list4)"
   ]
  },
  {
   "cell_type": "markdown",
   "metadata": {},
   "source": [
    "### Exercise 6\n",
    "What does the following code print?"
   ]
  },
  {
   "cell_type": "code",
   "execution_count": 7,
   "metadata": {},
   "outputs": [
    {
     "name": "stdout",
     "output_type": "stream",
     "text": [
      "['Juan', 'Mary', 'Sneha', 'Adam']\n"
     ]
    }
   ],
   "source": [
    "people = {\n",
    "    1: {\"Name\": \"Juan\", \"Age\": \"24\", \"Level\": \"Advanced\"},\n",
    "    2: {\"Name\": \"Mary\", \"Age\": \"19\", \"Level\": \"Intermediate\"},\n",
    "    3: {\"Name\": \"Sneha\", \"Age\": \"21\", \"Level\": \"Advanced\"},\n",
    "    4: {\"Name\": \"Adam\", \"Age\": \"27\", \"Level\": \"Beginner\"},\n",
    "}\n",
    "\n",
    "my_array = []\n",
    "\n",
    "for key, value in people.items():\n",
    "    my_array.append(value[\"Name\"])\n",
    "print(my_array)"
   ]
  },
  {
   "cell_type": "markdown",
   "metadata": {},
   "source": [
    "### Exercise 7\n",
    "What does the following code print?"
   ]
  },
  {
   "cell_type": "code",
   "execution_count": 8,
   "metadata": {},
   "outputs": [
    {
     "name": "stdout",
     "output_type": "stream",
     "text": [
      "abcd12341234abcd\n"
     ]
    }
   ],
   "source": [
    "my_string = \"abcd1234\"\n",
    "\n",
    "\n",
    "def fun1(str_input):\n",
    "    separator_index = int(len(str_input) / 2)\n",
    "    str1 = str_input[0:separator_index]\n",
    "    str2 = str_input[separator_index:]\n",
    "    return str2 + str1\n",
    "\n",
    "\n",
    "def fun2(str_input):\n",
    "    output = \"\"\n",
    "    modified = fun1(str_input)\n",
    "    return str_input + modified\n",
    "\n",
    "\n",
    "print(fun2(my_string))"
   ]
  },
  {
   "cell_type": "markdown",
   "metadata": {},
   "source": [
    "### Exercise 8\n",
    "What does the following code print?"
   ]
  },
  {
   "cell_type": "code",
   "execution_count": 9,
   "metadata": {},
   "outputs": [
    {
     "name": "stdout",
     "output_type": "stream",
     "text": [
      "Goodjob\n"
     ]
    }
   ],
   "source": [
    "x = [\"Google\", \"apple\", \"djembe\", \"pear\", \"orange\", \"aardvark\", \"avocado\", \"bard\"]\n",
    "print(x[0][0:3] + x[2][0:1] + x[2][1] + x[6][-1] + x[2][-2])"
   ]
  },
  {
   "cell_type": "markdown",
   "metadata": {},
   "source": [
    "### Exercise 9\n",
    "What does the following code print?"
   ]
  },
  {
   "cell_type": "code",
   "execution_count": 10,
   "metadata": {},
   "outputs": [
    {
     "name": "stdout",
     "output_type": "stream",
     "text": [
      "Fruit: apple\n",
      "Not a fruit: pear\n",
      "Fruit: orange\n",
      "Not a fruit: aardvark\n",
      "Fruit: avocado\n"
     ]
    }
   ],
   "source": [
    "x = [\"apple\", \"pear\", \"orange\", \"aardvark\", \"avocado\"]\n",
    "fruits = [\"apple\", \"banana\", \"melon\", \"orange\", \"avocado\"]\n",
    "\n",
    "for item in x:\n",
    "    if item in fruits:\n",
    "        print(\"Fruit: \" + item)\n",
    "    else:\n",
    "        print(\"Not a fruit: \" + item)"
   ]
  },
  {
   "cell_type": "markdown",
   "metadata": {},
   "source": [
    "### Exercise 10\n",
    "What does the following code print?"
   ]
  },
  {
   "cell_type": "code",
   "execution_count": 11,
   "metadata": {},
   "outputs": [
    {
     "name": "stdout",
     "output_type": "stream",
     "text": [
      "QLSC 612\n",
      "<class 'str'>\n",
      "<class 'str'>\n"
     ]
    }
   ],
   "source": [
    "x = \"QLSC\"\n",
    "y = \" \"\n",
    "z = \"123\"\n",
    "\n",
    "\n",
    "def neurodatascience(z, x):\n",
    "    if type(x) == str:\n",
    "        x = int(x)\n",
    "        x += 489\n",
    "    return str(z) + str(y) + str(x)\n",
    "\n",
    "\n",
    "print(neurodatascience(x, z))\n",
    "print(type(x))\n",
    "print(type(z))"
   ]
  },
  {
   "cell_type": "markdown",
   "metadata": {},
   "source": [
    "### Exercise 11\n",
    "What does the following code print?"
   ]
  },
  {
   "cell_type": "code",
   "execution_count": 12,
   "metadata": {},
   "outputs": [
    {
     "name": "stdout",
     "output_type": "stream",
     "text": [
      "2\n"
     ]
    }
   ],
   "source": [
    "def my_function():\n",
    "    try:\n",
    "        return 1\n",
    "    except Exception:\n",
    "        print(\"An exception occurred\")\n",
    "    finally:\n",
    "        return 2\n",
    "\n",
    "\n",
    "print(my_function())"
   ]
  },
  {
   "cell_type": "markdown",
   "metadata": {},
   "source": [
    "# Part 3: Bonus challenge\n",
    "\n",
    "For those who want more practice or find this easy :)"
   ]
  },
  {
   "cell_type": "markdown",
   "metadata": {},
   "source": [
    "1. Write a piece of code that prints the first 100 primes"
   ]
  },
  {
   "cell_type": "code",
   "execution_count": 13,
   "metadata": {},
   "outputs": [
    {
     "name": "stdout",
     "output_type": "stream",
     "text": [
      "First 100 prime numbers: [2, 3, 5, 7, 11, 13, 17, 19, 23, 29, 31, 37, 41, 43, 47, 53, 59, 61, 67, 71, 73, 79, 83, 89, 97, 101, 103, 107, 109, 113, 127, 131, 137, 139, 149, 151, 157, 163, 167, 173, 179, 181, 191, 193, 197, 199, 211, 223, 227, 229, 233, 239, 241, 251, 257, 263, 269, 271, 277, 281, 283, 293, 307, 311, 313, 317, 331, 337, 347, 349, 353, 359, 367, 373, 379, 383, 389, 397, 401, 409, 419, 421, 431, 433, 439, 443, 449, 457, 461, 463, 467, 479, 487, 491, 499, 503, 509, 521, 523, 541]\n"
     ]
    }
   ],
   "source": [
    "primes = []\n",
    "i = 1\n",
    "while i >= 1:\n",
    "    prime_check = 0\n",
    "    for val in range(2, i + 1):\n",
    "        if (i + 1) % val == 0:\n",
    "            prime_check += 1\n",
    "    if prime_check == 0:\n",
    "        primes.append(i + 1)\n",
    "    i += 1\n",
    "    if len(primes) >= 100:\n",
    "        break\n",
    "print(f\"First 100 prime numbers: {primes}\")"
   ]
  },
  {
   "cell_type": "markdown",
   "metadata": {},
   "source": [
    "2. Replace 100 with a variable called `n_primes` (makes your script more customizable)."
   ]
  },
  {
   "cell_type": "code",
   "execution_count": 14,
   "metadata": {},
   "outputs": [
    {
     "name": "stdout",
     "output_type": "stream",
     "text": [
      "First 100 prime numbers: [2, 3, 5, 7, 11, 13, 17, 19, 23, 29, 31, 37, 41, 43, 47, 53, 59, 61, 67, 71, 73, 79, 83, 89, 97, 101, 103, 107, 109, 113, 127, 131, 137, 139, 149, 151, 157, 163, 167, 173, 179, 181, 191, 193, 197, 199, 211, 223, 227, 229, 233, 239, 241, 251, 257, 263, 269, 271, 277, 281, 283, 293, 307, 311, 313, 317, 331, 337, 347, 349, 353, 359, 367, 373, 379, 383, 389, 397, 401, 409, 419, 421, 431, 433, 439, 443, 449, 457, 461, 463, 467, 479, 487, 491, 499, 503, 509, 521, 523, 541]\n"
     ]
    }
   ],
   "source": [
    "n_primes = 100\n",
    "primes = []\n",
    "i = 1\n",
    "while i >= 1:\n",
    "    prime_check = 0\n",
    "    for val in range(2, i + 1):\n",
    "        if (i + 1) % val == 0:\n",
    "            prime_check += 1\n",
    "    if prime_check == 0:\n",
    "        primes.append(i + 1)\n",
    "    i += 1\n",
    "    if len(primes) >= n_primes:\n",
    "        break\n",
    "print(f\"First {n_primes} prime numbers: {primes}\")"
   ]
  },
  {
   "cell_type": "markdown",
   "metadata": {},
   "source": [
    "3. Add code that prints how long it takes to execute (hint: you may want to check out the [`time.time` function](https://docs.python.org/3/library/time.html#time.time))."
   ]
  },
  {
   "cell_type": "code",
   "execution_count": 15,
   "metadata": {},
   "outputs": [
    {
     "name": "stdout",
     "output_type": "stream",
     "text": [
      "First 100 prime numbers: [2, 3, 5, 7, 11, 13, 17, 19, 23, 29, 31, 37, 41, 43, 47, 53, 59, 61, 67, 71, 73, 79, 83, 89, 97, 101, 103, 107, 109, 113, 127, 131, 137, 139, 149, 151, 157, 163, 167, 173, 179, 181, 191, 193, 197, 199, 211, 223, 227, 229, 233, 239, 241, 251, 257, 263, 269, 271, 277, 281, 283, 293, 307, 311, 313, 317, 331, 337, 347, 349, 353, 359, 367, 373, 379, 383, 389, 397, 401, 409, 419, 421, 431, 433, 439, 443, 449, 457, 461, 463, 467, 479, 487, 491, 499, 503, 509, 521, 523, 541]\n",
      "Run time: 0.017077922821044922 seconds\n"
     ]
    }
   ],
   "source": [
    "import time\n",
    "\n",
    "start_time = time.time()\n",
    "n_primes = 100\n",
    "primes = []\n",
    "i = 1\n",
    "while i >= 1:\n",
    "    prime_check = 0\n",
    "    for val in range(2, i + 1):\n",
    "        if (i + 1) % val == 0:\n",
    "            prime_check += 1\n",
    "    if prime_check == 0:\n",
    "        primes.append(i + 1)\n",
    "    i += 1\n",
    "    if len(primes) >= n_primes:\n",
    "        break\n",
    "print(f\"First {n_primes} prime numbers: {primes}\")\n",
    "print(f\"Run time: {(time.time() - start_time)} seconds\")"
   ]
  },
  {
   "cell_type": "markdown",
   "metadata": {},
   "source": [
    "4. Add a break somewhere to speed up your code (you should notice a smaller run time)."
   ]
  },
  {
   "cell_type": "code",
   "execution_count": 16,
   "metadata": {},
   "outputs": [
    {
     "name": "stdout",
     "output_type": "stream",
     "text": [
      "First 100 prime numbers: [2, 3, 5, 7, 11, 13, 17, 19, 23, 29, 31, 37, 41, 43, 47, 53, 59, 61, 67, 71, 73, 79, 83, 89, 97, 101, 103, 107, 109, 113, 127, 131, 137, 139, 149, 151, 157, 163, 167, 173, 179, 181, 191, 193, 197, 199, 211, 223, 227, 229, 233, 239, 241, 251, 257, 263, 269, 271, 277, 281, 283, 293, 307, 311, 313, 317, 331, 337, 347, 349, 353, 359, 367, 373, 379, 383, 389, 397, 401, 409, 419, 421, 431, 433, 439, 443, 449, 457, 461, 463, 467, 479, 487, 491, 499, 503, 509, 521, 523, 541]\n",
      "Run time: 0.005661964416503906 seconds\n"
     ]
    }
   ],
   "source": [
    "import time\n",
    "\n",
    "start_time = time.time()\n",
    "n_primes = 100\n",
    "primes = []\n",
    "i = 1\n",
    "while i >= 1:\n",
    "    prime_check = 0\n",
    "    for val in range(2, i + 1):\n",
    "        if (i + 1) % val == 0:\n",
    "            prime_check += 1\n",
    "            break\n",
    "    if prime_check == 0:\n",
    "        primes.append(i + 1)\n",
    "    i += 1\n",
    "    if len(primes) >= n_primes:\n",
    "        break\n",
    "print(f\"First {n_primes} prime numbers: {primes}\")\n",
    "print(f\"Run time: {(time.time() - start_time)} seconds\")"
   ]
  },
  {
   "cell_type": "markdown",
   "metadata": {},
   "source": [
    "5. Modify the range that you iterate through to speed up your code (you should notice a smaller run time). Hints: try using `math.sqrt()` (need to `import math` and be weary of type-casting errors)."
   ]
  },
  {
   "cell_type": "code",
   "execution_count": 17,
   "metadata": {},
   "outputs": [
    {
     "name": "stdout",
     "output_type": "stream",
     "text": [
      "First 100 prime numbers: [2, 3, 4, 5, 6, 7, 8, 9, 11, 13, 15, 17, 19, 23, 25, 29, 31, 35, 37, 41, 43, 47, 49, 53, 59, 61, 67, 71, 73, 79, 83, 89, 97, 101, 103, 107, 109, 113, 121, 127, 131, 137, 139, 143, 149, 151, 157, 163, 167, 169, 173, 179, 181, 191, 193, 197, 199, 211, 223, 227, 229, 233, 239, 241, 251, 257, 263, 269, 271, 277, 281, 283, 289, 293, 307, 311, 313, 317, 323, 331, 337, 347, 349, 353, 359, 361, 367, 373, 379, 383, 389, 397, 401, 409, 419, 421, 431, 433, 439, 443]\n",
      "Run time: 0.0021529197692871094 seconds\n"
     ]
    }
   ],
   "source": [
    "import time\n",
    "import math\n",
    "\n",
    "start_time = time.time()\n",
    "n_primes = 100\n",
    "primes = []\n",
    "i = 1\n",
    "while i >= 1:\n",
    "    prime_check = 0\n",
    "    for val in range(2, int(math.sqrt(i + 1))):\n",
    "        if (i + 1) % val == 0:\n",
    "            prime_check += 1\n",
    "            break\n",
    "    if prime_check == 0:\n",
    "        primes.append(i + 1)\n",
    "    i += 1\n",
    "    if len(primes) >= n_primes:\n",
    "        break\n",
    "print(f\"First {n_primes} prime numbers: {primes}\")\n",
    "print(f\"Run time: {(time.time() - start_time)} seconds\")"
   ]
  },
  {
   "cell_type": "markdown",
   "metadata": {},
   "source": [
    "6. Add a prompt that ask a person to input how many ordered primes they want to print."
   ]
  },
  {
   "cell_type": "code",
   "execution_count": 18,
   "metadata": {},
   "outputs": [
    {
     "name": "stdout",
     "output_type": "stream",
     "text": [
      "First 1 prime numbers: [2]\n",
      "Run time: 3.274599075317383 seconds\n"
     ]
    }
   ],
   "source": [
    "import time\n",
    "import math\n",
    "\n",
    "start_time = time.time()\n",
    "n_primes = int(input(\"How many ordered primes do you want to print?\"))\n",
    "primes = []\n",
    "i = 1\n",
    "while i >= 1:\n",
    "    prime_check = 0\n",
    "    for val in range(2, int(math.sqrt(i + 1))):\n",
    "        if (i + 1) % val == 0:\n",
    "            prime_check += 1\n",
    "            break\n",
    "    if prime_check == 0:\n",
    "        primes.append(i + 1)\n",
    "    i += 1\n",
    "    if len(primes) >= n_primes:\n",
    "        break\n",
    "print(f\"First {n_primes} prime numbers: {primes}\")\n",
    "print(f\"Run time: {(time.time() - start_time)} seconds\")"
   ]
  }
 ],
 "metadata": {
  "kernelspec": {
   "display_name": "Python 3 (ipykernel)",
   "language": "python",
   "name": "python3"
  },
  "language_info": {
   "codemirror_mode": {
    "name": "ipython",
    "version": 3
   },
   "file_extension": ".py",
   "mimetype": "text/x-python",
   "name": "python",
   "nbconvert_exporter": "python",
   "pygments_lexer": "ipython3",
   "version": "3.9.19"
  }
 },
 "nbformat": 4,
 "nbformat_minor": 4
}

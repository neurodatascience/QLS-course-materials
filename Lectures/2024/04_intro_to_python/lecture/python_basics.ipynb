{
 "cells": [
  {
   "cell_type": "markdown",
   "metadata": {
    "editable": true,
    "slideshow": {
     "slide_type": "slide"
    },
    "tags": []
   },
   "source": [
    "# QLSC 612: Introduction to Python\n",
    "\n",
    "[Link to slides used in the first part of the lecture](https://docs.google.com/presentation/d/1l1Ar8IQW32X-IMeTkMKI72NInndQwsudS_3xKc4p53E/edit?usp=sharing)\n",
    "\n",
    "<!-- \n",
    "Need to install RISE extension for converting notebooks to HTML slides:\n",
    "    pip install jupyterlab_rise\n",
    "Then open notebook in Jupyter Lab. There should be a button in the top right\n",
    "corner to render the notebook as a Reveal slideshow.\n",
    "-->\n",
    "\n",
    "<!-- \n",
    "Command to generate HTML slides and serve on HTTP server: \n",
    "    jupyter-nbconvert --to slides Intro_to_Python.ipynb --post serve  \n",
    "-->"
   ]
  },
  {
   "cell_type": "markdown",
   "metadata": {
    "editable": true,
    "slideshow": {
     "slide_type": "skip"
    },
    "tags": []
   },
   "source": [
    "## Note\n",
    "\n",
    "If you cloned the course materials repository from GitHub and wish to run/modify this notebook while following the lecture presentation, make a copy of this file (`python_basics.ipynb`) and edit that copy instead of this one. Otherwise, you might get merge conflicts when running `git pull` to get the latest version of the course materials."
   ]
  },
  {
   "cell_type": "markdown",
   "metadata": {
    "editable": true,
    "slideshow": {
     "slide_type": "slide"
    },
    "tags": []
   },
   "source": [
    "## Data types\n",
    "\n",
    "All data has a type in Python. The basic data types are:\n",
    "\n",
    "| Type     | Description              | Examples                |\n",
    "|----------|--------------------------|-------------------------|\n",
    "| `int`    | An integer               | `5`<br>`-5`             |\n",
    "| `float`  | A real number            | `5.0`<br>`5.`<br>`-5.0` |\n",
    "| `string` | A sequence of characters | `\"Hello\"`<br>`'1'`      |\n",
    "| `bool`   | A boolean value          | `True`<br>`False`       |\n"
   ]
  },
  {
   "cell_type": "markdown",
   "metadata": {
    "editable": true,
    "slideshow": {
     "slide_type": "subslide"
    },
    "tags": []
   },
   "source": [
    "Data types can be checked with the `type()` function:"
   ]
  },
  {
   "cell_type": "code",
   "execution_count": null,
   "metadata": {
    "editable": true,
    "slideshow": {
     "slide_type": ""
    },
    "tags": []
   },
   "outputs": [],
   "source": [
    "# comments start with a \"#\" symbol and are not executed by the interpreter\n",
    "print(type(5))\n",
    "print(type(5.0))\n",
    "print(type(\"Hello\"))\n",
    "print(type(True))"
   ]
  },
  {
   "cell_type": "markdown",
   "metadata": {},
   "source": [
    "Aside: the `help` function or your IDE can give you information about functions and their inputs/outputs\n",
    "\n",
    "Most libraries/packages should also have online documentation"
   ]
  },
  {
   "cell_type": "code",
   "execution_count": null,
   "metadata": {},
   "outputs": [],
   "source": [
    "help(print) # or hover over the function name in VS Code"
   ]
  },
  {
   "cell_type": "markdown",
   "metadata": {
    "editable": true,
    "slideshow": {
     "slide_type": "subslide"
    },
    "tags": []
   },
   "source": [
    "### Typecasting\n",
    "\n",
    "We can sometimes convert a variable from one type to another (typecasting).\n",
    "- **Implicit** typecasting is automatic\n",
    "    - e.g., `int` -> `float` during division\n",
    "- **Explicit** typecasting requires using a function (`str`, `int`, `float`, `bool`, etc.)\n",
    "    - Note that loss of data may occur (e.g., `float` -> `int`)"
   ]
  },
  {
   "cell_type": "code",
   "execution_count": null,
   "metadata": {
    "editable": true,
    "slideshow": {
     "slide_type": ""
    },
    "tags": []
   },
   "outputs": [],
   "source": [
    "123 + 489.0         # implicit typecasting (note that the output is a float)"
   ]
  },
  {
   "cell_type": "code",
   "execution_count": null,
   "metadata": {
    "editable": true,
    "slideshow": {
     "slide_type": ""
    },
    "tags": []
   },
   "outputs": [],
   "source": [
    "\"qlsc \" + str(612)  # explicit typecasting"
   ]
  },
  {
   "cell_type": "code",
   "execution_count": null,
   "metadata": {
    "editable": true,
    "slideshow": {
     "slide_type": ""
    },
    "tags": []
   },
   "outputs": [],
   "source": [
    "int(\"qlsc\")         # invalid"
   ]
  },
  {
   "cell_type": "markdown",
   "metadata": {
    "editable": true,
    "slideshow": {
     "slide_type": "slide"
    },
    "tags": []
   },
   "source": [
    "## Variables\n",
    "\n",
    "Variables are labels that point to some value. They are assigned using the assignment operator `=`."
   ]
  },
  {
   "cell_type": "code",
   "execution_count": null,
   "metadata": {
    "editable": true,
    "slideshow": {
     "slide_type": ""
    },
    "tags": []
   },
   "outputs": [],
   "source": [
    "# assigning a variable\n",
    "age = 12\n",
    "age"
   ]
  },
  {
   "cell_type": "markdown",
   "metadata": {},
   "source": [
    "What is the final value of `age`?"
   ]
  },
  {
   "cell_type": "code",
   "execution_count": null,
   "metadata": {
    "editable": true,
    "slideshow": {
     "slide_type": ""
    },
    "tags": []
   },
   "outputs": [],
   "source": [
    "# updating an existing variable\n",
    "age = 24\n",
    "age = age + 2\n",
    "age += 1  # add 1 to the value of 'age' and assign it back to 'age'\n",
    "age"
   ]
  },
  {
   "cell_type": "code",
   "execution_count": null,
   "metadata": {
    "editable": true,
    "slideshow": {
     "slide_type": ""
    },
    "tags": []
   },
   "outputs": [],
   "source": [
    "# variables can change type (Python is dynamically typed)\n",
    "age = 12\n",
    "age = \"twelve\" \n",
    "age"
   ]
  },
  {
   "cell_type": "markdown",
   "metadata": {
    "editable": true,
    "slideshow": {
     "slide_type": "slide"
    },
    "tags": []
   },
   "source": [
    "## Operators\n",
    "\n",
    "Common operators in Python are:\n",
    "\n",
    "| Type       | Operator(s)                                                               |\n",
    "|------------|---------------------------------------------------------------------------|\n",
    "| Assignment | `=`                                                                       |\n",
    "| Arithmetic | `+`, `-`, `*`, `/`, `//` (integer division), `**` (power), `%` (modulo)   |\n",
    "| Logical    | `not`, `and`, `or`                                                        |\n",
    "| Comparison | `==` (equal), `!=` (not equal), `>`, `>=`, `<`, `<=`                      |\n",
    "| Other      | `is`, `in`, [etc.](https://www.w3schools.com/python/python_operators.asp) |"
   ]
  },
  {
   "cell_type": "markdown",
   "metadata": {
    "editable": true,
    "slideshow": {
     "slide_type": "subslide"
    },
    "tags": []
   },
   "source": [
    "### Notes"
   ]
  },
  {
   "cell_type": "markdown",
   "metadata": {
    "editable": true,
    "jp-MarkdownHeadingCollapsed": true,
    "slideshow": {
     "slide_type": ""
    },
    "tags": []
   },
   "source": [
    "Assignment (`=`) and equality (`==`) are not the same!"
   ]
  },
  {
   "cell_type": "code",
   "execution_count": null,
   "metadata": {
    "editable": true,
    "slideshow": {
     "slide_type": ""
    },
    "tags": []
   },
   "outputs": [],
   "source": [
    "a = 5\n",
    "a = 4  # assign the value 4 to the variable 'a'\n",
    "a"
   ]
  },
  {
   "cell_type": "code",
   "execution_count": null,
   "metadata": {
    "editable": true,
    "slideshow": {
     "slide_type": ""
    },
    "tags": []
   },
   "outputs": [],
   "source": [
    "a = 5\n",
    "a == 4  # check equality"
   ]
  },
  {
   "cell_type": "markdown",
   "metadata": {
    "editable": true,
    "slideshow": {
     "slide_type": "fragment"
    },
    "tags": []
   },
   "source": [
    "Order matters! Use parentheses if needed"
   ]
  },
  {
   "cell_type": "code",
   "execution_count": null,
   "metadata": {
    "editable": true,
    "slideshow": {
     "slide_type": ""
    },
    "tags": []
   },
   "outputs": [],
   "source": [
    "a = 3\n",
    "a + a / a"
   ]
  },
  {
   "cell_type": "code",
   "execution_count": null,
   "metadata": {
    "editable": true,
    "slideshow": {
     "slide_type": ""
    },
    "tags": []
   },
   "outputs": [],
   "source": [
    "a = 3\n",
    "(a + a) / a"
   ]
  },
  {
   "cell_type": "markdown",
   "metadata": {
    "editable": true,
    "slideshow": {
     "slide_type": "subslide"
    },
    "tags": []
   },
   "source": [
    "### Aside: Operator overloading\n",
    "\n",
    "The `+` operator has defined behaviour for different data types."
   ]
  },
  {
   "cell_type": "code",
   "execution_count": null,
   "metadata": {
    "editable": true,
    "raw_mimetype": "",
    "slideshow": {
     "slide_type": ""
    },
    "tags": []
   },
   "outputs": [],
   "source": [
    "123 + 489        # integers"
   ]
  },
  {
   "cell_type": "code",
   "execution_count": null,
   "metadata": {
    "editable": true,
    "slideshow": {
     "slide_type": ""
    },
    "tags": []
   },
   "outputs": [],
   "source": [
    "\"qlsc \" + \"612\"  # strings"
   ]
  },
  {
   "cell_type": "markdown",
   "metadata": {
    "editable": true,
    "slideshow": {
     "slide_type": ""
    },
    "tags": []
   },
   "source": [
    "This is called **overloading** an operator. Understanding overloading requires deeper understanding of Python objects, which is beyond the scope of this lecture, but see this [article](https://www.programiz.com/python-programming/operator-overloading) if you are interested in learning about it."
   ]
  },
  {
   "cell_type": "markdown",
   "metadata": {
    "editable": true,
    "slideshow": {
     "slide_type": "slide"
    },
    "tags": []
   },
   "source": [
    "## Strings\n",
    "* A sequence of characters in between quotation marks (single or double, either works)"
   ]
  },
  {
   "cell_type": "code",
   "execution_count": null,
   "metadata": {
    "editable": true,
    "slideshow": {
     "slide_type": ""
    },
    "tags": []
   },
   "outputs": [],
   "source": [
    "message = \"Hello, I am a string\"\n",
    "message"
   ]
  },
  {
   "cell_type": "markdown",
   "metadata": {},
   "source": [
    "### f-strings\n",
    "- Special syntax for formatting strings\n",
    "- They are more readable than string concatenation or older formatting methods\n",
    "- Using an `f` before the first quotation mark and curly brackets inside the string\n",
    "\n",
    "More information [here](https://docs.python.org/3/tutorial/inputoutput.html#formatted-string-literals)"
   ]
  },
  {
   "cell_type": "code",
   "execution_count": null,
   "metadata": {},
   "outputs": [],
   "source": [
    "my_variable = 123\n",
    "\n",
    "# note the \"f\" before the string\n",
    "# also note the syntax highlighting\n",
    "print(f\"The content of my_variable is: {my_variable}\")\n",
    "print(f\"Adding 489 to my_variable gives: {my_variable + 489}\")"
   ]
  },
  {
   "cell_type": "markdown",
   "metadata": {
    "editable": true,
    "slideshow": {
     "slide_type": "subslide"
    },
    "tags": []
   },
   "source": [
    "### String indexing\n",
    "* String indexing allows you to access a particular character in a string\n",
    "* Using square brackets\n",
    "* Indexing starts at 0 in Python!"
   ]
  },
  {
   "cell_type": "code",
   "execution_count": null,
   "metadata": {
    "editable": true,
    "slideshow": {
     "slide_type": ""
    },
    "tags": []
   },
   "outputs": [],
   "source": [
    "message = \"Hello, I am a string\"\n",
    "\n",
    "print(f\"The first character of the string is:       {message[0]}\")\n",
    "print(f\"The second character of the string is:      {message[1]}\")\n",
    "print(f\"The last character of the string is:        {message[-1]}\")\n",
    "print(f\"The penultimate character of the string is: {message[-2]}\")"
   ]
  },
  {
   "cell_type": "markdown",
   "metadata": {
    "editable": true,
    "slideshow": {
     "slide_type": "subslide"
    },
    "tags": []
   },
   "source": [
    "### String slicing\n",
    "\n",
    "* Selecting a substring from a string.\n",
    "* The first index is where the slice starts (inclusive), second index is where the slice ends (exclusive)"
   ]
  },
  {
   "cell_type": "code",
   "execution_count": null,
   "metadata": {
    "editable": true,
    "slideshow": {
     "slide_type": "-"
    },
    "tags": []
   },
   "outputs": [],
   "source": [
    "message = \"Hello, I am a string\"\n",
    "\n",
    "print(f\"Slicing from the 8th to the last character: {message[7:]}\")\n",
    "print(f\"Slicing from the 8th to the 11th character: {message[7:11]}\")\n",
    "print(f\"Slicing with negative indices (7 to -7):    {message[7:-7]}\")"
   ]
  },
  {
   "cell_type": "markdown",
   "metadata": {
    "editable": true,
    "slideshow": {
     "slide_type": "subslide"
    },
    "tags": []
   },
   "source": [
    "### Strings are immutable: they cannot be modified"
   ]
  },
  {
   "cell_type": "code",
   "execution_count": null,
   "metadata": {
    "editable": true,
    "scrolled": true,
    "slideshow": {
     "slide_type": ""
    },
    "tags": []
   },
   "outputs": [],
   "source": [
    "message = \"Hello, I am a string\"\n",
    "message[1] = \"Y\""
   ]
  },
  {
   "cell_type": "markdown",
   "metadata": {},
   "source": [
    "We can make a new string and assign it to the same variable.\n",
    "\n",
    "This is **not** changing \n",
    "the original string (though nothing is pointing to it anymore so it will be garbage collected) "
   ]
  },
  {
   "cell_type": "code",
   "execution_count": null,
   "metadata": {
    "editable": true,
    "slideshow": {
     "slide_type": ""
    },
    "tags": []
   },
   "outputs": [],
   "source": [
    "message = \"Hello, I am a string\"\n",
    "message = \"Y\" + message[1:]\n",
    "message"
   ]
  },
  {
   "cell_type": "markdown",
   "metadata": {
    "editable": true,
    "slideshow": {
     "slide_type": "subslide"
    },
    "tags": []
   },
   "source": [
    "### Some operations on strings and string methods\n",
    "See the [documentation](https://docs.python.org/3/library/stdtypes.html#string-methods) for more!"
   ]
  },
  {
   "cell_type": "code",
   "execution_count": null,
   "metadata": {
    "editable": true,
    "slideshow": {
     "slide_type": "-"
    },
    "tags": []
   },
   "outputs": [],
   "source": [
    "message = \"This is a string!\"\n",
    "\n",
    "print(f\"The length of the string is: {len(message)}\")  # length of strings\n",
    "\n",
    "print(f\"Is the substring 'string' inside my string? {'string' in message}\")  # True if \"string\" is inside the message variable\n",
    "\n",
    "print(f\"Number of times the character 'i' appears in the string: {message.count('i')}\")\n",
    "\n",
    "print(f\"The index of the first time the substring 's' appears in the string: {message.find('s')}\")    # finds the index of the first 's' it finds in the string"
   ]
  },
  {
   "cell_type": "markdown",
   "metadata": {},
   "source": [
    "String methods are available for any string (do not have to be a variable):"
   ]
  },
  {
   "cell_type": "code",
   "execution_count": null,
   "metadata": {},
   "outputs": [],
   "source": [
    "print(\"Another.string\".replace(\".\", \" \"))"
   ]
  },
  {
   "cell_type": "markdown",
   "metadata": {
    "editable": true,
    "jp-MarkdownHeadingCollapsed": true,
    "slideshow": {
     "slide_type": "slide"
    },
    "tags": []
   },
   "source": [
    "## Lists\n",
    "\n",
    "* Store multiple items in a single variable\n",
    "* Comma-separated items between square brackets\n",
    "* Items in a list can have **different types**\n",
    "* Lists are **ordered**: each item has a position (index)\n",
    "    * `[1,2,3]` is not the same as `[3,2,1]`\n",
    "* Lists are **mutable**: can be changed without entirely recreating the list\n",
    "    * Elements can be modified, replaced, added, deleted, order changed"
   ]
  },
  {
   "cell_type": "code",
   "execution_count": null,
   "metadata": {
    "editable": true,
    "slideshow": {
     "slide_type": ""
    },
    "tags": []
   },
   "outputs": [],
   "source": [
    "my_list = [1, '2', 345., True]\n",
    "my_list"
   ]
  },
  {
   "cell_type": "markdown",
   "metadata": {
    "editable": true,
    "slideshow": {
     "slide_type": "subslide"
    },
    "tags": []
   },
   "source": [
    "### Some list operations\n",
    "\n",
    "There is some overlap with string operations. See the [documentation](https://docs.python.org/3/library/stdtypes.html#lists) for more!"
   ]
  },
  {
   "cell_type": "code",
   "execution_count": null,
   "metadata": {
    "editable": true,
    "slideshow": {
     "slide_type": ""
    },
    "tags": []
   },
   "outputs": [],
   "source": [
    "my_list = [1, '2', 345., True]\n",
    "\n",
    "print(f\"The first element of my_list is: {my_list[0]}\") # list indexing (just like strings)\n",
    "\n",
    "print(f\"The first three elements of my_list are: {my_list[0:3]}\") # list slicing (just like strings)\n",
    "\n",
    "print(f\"The number of items of my_list is: {len(my_list)}\")\n",
    "\n",
    "print(f\"Is the element 345 in my_list? {345 in my_list}\")"
   ]
  },
  {
   "cell_type": "markdown",
   "metadata": {
    "editable": true,
    "slideshow": {
     "slide_type": "subslide"
    },
    "tags": []
   },
   "source": [
    "### Modifying a list\n",
    "\n",
    "Possible because lists are mutable (unlike strings)"
   ]
  },
  {
   "cell_type": "code",
   "execution_count": null,
   "metadata": {
    "editable": true,
    "slideshow": {
     "slide_type": ""
    },
    "tags": []
   },
   "outputs": [],
   "source": [
    "my_list = [1, 2, 345, 42]\n",
    "\n",
    "print(my_list.append(\"hello\"))  # this does not return anything\n",
    "print(my_list)  # my_list is changed"
   ]
  },
  {
   "cell_type": "markdown",
   "metadata": {},
   "source": [
    "A list can have another list as one (or more) of its items"
   ]
  },
  {
   "cell_type": "code",
   "execution_count": null,
   "metadata": {
    "editable": true,
    "slideshow": {
     "slide_type": ""
    },
    "tags": []
   },
   "outputs": [],
   "source": [
    "my_list = [1, 2, 345, 42]\n",
    "print(f\"Initial list: {my_list}\")\n",
    "my_list.append([3, \"hi\", 4])  # appending a list to a list\n",
    "print(f\"After append: {my_list}\")\n",
    "print(f\"Accessing an element within the inner list: {my_list[-1][0]}\")  # access the first element ( [0] ) of the list within a list"
   ]
  },
  {
   "cell_type": "markdown",
   "metadata": {},
   "source": [
    "Unlike strings, list items can be freely modified/deleted"
   ]
  },
  {
   "cell_type": "code",
   "execution_count": null,
   "metadata": {
    "editable": true,
    "slideshow": {
     "slide_type": ""
    },
    "tags": []
   },
   "outputs": [],
   "source": [
    "my_list[0] = 22  # change the value\n",
    "my_list"
   ]
  },
  {
   "cell_type": "code",
   "execution_count": null,
   "metadata": {
    "editable": true,
    "slideshow": {
     "slide_type": ""
    },
    "tags": []
   },
   "outputs": [],
   "source": [
    "del my_list[0]  # deleting an item by index\n",
    "my_list"
   ]
  },
  {
   "cell_type": "markdown",
   "metadata": {},
   "source": [
    "We can concatenate lists with the `+` operator (this creates a new list)"
   ]
  },
  {
   "cell_type": "code",
   "execution_count": null,
   "metadata": {
    "editable": true,
    "slideshow": {
     "slide_type": ""
    },
    "tags": []
   },
   "outputs": [],
   "source": [
    "list1 = [1, 2, 3]\n",
    "list2 = [4, 5, 6]\n",
    "list3 = list1 + list2\n",
    "list3"
   ]
  },
  {
   "cell_type": "markdown",
   "metadata": {
    "editable": true,
    "slideshow": {
     "slide_type": "subslide"
    },
    "tags": []
   },
   "source": [
    "### Be careful when assigning a list to multiple variables!"
   ]
  },
  {
   "cell_type": "code",
   "execution_count": null,
   "metadata": {
    "editable": true,
    "slideshow": {
     "slide_type": ""
    },
    "tags": []
   },
   "outputs": [],
   "source": [
    "listA = [0]\n",
    "print(f\"listA, before append: {listA}\")\n",
    "listB = listA\n",
    "print(f\"listB, before append: {listB}\")\n",
    "listA.append(1)\n",
    "print(f\"listA, after append: {listA}\")\n",
    "\n",
    "# what are the contents of listB now? [0] or [0, 1]?"
   ]
  },
  {
   "cell_type": "code",
   "execution_count": null,
   "metadata": {
    "editable": true,
    "slideshow": {
     "slide_type": ""
    },
    "tags": []
   },
   "outputs": [],
   "source": [
    "print(f\"listB, after append: {listB}\")"
   ]
  },
  {
   "cell_type": "markdown",
   "metadata": {
    "editable": true,
    "slideshow": {
     "slide_type": "fragment"
    },
    "tags": []
   },
   "source": [
    "### How can we copy a list?"
   ]
  },
  {
   "cell_type": "code",
   "execution_count": null,
   "metadata": {
    "editable": true,
    "slideshow": {
     "slide_type": ""
    },
    "tags": []
   },
   "outputs": [],
   "source": [
    "listA = [0]\n",
    "print(f\"listA, before append: {listA}\")\n",
    "listB = listA[:]  # this creates a copy of the list, they are no longer the same\n",
    "print(f\"listB, before append: {listB}\")\n",
    "listA.append(1)\n",
    "print(f\"listA, after append: {listA}\")\n",
    "print(f\"listB, after append: {listB}\")"
   ]
  },
  {
   "cell_type": "markdown",
   "metadata": {
    "editable": true,
    "slideshow": {
     "slide_type": ""
    },
    "tags": []
   },
   "source": [
    "See also: [shallow vs deep copies](https://medium.com/@thawsitt/assignment-vs-shallow-copy-vs-deep-copy-in-python-f70c2f0ebd86)"
   ]
  },
  {
   "cell_type": "markdown",
   "metadata": {
    "editable": true,
    "slideshow": {
     "slide_type": "slide"
    },
    "tags": []
   },
   "source": [
    "## Tuples\n",
    "* Similar to lists (**ordered**), but **immutable**: they cannot be changed once they are created\n",
    "* Declared as a comma-separated list within round brackets\n",
    "* **They are allocated more efficiently than lists, and use less memory**\n",
    "* Many of the operations and functions we saw for lists also work on tuples (any of them that don't update the tuple)\n",
    "* See the [documentation](https://docs.python.org/3/library/stdtypes.html#tuples) for more!"
   ]
  },
  {
   "cell_type": "code",
   "execution_count": null,
   "metadata": {
    "editable": true,
    "slideshow": {
     "slide_type": ""
    },
    "tags": []
   },
   "outputs": [],
   "source": [
    "fruit_tuple = (\"apple\", \"orange\", \"banana\", \"guanabana\")\n",
    "fruit_tuple[3]  # tuple indexing (same as for lists/strings)"
   ]
  },
  {
   "cell_type": "code",
   "execution_count": null,
   "metadata": {
    "editable": true,
    "slideshow": {
     "slide_type": ""
    },
    "tags": []
   },
   "outputs": [],
   "source": [
    "fruit_tuple[3] = \"grape\"  # trying to modify a tuple will cause an error"
   ]
  },
  {
   "cell_type": "markdown",
   "metadata": {
    "editable": true,
    "slideshow": {
     "slide_type": "subslide"
    },
    "tags": []
   },
   "source": [
    "### Typecasting between lists and tuples"
   ]
  },
  {
   "cell_type": "code",
   "execution_count": null,
   "metadata": {
    "editable": true,
    "slideshow": {
     "slide_type": "-"
    },
    "tags": []
   },
   "outputs": [],
   "source": [
    "# we can convert a tuple into a list (and vice-versa)\n",
    "this_tuple = (1, 2, 3)\n",
    "this_list = list(this_tuple)\n",
    "this_list"
   ]
  },
  {
   "cell_type": "markdown",
   "metadata": {
    "editable": true,
    "slideshow": {
     "slide_type": "slide"
    },
    "tags": []
   },
   "source": [
    "## Dictionaries\n",
    "* Dictionaries store entries as **key:value** pairs. Values can be accessed through their keys\n",
    "    * They are an implementation of the [*hashmap*](https://en.wikipedia.org/wiki/Hash_table) data structure\n",
    "* They are **mutable** and **ordered as of Python 3.7** (before 3.7, they were not ordered)\n",
    "* Duplicate keys are not allowed\n",
    "* They are commonly used to store datasets, and to retrieve values from the dataset by specifying the corresponding key\n",
    "* To define them, you enclose a comma-separated list of key-value pairs (key and value are separated by a colon) in curly braces\n",
    "* Will see the basic functionality of these data structures, but will not go into too much in depth"
   ]
  },
  {
   "cell_type": "code",
   "execution_count": null,
   "metadata": {
    "editable": true,
    "slideshow": {
     "slide_type": ""
    },
    "tags": []
   },
   "outputs": [],
   "source": [
    "# keys can be any hashable immutable type, such as strings, integers, tuples\n",
    "fruits_available = {\"apples\": 3, \"oranges\": 9, \"bananas\": 12, \"guanabana\": 0}\n",
    "print(f'fruits_available is a dictionary that contains: {fruits_available}')\n",
    "\n",
    "# accessing the value associated to the \"apples\" key\n",
    "print(f\"The number of apples available is: {fruits_available['apples']}\")"
   ]
  },
  {
   "cell_type": "markdown",
   "metadata": {
    "editable": true,
    "slideshow": {
     "slide_type": "subslide"
    },
    "tags": []
   },
   "source": [
    "### Modifying a dictionary\n",
    "\n",
    "Adding a new entry:"
   ]
  },
  {
   "cell_type": "code",
   "execution_count": null,
   "metadata": {},
   "outputs": [],
   "source": [
    "print(f'Before: {fruits_available}')\n",
    "fruits_available[\"cherries\"] = 10\n",
    "print(f'After: {fruits_available}')"
   ]
  },
  {
   "cell_type": "markdown",
   "metadata": {},
   "source": [
    "Modifying an existing entry:"
   ]
  },
  {
   "cell_type": "code",
   "execution_count": null,
   "metadata": {},
   "outputs": [],
   "source": [
    "fruits_available[\"apples\"] += 1\n",
    "print(f\"The number of apples available has been updated: {fruits_available['apples']}\")"
   ]
  },
  {
   "cell_type": "markdown",
   "metadata": {},
   "source": [
    "Deleting an entry:"
   ]
  },
  {
   "cell_type": "code",
   "execution_count": null,
   "metadata": {},
   "outputs": [],
   "source": [
    "print(f'Before: {fruits_available}')\n",
    "del fruits_available[\"apples\"]\n",
    "print(f'After: {fruits_available}') # no more apples"
   ]
  },
  {
   "cell_type": "markdown",
   "metadata": {},
   "source": [
    "### Nested dictionaries\n",
    "\n",
    "Use multiple key levels to access inner dictionaries"
   ]
  },
  {
   "cell_type": "code",
   "execution_count": null,
   "metadata": {
    "editable": true,
    "slideshow": {
     "slide_type": ""
    },
    "tags": []
   },
   "outputs": [],
   "source": [
    "# we can nest dictionaries inside other dictionaries\n",
    "fruits_nutrition = {\n",
    "    \"apple\": {\"calories\": 54, \"water_percent\": 86, \"fibre_grams\": 2.4},\n",
    "    \"orange\": {\"calories\": 60, \"water_percent\": 86, \"fibre_grams\": 3.0},\n",
    "}\n",
    "print(f\"An apple has {fruits_nutrition['apple']['calories']} calories\")  # note the two key levels"
   ]
  },
  {
   "cell_type": "markdown",
   "metadata": {
    "editable": true,
    "slideshow": {
     "slide_type": "subslide"
    },
    "tags": []
   },
   "source": [
    "### Some dictionary methods\n",
    "\n",
    "See the [documentation](https://docs.python.org/3/library/stdtypes.html#dict) for more!"
   ]
  },
  {
   "cell_type": "code",
   "execution_count": null,
   "metadata": {
    "editable": true,
    "slideshow": {
     "slide_type": ""
    },
    "tags": []
   },
   "outputs": [],
   "source": [
    "fruits_nutrition = {\n",
    "    \"apple\": {\"calories\": 54, \"water_percent\": 86, \"fibre_grams\": 2.4},\n",
    "    \"orange\": {\"calories\": 60, \"water_percent\": 86, \"fibre_grams\": 3.0},\n",
    "}\n",
    "\n",
    "# list the keys or values\n",
    "print(f\"The available fruits are: {fruits_nutrition.keys()}\")\n",
    "print(f\"Their respective nutritional contents are: {fruits_nutrition.keys()}\")"
   ]
  },
  {
   "cell_type": "code",
   "execution_count": null,
   "metadata": {},
   "outputs": [],
   "source": [
    "# alternative way to obtain a value from a key\n",
    "print(fruits_nutrition.get(\"apple\"))\n",
    "\n",
    "# can test if entry exists without causing a KeyError if it doesn't\n",
    "print(fruits_nutrition.get(\"blahblah\"))\n",
    "\n",
    "# # said KeyError\n",
    "# fruits_nutrition[\"blahblah\"]"
   ]
  },
  {
   "cell_type": "markdown",
   "metadata": {
    "editable": true,
    "slideshow": {
     "slide_type": "slide"
    },
    "tags": []
   },
   "source": [
    "## Sets (very briefly)\n",
    "\n",
    "* They are **unordered** and **mutable**\n",
    "* They cannot contain duplicate items\n",
    "* See the [documentation](https://docs.python.org/3/library/stdtypes.html#set) for more information (set operations, set methods, etc.)!"
   ]
  },
  {
   "cell_type": "code",
   "execution_count": null,
   "metadata": {
    "editable": true,
    "slideshow": {
     "slide_type": ""
    },
    "tags": []
   },
   "outputs": [],
   "source": [
    "list_with_duplicates = [1, 2, 3, 1, 2, 3]\n",
    "unique_items = list(set(list_with_duplicates))  # cast to set, then back to list\n",
    "print(f\"list_with_duplicates: {list_with_duplicates}\")\n",
    "print(f\"unique_items:         {unique_items}\")"
   ]
  },
  {
   "cell_type": "markdown",
   "metadata": {
    "editable": true,
    "slideshow": {
     "slide_type": "slide"
    },
    "tags": []
   },
   "source": [
    "## `if` statements\n",
    "* The code within an `if` statement is only executed if the specified condition evaluates to `True`\n",
    "* The code can make decisions based on conditions\n",
    "* Can be followed by many `elif` blocks and an `else` block at the end"
   ]
  },
  {
   "cell_type": "code",
   "execution_count": null,
   "metadata": {
    "editable": true,
    "slideshow": {
     "slide_type": ""
    },
    "tags": []
   },
   "outputs": [],
   "source": [
    "x = 7\n",
    "# x = 2\n",
    "# x = 3\n",
    "y = 3\n",
    "\n",
    "# the code inside an if statement must be indented\n",
    "if x > y:\n",
    "    print(\"x is bigger than y\")\n",
    "# chaining other conditions with \"elif\"\n",
    "elif x < y:\n",
    "    print(\"x is smaller than y\")\n",
    "# executed if none of the previous blocks is executed\n",
    "else:\n",
    "    print(\"x and y are equal\")"
   ]
  },
  {
   "cell_type": "code",
   "execution_count": null,
   "metadata": {
    "editable": true,
    "slideshow": {
     "slide_type": ""
    },
    "tags": []
   },
   "outputs": [],
   "source": [
    "# we can combine operators to build more complex conditionals\n",
    "if y == 3 or (x in [2, 3, 7]):\n",
    "    print(\"Bingo\")"
   ]
  },
  {
   "cell_type": "markdown",
   "metadata": {
    "editable": true,
    "slideshow": {
     "slide_type": "slide"
    },
    "tags": []
   },
   "source": [
    "## Loops\n",
    "* A loop is a sequence of code that is repeated until a certain condition is met\n",
    "* There are two main types of loops, `for` loops and `while` loops\n",
    "* All `for` loops can be written as `while` loops, and vice-versa. Just use whichever makes your life easier\n",
    "\n",
    "### `while` loops: execute code for as long as a condition is true"
   ]
  },
  {
   "cell_type": "code",
   "execution_count": null,
   "metadata": {
    "editable": true,
    "slideshow": {
     "slide_type": ""
    },
    "tags": []
   },
   "outputs": [],
   "source": [
    "i = 1  # initialize our counter\n",
    "while i < 6:\n",
    "    print(i)\n",
    "    i += 1 # increment by 1"
   ]
  },
  {
   "cell_type": "markdown",
   "metadata": {
    "editable": true,
    "slideshow": {
     "slide_type": "subslide"
    },
    "tags": []
   },
   "source": [
    "### The `break` statement can terminate a loop early"
   ]
  },
  {
   "cell_type": "code",
   "execution_count": null,
   "metadata": {
    "editable": true,
    "scrolled": true,
    "slideshow": {
     "slide_type": ""
    },
    "tags": []
   },
   "outputs": [],
   "source": [
    "i = 1\n",
    "while i < 6:\n",
    "    print(i)\n",
    "    if i == 3:  # exit the loop when i takes the value of 3\n",
    "        break\n",
    "    i += 1"
   ]
  },
  {
   "cell_type": "markdown",
   "metadata": {
    "editable": true,
    "slideshow": {
     "slide_type": "fragment"
    },
    "tags": []
   },
   "source": [
    "### Iterating over a list"
   ]
  },
  {
   "cell_type": "code",
   "execution_count": null,
   "metadata": {
    "editable": true,
    "slideshow": {
     "slide_type": ""
    },
    "tags": []
   },
   "outputs": [],
   "source": [
    "# using a while loop to iterate over a list\n",
    "my_list = [\"orange\", \"apples\", \"bananas\"]\n",
    "x = 0\n",
    "while x < len(my_list):\n",
    "    print(my_list[x])\n",
    "    x += 1  # increment the index"
   ]
  },
  {
   "cell_type": "markdown",
   "metadata": {
    "editable": true,
    "slideshow": {
     "slide_type": "subslide"
    },
    "tags": []
   },
   "source": [
    "### `for` loops: an easier way to iterate over a sequence (strings/lists/dicts/tuples/etc.)"
   ]
  },
  {
   "cell_type": "code",
   "execution_count": null,
   "metadata": {
    "editable": true,
    "slideshow": {
     "slide_type": ""
    },
    "tags": []
   },
   "outputs": [],
   "source": [
    "my_list = [\"orange\", \"apples\", \"bananas\"]\n",
    "for x in my_list:\n",
    "    print(x)"
   ]
  },
  {
   "cell_type": "code",
   "execution_count": null,
   "metadata": {
    "editable": true,
    "slideshow": {
     "slide_type": ""
    },
    "tags": []
   },
   "outputs": [],
   "source": [
    "for y in range(3):  # in range(n) - from 0 to n-1, so here it's from from 0 to 2\n",
    "    print(y)"
   ]
  },
  {
   "cell_type": "markdown",
   "metadata": {
    "editable": true,
    "slideshow": {
     "slide_type": "subslide"
    },
    "tags": []
   },
   "source": [
    "#### More `for` loop examples\n",
    "\n",
    "The `range` function takes up to 3 arguments: `start`, `stop`, `step`"
   ]
  },
  {
   "cell_type": "code",
   "execution_count": null,
   "metadata": {
    "editable": true,
    "slideshow": {
     "slide_type": ""
    },
    "tags": []
   },
   "outputs": [],
   "source": [
    "for y in range(3, 13, 3):  # from 3 to 12, in steps of 3\n",
    "    print(y)"
   ]
  },
  {
   "cell_type": "markdown",
   "metadata": {},
   "source": [
    "`for` loops can be used to directly iterate over lists, tuples, sets, dictionaries, strings, and many other data types\n",
    "\n",
    "See [here](https://www.w3schools.com/python/python_iterators.asp) for the requirements to be \"iterable\" in Python "
   ]
  },
  {
   "cell_type": "code",
   "execution_count": null,
   "metadata": {
    "editable": true,
    "slideshow": {
     "slide_type": ""
    },
    "tags": []
   },
   "outputs": [],
   "source": [
    "for character in \"string\":  # loop over a string's characters\n",
    "    print(character)"
   ]
  },
  {
   "cell_type": "markdown",
   "metadata": {
    "editable": true,
    "slideshow": {
     "slide_type": "subslide"
    },
    "tags": []
   },
   "source": [
    "### Iterating over a dictionary"
   ]
  },
  {
   "cell_type": "code",
   "execution_count": null,
   "metadata": {
    "editable": true,
    "slideshow": {
     "slide_type": ""
    },
    "tags": []
   },
   "outputs": [],
   "source": [
    "fruits_nutrition = {\n",
    "    \"apple\": {\"calories\": 54, \"water_percent\": 86, \"fibre_grams\": 2.4},\n",
    "    \"orange\": {\"calories\": 60, \"water_percent\": 86, \"fibre_grams\": 3.0},\n",
    "    \"banana\": {\"calories\": 89, \"water_percent\": 75, \"fibre_grams\": 2.6},\n",
    "}\n",
    "\n",
    "for key in fruits_nutrition:  # loop over the keys\n",
    "    print(key)"
   ]
  },
  {
   "cell_type": "code",
   "execution_count": null,
   "metadata": {
    "editable": true,
    "slideshow": {
     "slide_type": ""
    },
    "tags": []
   },
   "outputs": [],
   "source": [
    "for item in fruits_nutrition.items():  # loop over keys and values\n",
    "    print(item)"
   ]
  },
  {
   "cell_type": "code",
   "execution_count": null,
   "metadata": {
    "editable": true,
    "slideshow": {
     "slide_type": ""
    },
    "tags": []
   },
   "outputs": [],
   "source": [
    "for key, value in fruits_nutrition.items():  # have access to both keys and values as you loop (unpack the tuple)\n",
    "    print(f\"{key} --> {value['calories']} calories\")"
   ]
  },
  {
   "cell_type": "markdown",
   "metadata": {
    "editable": true,
    "slideshow": {
     "slide_type": "subslide"
    },
    "tags": []
   },
   "source": [
    "### Nested loops: loops within a loop\n",
    "\n",
    "Keep in mind that too much nesting can slow down code!\n",
    "\n",
    "Note: a `break` statement inside a nested loop only terminates the inner loop"
   ]
  },
  {
   "cell_type": "code",
   "execution_count": null,
   "metadata": {
    "editable": true,
    "slideshow": {
     "slide_type": ""
    },
    "tags": []
   },
   "outputs": [],
   "source": [
    "# what does this code do?\n",
    "\n",
    "my_list = [\"orange\", \"apples\", \"bananas\"]\n",
    "\n",
    "for item in my_list:\n",
    "    x = 1\n",
    "    # the inner 'nested' loop has to finish before the next iteration of the outer loop\n",
    "    while x <= 3:\n",
    "        print(item)  # notice the double indentation below\n",
    "        x += 1"
   ]
  },
  {
   "cell_type": "markdown",
   "metadata": {
    "editable": true,
    "slideshow": {
     "slide_type": "subslide"
    },
    "tags": []
   },
   "source": [
    "### List comprehension\n",
    "\n",
    "A quick way to create lists based on an existing iterable\n",
    "\n",
    "To use with moderation -- the code should still be easily understandable"
   ]
  },
  {
   "cell_type": "code",
   "execution_count": null,
   "metadata": {
    "editable": true,
    "slideshow": {
     "slide_type": ""
    },
    "tags": []
   },
   "outputs": [],
   "source": [
    "my_list = [\"orange\", \"apples\", \"bananas\"]\n",
    "\n",
    "my_new_list = [item for item in my_list if item[-1] == \"s\"]\n",
    "my_new_list"
   ]
  },
  {
   "cell_type": "markdown",
   "metadata": {
    "editable": true,
    "slideshow": {
     "slide_type": "slide"
    },
    "tags": []
   },
   "source": [
    "## Errors and exception handling\n",
    "\n",
    "If code is not used correctly, it should raise an error"
   ]
  },
  {
   "cell_type": "code",
   "execution_count": null,
   "metadata": {
    "editable": true,
    "scrolled": true,
    "slideshow": {
     "slide_type": ""
    },
    "tags": []
   },
   "outputs": [],
   "source": [
    "# we get a TypeError if we use an operator incorrectly\n",
    "user_input = \"not_a_number\"\n",
    "0 < user_input"
   ]
  },
  {
   "cell_type": "code",
   "execution_count": null,
   "metadata": {
    "editable": true,
    "slideshow": {
     "slide_type": ""
    },
    "tags": []
   },
   "outputs": [],
   "source": [
    "# we get a NameError if we use an underfined variable\n",
    "this_variable_does_not_exist"
   ]
  },
  {
   "cell_type": "markdown",
   "metadata": {
    "editable": true,
    "slideshow": {
     "slide_type": "subslide"
    },
    "tags": []
   },
   "source": [
    "### Raising errors\n",
    "\n",
    "We can raise our own errors in our code"
   ]
  },
  {
   "cell_type": "code",
   "execution_count": null,
   "metadata": {
    "editable": true,
    "slideshow": {
     "slide_type": ""
    },
    "tags": []
   },
   "outputs": [],
   "source": [
    "input_number = -1\n",
    "if input_number < 0:\n",
    "    raise ValueError(f\"Number cannot be negative, got {input_number}\")"
   ]
  },
  {
   "cell_type": "markdown",
   "metadata": {
    "editable": true,
    "slideshow": {
     "slide_type": ""
    },
    "tags": []
   },
   "source": [
    "See the [documentation](https://docs.python.org/3/library/exceptions.html) for built-in exceptions in Python"
   ]
  },
  {
   "cell_type": "markdown",
   "metadata": {
    "editable": true,
    "scrolled": true,
    "slideshow": {
     "slide_type": "subslide"
    },
    "tags": []
   },
   "source": [
    "### The `try`/`except`/`finally` blocks\n",
    "\n",
    "They allow use to gracefully handle errors that we know we might encounter\n",
    "\n",
    "* Code inside a `try` block lets you test the code for errors\n",
    "* The `except` block lets you decide what to do in the case that there is an error inside the `try` block\n",
    "* The `finally` block allowed you to execute code regardless of the result of the `try` and `except` blocks"
   ]
  },
  {
   "cell_type": "code",
   "execution_count": null,
   "metadata": {
    "editable": true,
    "slideshow": {
     "slide_type": ""
    },
    "tags": []
   },
   "outputs": [],
   "source": [
    "try:\n",
    "    # the code inside the try block is tested for error\n",
    "    # the variable \"w\" has not been defined, so we will get a NameError\n",
    "    print(w)\n",
    "except Exception as exception:\n",
    "    # the code inside the except block is executed if there are errors\n",
    "    # the program does not crash with an error\n",
    "    print(f\"An exception was caught! The exception was: {type(exception)} {exception}\")"
   ]
  },
  {
   "cell_type": "markdown",
   "metadata": {
    "editable": true,
    "slideshow": {
     "slide_type": "subslide"
    },
    "tags": []
   },
   "source": [
    "### Using multiple `except` blocks\n",
    "\n",
    "Go from more specific to more general"
   ]
  },
  {
   "cell_type": "code",
   "execution_count": null,
   "metadata": {
    "editable": true,
    "slideshow": {
     "slide_type": ""
    },
    "tags": []
   },
   "outputs": [],
   "source": [
    "try:\n",
    "    # print(int('w')) # TypeError\n",
    "    print(w)  # NameError\n",
    "\n",
    "# the code throws a name error when it fails outside a try block\n",
    "# so if we know this is a possibility, we catch it specifically.\n",
    "except NameError:\n",
    "    print(\"Variable w is not defined\")\n",
    "\n",
    "# and this code catches more general errors, in case something else unexpected goes wrong.\n",
    "except Exception:\n",
    "    print(\"Something else went wrong\")"
   ]
  },
  {
   "cell_type": "markdown",
   "metadata": {
    "editable": true,
    "slideshow": {
     "slide_type": "subslide"
    },
    "tags": []
   },
   "source": [
    "### Code in the `finally` block is always executed"
   ]
  },
  {
   "cell_type": "code",
   "execution_count": null,
   "metadata": {
    "editable": true,
    "slideshow": {
     "slide_type": ""
    },
    "tags": []
   },
   "outputs": [],
   "source": [
    "try:\n",
    "    print(w)\n",
    "    print(\"w is defined\")\n",
    "except NameError:\n",
    "    print(\"Caught a NameError!\")\n",
    "finally:\n",
    "    print(\"This always executes (error or no error)\")"
   ]
  },
  {
   "cell_type": "markdown",
   "metadata": {
    "editable": true,
    "slideshow": {
     "slide_type": "slide"
    },
    "tags": []
   },
   "source": [
    "## Functions\n",
    "\n",
    "* Block of organized, reusable code that is typically used to perform a single action\n",
    "  * Increase modularity and maintainability\n",
    "  * \"Don't Repeat Yourself\" (DRY) principle\n",
    "* Can be seen from outside as a black box: **given some input, it returns an output (although they don't always need an output)**\n",
    "* While these input names are often used interchangeably, \"parameters\" refers to the names in the function definition, and \"arguments\" refers to the values passed in the function call\n"
   ]
  },
  {
   "cell_type": "code",
   "execution_count": null,
   "metadata": {
    "editable": true,
    "slideshow": {
     "slide_type": ""
    },
    "tags": []
   },
   "outputs": [],
   "source": [
    "# make a new function by using def followed by the function name you will give it\n",
    "# this function takes 2 arguments, x and y\n",
    "def summing_two_nums(x, y):\n",
    "    return x + y\n",
    "\n",
    "print(summing_two_nums(1, 4))  # call the function with inputs 1 and 4.\n",
    "print(summing_two_nums(3, 3))  # reuse the same function"
   ]
  },
  {
   "cell_type": "code",
   "execution_count": null,
   "metadata": {
    "editable": true,
    "slideshow": {
     "slide_type": ""
    },
    "tags": []
   },
   "outputs": [],
   "source": [
    "# another function\n",
    "def appending_to_list(input_list, new_item):\n",
    "    input_list.append(new_item)\n",
    "    return input_list\n",
    "\n",
    "print(appending_to_list([1, 2, 3], 4))"
   ]
  },
  {
   "cell_type": "markdown",
   "metadata": {
    "editable": true,
    "slideshow": {
     "slide_type": "subslide"
    },
    "tags": []
   },
   "source": [
    "### Variable scope\n",
    "\n",
    "Variables defined within a function are known as **local variables**: they stop existing once the function returns.  \n",
    "Variables outside of functions are known as **global variables**. They can be accessed inside functions (provided there is no local variable with the same name).\n",
    "\n",
    "See also: [namespaces in Python](https://realpython.com/python-namespaces-scope/)."
   ]
  },
  {
   "cell_type": "code",
   "execution_count": null,
   "metadata": {
    "editable": true,
    "slideshow": {
     "slide_type": ""
    },
    "tags": []
   },
   "outputs": [],
   "source": [
    "def my_function(my_variable):\n",
    "    my_variable = \"bar\"  # local variable with the same name as the global variable\n",
    "    for _ in range(n):  # accessing a global variable\n",
    "        print(\"my_variable inside the function: \" + my_variable)\n",
    "\n",
    "\n",
    "my_variable = \"foo\"  # global variable\n",
    "n = 2\n",
    "print(\"my_variable outside the function: \" + my_variable)\n",
    "\n",
    "my_function(my_variable)\n",
    "\n",
    "print(\"my_variable outside the function again: \" + my_variable)  # unchanged"
   ]
  },
  {
   "cell_type": "markdown",
   "metadata": {
    "editable": true,
    "slideshow": {
     "slide_type": "subslide"
    },
    "tags": []
   },
   "source": [
    "### Passing mutable objects to functions\n",
    "\n",
    "* If the function modifies the mutable object, it will also be modified outside of the function.\n",
    "* This is because the function argument **refers to the same object** as the variable outside the function. It is not a copy.\n",
    "* Python uses **passing-by-assignment**. See this [article](https://mathspp.com/blog/pydonts/pass-by-value-reference-and-assignment) for more information about passing-by-value vs passing-by-reference vs passing-by-assignment"
   ]
  },
  {
   "cell_type": "code",
   "execution_count": null,
   "metadata": {
    "editable": true,
    "slideshow": {
     "slide_type": ""
    },
    "tags": []
   },
   "outputs": [],
   "source": [
    "def change_list(my_list_inside):\n",
    "    print(f\"my_list_inside, before appending: {my_list_inside}\")\n",
    "    my_list_inside.append([1, 2, 3, 4])\n",
    "    print(f\"my_list_inside, after appending: {my_list_inside}\")\n",
    "    return  # note that we are not returning anything\n",
    "\n",
    "\n",
    "my_list = [10, 20, 30]\n",
    "print(f\"my_list: {my_list}\")\n",
    "change_list(my_list)\n",
    "print(f\"my_list, after change_list() has run: {my_list}\")  # changed"
   ]
  },
  {
   "cell_type": "markdown",
   "metadata": {
    "editable": true,
    "slideshow": {
     "slide_type": "skip"
    },
    "tags": []
   },
   "source": [
    "**Please note that the lecture video was mistaken about this and we are correcting it in these notes!**\n",
    "\n",
    "* The lecture video says that function arguments are passed by reference, which is incorrect.\n",
    "* In reality, all arguments in Python are passed by assignment (also called passed by sharing, or pass by Object Reference).\n",
    "* It is similar to passing by reference in the sense that the function gets passed a reference as an argument, as opposed to the actual value of the argument. However, this is not the full story, because the calling function is not given access to the variable references themselves, but merely to objects.\n",
    "* It is also similar to pass by value in the sense that object references are passed by value.\n",
    "* The important practical thing to remember for mutable objects such as lists, is that if you change what a parameter refers to inside a function, the change also reflects back in the calling function."
   ]
  },
  {
   "cell_type": "markdown",
   "metadata": {
    "editable": true,
    "slideshow": {
     "slide_type": "slide"
    },
    "tags": []
   },
   "source": [
    "## Importing libraries\n",
    "* Can import libraries to use functions that other people have written and are inside these libraries\n",
    "* Some are included by default in Python, and some have to be installed\n",
    "* Installing libraries depends on your environment manager\n",
    "    * `conda install [PACKAGE_NAME]`\n",
    "    * `pip install [PACKAGE_NAME]`\n",
    "    * (See caveats in lecture slides)"
   ]
  },
  {
   "cell_type": "code",
   "execution_count": null,
   "metadata": {
    "editable": true,
    "slideshow": {
     "slide_type": ""
    },
    "tags": []
   },
   "outputs": [],
   "source": [
    "import numpy\n",
    "print(numpy.nan)           # a constant\n",
    "print(numpy.abs([1, -1]))  # a function"
   ]
  },
  {
   "cell_type": "markdown",
   "metadata": {
    "editable": true,
    "slideshow": {
     "slide_type": "subslide"
    },
    "tags": []
   },
   "source": [
    "### Another `import` example"
   ]
  },
  {
   "cell_type": "code",
   "execution_count": null,
   "metadata": {
    "editable": true,
    "slideshow": {
     "slide_type": "-"
    },
    "tags": []
   },
   "outputs": [],
   "source": [
    "from IPython.display import YouTubeVideo\n",
    "YouTubeVideo(\"ml6VkmtLXpA\", 560, 315, rel=0)"
   ]
  },
  {
   "cell_type": "markdown",
   "metadata": {},
   "source": [
    "You can also import code that you wrote in another file"
   ]
  },
  {
   "cell_type": "markdown",
   "metadata": {
    "editable": true,
    "slideshow": {
     "slide_type": "slide"
    },
    "tags": []
   },
   "source": [
    "## A very brief introduction to classes and objects\n",
    "* Classes are used to create **user-defined data structures**. They can have their own variables (called **attributes**) and functions (called **methods**)\n",
    "* Attributes and methods are accessed with the **dot (`.`) operator**\n",
    "* An **object** is an instance of a class (class =  blueprint) and contains real data"
   ]
  },
  {
   "cell_type": "code",
   "execution_count": null,
   "metadata": {
    "editable": true,
    "slideshow": {
     "slide_type": ""
    },
    "tags": []
   },
   "outputs": [],
   "source": [
    "class Dog:\n",
    "    # Class attribute - all objects\n",
    "    species = \"Canis familiaris\"\n",
    "\n",
    "    def __init__(self, name, age):  # Specific to instance\n",
    "        self.name = name\n",
    "        self.age = age\n",
    "\n",
    "    def description(self):\n",
    "        return f\"{self.name} is {self.age} years old\"\n",
    "\n",
    "\n",
    "my_dog = Dog(\"Bonzo\", 7)\n",
    "print(my_dog.name)\n",
    "print(my_dog.description())\n",
    "print(my_dog.species)"
   ]
  },
  {
   "cell_type": "markdown",
   "metadata": {
    "editable": true,
    "slideshow": {
     "slide_type": ""
    },
    "tags": []
   },
   "source": [
    "### Many Python packages define classes for others to use\n",
    "\n",
    "Public classes and their attributes/methods are usually described on the package's documentation website"
   ]
  },
  {
   "cell_type": "code",
   "execution_count": null,
   "metadata": {
    "editable": true,
    "slideshow": {
     "slide_type": ""
    },
    "tags": []
   },
   "outputs": [],
   "source": [
    "from pathlib import Path\n",
    "\n",
    "current_directory = Path('.')\n",
    "print(f'The current directory is: {current_directory}')\n",
    "\n",
    "exercises_directory = current_directory / '..' / 'exercises'\n",
    "print(f'Exercises should be in: {exercises_directory}')\n",
    "if exercises_directory.exists():\n",
    "    print('Found the exercises directory. It contains these files:')\n",
    "    for exercise_file_path in exercises_directory.iterdir():\n",
    "        print(f'\\t{exercise_file_path}')\n",
    "else:\n",
    "    raise FileNotFoundError(f\"Directory not found: {exercises_directory}\")"
   ]
  },
  {
   "cell_type": "markdown",
   "metadata": {
    "editable": true,
    "slideshow": {
     "slide_type": "slide"
    },
    "tags": []
   },
   "source": [
    "## That's it for now!\n",
    "\n",
    "This was a very brief overview of Python, with the goal of providing you with the basic knowledge needed for the rest of the course. There are plenty of resources online (websites/articles/videos) if you want to learn more on your own. We also recommend the [Think Python 3e textbook](https://greenteapress.com/wp/think-python-3rd-edition/) (free!). \n",
    "\n",
    "Remember, the only way to learn (and/or become better at) programming is through practice!\n",
    "\n",
    "### More advanced Python topics you might want to look into\n",
    "\n",
    "- [`if __name__ == \"__main__\"` in scripts](https://realpython.com/if-name-main-python/)\n",
    "- [Anonymous (\"lambda\") functions](https://www.w3schools.com/python/python_lambda.asp)\n",
    "- Object-oriented programming:\n",
    "    - Deeper dive on classes, constructors, methods, and attributes\n",
    "    - [Properties](https://www.geeksforgeeks.org/python-property-function/)\n",
    "    - [Subclasses and inheritance](https://www.w3schools.com/python/python_inheritance.asp)\n",
    "    - [Dataclasses](https://docs.python.org/3/library/dataclasses.html)\n",
    "    - [Double-underscore functions (\"dunder methods\")](https://www.geeksforgeeks.org/dunder-magic-methods-python/)\n",
    "- [Function decorators](https://www.geeksforgeeks.org/decorators-in-python/)\n",
    "- Writing command-line tools: [`argparse`](https://docs.python.org/3/library/argparse.html), [`click`](https://click.palletsprojects.com/en/8.1.x/), [`typer`](https://typer.tiangolo.com/)\n",
    "- [Improving code quality/style](https://realpython.com/python-code-quality/)\n",
    "- Writing tests for your code using [`pytest`](https://docs.pytest.org/en/latest/) (third-party) or [`unittest`](https://docs.python.org/3/library/unittest.html) (built-in)"
   ]
  }
 ],
 "metadata": {
  "celltoolbar": "Slideshow",
  "kernelspec": {
   "display_name": "Python 3 (ipykernel)",
   "language": "python",
   "name": "python3"
  },
  "language_info": {
   "codemirror_mode": {
    "name": "ipython",
    "version": 3
   },
   "file_extension": ".py",
   "mimetype": "text/x-python",
   "name": "python",
   "nbconvert_exporter": "python",
   "pygments_lexer": "ipython3",
   "version": "3.9.19"
  },
  "toc": {
   "base_numbering": 1,
   "nav_menu": {},
   "number_sections": true,
   "sideBar": true,
   "skip_h1_title": false,
   "toc_cell": false,
   "toc_position": {},
   "toc_section_display": "block",
   "toc_window_display": false
  },
  "toc-autonumbering": true,
  "toc-showmarkdowntxt": true
 },
 "nbformat": 4,
 "nbformat_minor": 4
}

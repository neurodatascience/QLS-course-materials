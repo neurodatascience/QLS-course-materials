{
 "cells": [
  {
   "cell_type": "markdown",
   "metadata": {
    "slideshow": {
     "slide_type": "slide"
    }
   },
   "source": [
    "# Introduction to the bash shell"
   ]
  },
  {
   "cell_type": "markdown",
   "metadata": {
    "slideshow": {
     "slide_type": "fragment"
    }
   },
   "source": [
    "- A brief lecture recap (p.5-23)\n",
    "- Exercises (p.24 onwards)"
   ]
  },
  {
   "cell_type": "markdown",
   "metadata": {
    "slideshow": {
     "slide_type": "slide"
    }
   },
   "source": [
    "## Setting up for the exercises\n",
    "\n",
    "1. Open your terminal\n",
    "\n",
    "<img src=\"images/bash_linux.png\" width=\"300px\" style=\"margin-bottom: 10px;\">\n",
    "\n",
    "2. and confirm that you are running the __bash__ shell: "
   ]
  },
  {
   "cell_type": "code",
   "execution_count": null,
   "metadata": {
    "slideshow": {
     "slide_type": "fragment"
    }
   },
   "outputs": [],
   "source": [
    "echo $SHELL\n",
    "# /bin/bash"
   ]
  },
  {
   "cell_type": "markdown",
   "metadata": {
    "slideshow": {
     "slide_type": "subslide"
    }
   },
   "source": [
    "3. Let's **copy** the data we'll be working with (called `shell-course`) out of the [QLS-course-materials](https://github.com/neurodatascience/QLS-course-materials) directory you previously cloned, and into your home directory (e.g. `/home/user-name` or `/Users/user-name`), using the following command:"
   ]
  },
  {
   "cell_type": "code",
   "execution_count": null,
   "metadata": {
    "slideshow": {
     "slide_type": "fragment"
    },
    "vscode": {
     "languageId": "shellscript"
    }
   },
   "outputs": [],
   "source": [
    "# Note: The \\ allows you to write a long command over multiple lines\n",
    "cp -r \\\n",
    "  ~/QLS-course-materials/Lectures/2024/02_terminal_and_bash/exercises/shell-course \\\n",
    "  ~"
   ]
  },
  {
   "cell_type": "markdown",
   "metadata": {
    "slideshow": {
     "slide_type": "fragment"
    },
    "vscode": {
     "languageId": "shellscript"
    }
   },
   "source": [
    "If your `QLS-course-materials` directory is not in your home directory, replace `~` in front of it with the path to where you stored it."
   ]
  },
  {
   "cell_type": "markdown",
   "metadata": {
    "slideshow": {
     "slide_type": "subslide"
    }
   },
   "source": [
    "**Optional:** If you do not have the `tree` command already installed (check output of `tree --version`), you may find it helpful to install it for some exercises below. You can do so using\n",
    "```bash\n",
    "sudo apt update  # may take a few seconds\n",
    "sudo apt install tree\n",
    "```\n",
    "Otherwise, you can use always `ls -R` (note the capital `R`) for an overview of a directory's structure."
   ]
  },
  {
   "cell_type": "markdown",
   "metadata": {
    "slideshow": {
     "slide_type": "slide"
    }
   },
   "source": [
    "## A brief recap of the lecture\n",
    "\n",
    "1. How to __navigate__ files and directories\n",
    "2. How to __modify and move__ files and directories\n",
    "3. How to __find__ files and directories\n",
    "4. Shell __variables__ and scripts"
   ]
  },
  {
   "cell_type": "markdown",
   "metadata": {
    "slideshow": {
     "slide_type": "slide"
    }
   },
   "source": [
    "## Bash command recap"
   ]
  },
  {
   "cell_type": "code",
   "execution_count": null,
   "metadata": {
    "slideshow": {
     "slide_type": "fragment"
    }
   },
   "outputs": [],
   "source": [
    "ls -l ~/shell-course"
   ]
  },
  {
   "cell_type": "markdown",
   "metadata": {
    "slideshow": {
     "slide_type": "fragment"
    }
   },
   "source": [
    "A shell command has 3 parts:\n",
    "\n",
    "1. A **command** (`ls`), \n",
    "2. An **option** (`-F`), also called a **flag** or a **switch**, and\n",
    "3. An **argument** (`~/shell-course`)"
   ]
  },
  {
   "cell_type": "markdown",
   "metadata": {
    "slideshow": {
     "slide_type": "fragment"
    }
   },
   "source": [
    "**A note on the order**: \n",
    "\n",
    "It is generally recommended to follow the form: \\<command\\> [**OPTIONS**] <_argument_>\n",
    "(e.g., head **-n 1** _myfile.txt_)\n",
    "\n",
    "However, depending on your OS and the versions of commands that are installed, the order of options and arguments might be more or less strictly enforced.\n",
    "\n",
    "For example, on some machines both of these forms will work:\n",
    "```bash\n",
    "head -n 1 myfile.txt\n",
    "head myfile.txt -n 1\n",
    "```\n",
    "Whereas on others, only the first will work. When in doubt, always specify options for a command right after the command itself."
   ]
  },
  {
   "cell_type": "markdown",
   "metadata": {
    "slideshow": {
     "slide_type": "slide"
    }
   },
   "source": [
    "## Recap: navigation\n",
    "\n",
    "* The file system is responsible for managing information on the disk\n",
    "* Directories can also store other (sub-)directories, which forms a directory tree\n",
    "* `cd path` changes the current working directory\n",
    "* `ls path` prints a listing of a specific file or directory; `ls` on its own lists the current working directory.\n",
    "* `pwd` prints the user’s current working directory\n",
    "* `/` on its own is the root directory of the whole file system\n",
    "* A relative path specifies a location starting from the current location\n",
    "* An absolute path specifies a location from the root of the file system\n",
    "* `..` means \"the directory above the current one\"; `.` on its own means \"the current directory\""
   ]
  },
  {
   "cell_type": "markdown",
   "metadata": {
    "slideshow": {
     "slide_type": "subslide"
    }
   },
   "source": [
    "### Refresher `pwd`\n",
    "\n",
    "`pwd` -> print working directory"
   ]
  },
  {
   "cell_type": "code",
   "execution_count": null,
   "metadata": {
    "slideshow": {
     "slide_type": "fragment"
    }
   },
   "outputs": [],
   "source": [
    "pwd"
   ]
  },
  {
   "cell_type": "markdown",
   "metadata": {
    "slideshow": {
     "slide_type": "fragment"
    }
   },
   "source": [
    "- `pwd` let's you know where you are.\n",
    "- It always prints absolute paths.\n",
    "- It's a great way to quickly get your bearings"
   ]
  },
  {
   "cell_type": "markdown",
   "metadata": {
    "slideshow": {
     "slide_type": "subslide"
    }
   },
   "source": [
    "### Refresher `ls`\n",
    "`ls` -> list directory contents"
   ]
  },
  {
   "cell_type": "code",
   "execution_count": null,
   "metadata": {
    "slideshow": {
     "slide_type": "fragment"
    }
   },
   "outputs": [],
   "source": [
    "ls -la"
   ]
  },
  {
   "cell_type": "markdown",
   "metadata": {
    "slideshow": {
     "slide_type": "fragment"
    }
   },
   "source": [
    "- `ls` lists the contents of the current working directory by default\n",
    "- you can give it many options to change what is printed\n",
    "- you can list other directories, by supplying them as arguments\n",
    "- `.` stands for the current working directory\n",
    "- `..` stands for the parent directory, the directory above the current directory\n",
    "- file/directory names beginning with `.` are hidden from listing by default (here, the `-a` (`--all`) flag displays them)"
   ]
  },
  {
   "cell_type": "markdown",
   "metadata": {
    "slideshow": {
     "slide_type": "subslide"
    }
   },
   "source": [
    "### Refresher `cd`\n",
    "`cd` -> changes your working directory"
   ]
  },
  {
   "cell_type": "code",
   "execution_count": null,
   "metadata": {
    "slideshow": {
     "slide_type": "fragment"
    }
   },
   "outputs": [],
   "source": [
    "pwd"
   ]
  },
  {
   "cell_type": "code",
   "execution_count": null,
   "metadata": {
    "slideshow": {
     "slide_type": "fragment"
    }
   },
   "outputs": [],
   "source": [
    "cd ~/shell-course"
   ]
  },
  {
   "cell_type": "code",
   "execution_count": null,
   "metadata": {
    "slideshow": {
     "slide_type": "fragment"
    }
   },
   "outputs": [],
   "source": [
    "pwd"
   ]
  },
  {
   "cell_type": "markdown",
   "metadata": {
    "slideshow": {
     "slide_type": "subslide"
    }
   },
   "source": [
    "- `cd` changes the current working directory\n",
    "- it expects a relative or absolute path to the new working directory you want to change to\n",
    "- if you give it no argument, it will go back to your home directory"
   ]
  },
  {
   "cell_type": "markdown",
   "metadata": {
    "slideshow": {
     "slide_type": "subslide"
    }
   },
   "source": [
    "### Refresher `home directory`\n",
    "\n",
    "- Your home directory is where your user specific files are\n",
    "- on Linux it is in `/home/your-user-name`\n",
    "- on Mac it is in `/Users/your-user-name`\n",
    "- it contains your files and config files"
   ]
  },
  {
   "cell_type": "code",
   "execution_count": null,
   "metadata": {
    "slideshow": {
     "slide_type": "fragment"
    }
   },
   "outputs": [],
   "source": [
    "pwd"
   ]
  },
  {
   "cell_type": "code",
   "execution_count": null,
   "metadata": {
    "slideshow": {
     "slide_type": "fragment"
    }
   },
   "outputs": [],
   "source": [
    "cd"
   ]
  },
  {
   "cell_type": "code",
   "execution_count": null,
   "metadata": {
    "slideshow": {
     "slide_type": "fragment"
    }
   },
   "outputs": [],
   "source": [
    "pwd"
   ]
  },
  {
   "cell_type": "code",
   "execution_count": null,
   "metadata": {
    "slideshow": {
     "slide_type": "fragment"
    }
   },
   "outputs": [],
   "source": [
    "cd -"
   ]
  },
  {
   "cell_type": "markdown",
   "metadata": {
    "slideshow": {
     "slide_type": "subslide"
    }
   },
   "source": [
    "- `cd` without arguments brings you to your home directory\n",
    "- `~` is a shorthand for your home directory -> `cd ~` also brings you there\n",
    "- your home directory has a path -> `cd /home/bcmcpher` also brings you there\n",
    "- `-` is a shorthand for the directory you were in before the last `cd` call"
   ]
  },
  {
   "cell_type": "markdown",
   "metadata": {
    "slideshow": {
     "slide_type": "slide"
    }
   },
   "source": [
    "## Recap: modifying things\n",
    "\n",
    "* `cp <old> <new>` copies a file (`cp -r` for a directory)\n",
    "* `mkdir <path>` creates a new directory\n",
    "* `mv <old> <new>` moves (renames) a file or directory\n",
    "* `rm <path>` removes (deletes) a file (`rm -r` for a directory)\n",
    "* `touch <file>` creates an empty text file or updates the access time of an existing file\n",
    "* `*` matches zero or more characters in a filename, so `*.txt` matches all files ending in `.txt`\n",
    "* `?` matches any single character in a filename, so `?.txt` matches `a.txt` but not `any.txt`\n",
    "* The shell does not have a trash bin: once something is deleted, it’s really gone"
   ]
  },
  {
   "cell_type": "markdown",
   "metadata": {
    "slideshow": {
     "slide_type": "subslide"
    }
   },
   "source": [
    "### Refresher `cp`\n",
    "\n",
    "`cp` -> copy files and directories to a new path"
   ]
  },
  {
   "cell_type": "code",
   "execution_count": null,
   "metadata": {
    "slideshow": {
     "slide_type": "fragment"
    }
   },
   "outputs": [],
   "source": [
    "cd ~/shell-course/interesting_files"
   ]
  },
  {
   "cell_type": "code",
   "execution_count": null,
   "metadata": {
    "slideshow": {
     "slide_type": "fragment"
    }
   },
   "outputs": [],
   "source": [
    "ls"
   ]
  },
  {
   "cell_type": "code",
   "execution_count": null,
   "metadata": {
    "slideshow": {
     "slide_type": "fragment"
    }
   },
   "outputs": [],
   "source": [
    "cp the_meaning_of_life.txt the_meaning_of_life_backup.txt"
   ]
  },
  {
   "cell_type": "code",
   "execution_count": null,
   "metadata": {
    "slideshow": {
     "slide_type": "fragment"
    }
   },
   "outputs": [],
   "source": [
    "ls"
   ]
  },
  {
   "cell_type": "markdown",
   "metadata": {
    "slideshow": {
     "slide_type": "fragment"
    }
   },
   "source": [
    "- `cp` (and `mv` too) takes the form `cp [old-path] [new-[path]`\n",
    "- `cp` can operate on many files at once as long as the target is a directory (need the `-r` flag!)\n",
    "- `cp` will keep the original file, whereas `mv` will move it, i.e. destroying the original\n",
    "- `cp` and `mv` will overwrite without asking -> __dangerous__. The `-i` flag will make them ask first"
   ]
  },
  {
   "cell_type": "markdown",
   "metadata": {
    "slideshow": {
     "slide_type": "subslide"
    }
   },
   "source": [
    "### Refresher `rm`\n",
    "\n",
    "`rm` -> removes files and directories"
   ]
  },
  {
   "cell_type": "code",
   "execution_count": null,
   "metadata": {
    "slideshow": {
     "slide_type": "fragment"
    }
   },
   "outputs": [],
   "source": [
    "ls"
   ]
  },
  {
   "cell_type": "code",
   "execution_count": null,
   "metadata": {
    "slideshow": {
     "slide_type": "fragment"
    }
   },
   "outputs": [],
   "source": [
    "rm the_meaning_of_life_backup.txt"
   ]
  },
  {
   "cell_type": "code",
   "execution_count": null,
   "metadata": {
    "slideshow": {
     "slide_type": "fragment"
    }
   },
   "outputs": [],
   "source": [
    "ls"
   ]
  },
  {
   "cell_type": "markdown",
   "metadata": {
    "slideshow": {
     "slide_type": "fragment"
    }
   },
   "source": [
    "- `rm` generally deletes files without first asking\n",
    "- `rm` deletes things __forever__. There is no trash-bin for bash and no undo button\n",
    "- `rm` cannot delete directories without the extra `-r` flag"
   ]
  },
  {
   "cell_type": "markdown",
   "metadata": {
    "slideshow": {
     "slide_type": "slide"
    }
   },
   "source": [
    "## Recap: finding things\n",
    "\n",
    "- we can print the structure of any given directory with `tree` (or `ls -R`, if `tree` is not installed)\n",
    "- `find` is a great tool to search for **files and directories** based on their name and other meta-data like size, age, and so on\n",
    "- `grep` is a great tool to search **within (text)files** for occurrences of a given string or even complex regular expressions\n",
    "- pipes (`|`) allow us to combine the output of one command with the input of another command"
   ]
  },
  {
   "cell_type": "markdown",
   "metadata": {
    "slideshow": {
     "slide_type": "subslide"
    }
   },
   "source": [
    "### Refresher `find`\n",
    "\n",
    "`find` -> find files and directories by name and meta-data"
   ]
  },
  {
   "cell_type": "code",
   "execution_count": null,
   "metadata": {
    "slideshow": {
     "slide_type": "fragment"
    }
   },
   "outputs": [],
   "source": [
    "cd ~/shell-course\n",
    "find . -name \"my*\""
   ]
  },
  {
   "cell_type": "markdown",
   "metadata": {
    "slideshow": {
     "slide_type": "fragment"
    }
   },
   "source": [
    "- `find` is great to find all files with a certain name pattern\n",
    "- `find` can also search for attributes like size and age"
   ]
  },
  {
   "cell_type": "markdown",
   "metadata": {
    "slideshow": {
     "slide_type": "subslide"
    }
   },
   "source": [
    "### Refresher `grep`\n",
    "\n",
    "`grep` -> find a text pattern inside of files and print the matches"
   ]
  },
  {
   "cell_type": "code",
   "execution_count": null,
   "metadata": {
    "scrolled": true,
    "slideshow": {
     "slide_type": "fragment"
    }
   },
   "outputs": [],
   "source": [
    "grep \"rabbit\" flying_circus/* --max-count 2"
   ]
  },
  {
   "cell_type": "markdown",
   "metadata": {
    "slideshow": {
     "slide_type": "fragment"
    }
   },
   "source": [
    "- `grep` is great to search for something __inside__ of files\n",
    "- `grep` can search for a simple string or complex regular expressions\n",
    "- `grep` can be useful to extract lines with specific content out of a file"
   ]
  },
  {
   "cell_type": "markdown",
   "metadata": {
    "slideshow": {
     "slide_type": "subslide"
    }
   },
   "source": [
    "### Refresher pipes\n",
    "\n",
    "The `|` character is a pipe. It can be used to link the output of one bash command to the input of another bash command. Commands linked in this way are called pipelines"
   ]
  },
  {
   "cell_type": "code",
   "execution_count": null,
   "metadata": {
    "slideshow": {
     "slide_type": "fragment"
    }
   },
   "outputs": [],
   "source": [
    "grep \"rabbit\" flying_circus/*.txt --max-count 2 | wc --chars"
   ]
  },
  {
   "cell_type": "markdown",
   "metadata": {
    "slideshow": {
     "slide_type": "fragment"
    }
   },
   "source": [
    "- shell commands generally do one thing well\n",
    "- linking commands can achieve powerful pipelines\n",
    "- here `grep` finds text files and pipes the output to `wc` a program to count the number of characters and lines in a text\n",
    "- here we then get the total number of characters found by `grep`\n",
    "- `>` and `>>` are special characters that can redirect output into files (we'll see this in a moment)"
   ]
  },
  {
   "cell_type": "markdown",
   "metadata": {
    "slideshow": {
     "slide_type": "subslide"
    }
   },
   "source": [
    "### Refresher help\n",
    "\n",
    "The bash shell has many great helper tools. Often they can answer questions without the need for google:\n",
    "\n",
    "- `--help` -> a flag that provides the basic usage and options for many bash commands\n",
    "- `whatis` -> provides a brief description of a command\n",
    "- `man` -> opens the manual for a given command, with comprehensive documentation of functionality, options, and usage examples\n",
    "- `which` -> tells you where the program is located that is called by a command\n"
   ]
  },
  {
   "cell_type": "code",
   "execution_count": null,
   "metadata": {
    "slideshow": {
     "slide_type": "fragment"
    }
   },
   "outputs": [],
   "source": [
    "whatis wc"
   ]
  },
  {
   "cell_type": "code",
   "execution_count": null,
   "metadata": {
    "slideshow": {
     "slide_type": "fragment"
    }
   },
   "outputs": [],
   "source": [
    "wc --help"
   ]
  },
  {
   "cell_type": "code",
   "execution_count": null,
   "metadata": {
    "scrolled": true,
    "slideshow": {
     "slide_type": "fragment"
    }
   },
   "outputs": [],
   "source": [
    "which wc"
   ]
  },
  {
   "cell_type": "markdown",
   "metadata": {
    "slideshow": {
     "slide_type": "slide"
    }
   },
   "source": [
    "## Recap: variables and scripts\n",
    "\n",
    "\n",
    "- the `$PATH` variable defines the directories where the shell will look for commands\n",
    "- you can change `$PATH` for just your current shell session, or for all sessions (in your `~/.bashrc` file - do this with caution!)\n",
    "- the `$` character is necessary to refer to the **value** of a bash variable\n",
    "- often it makes sense to put the variable name inside curly braces `${ }` when referencing the value, to differentiate it from other text\n",
    "- variables can be exported to be made accessible inside other scripts/programs: `export VARIABLE_NAME`\n",
    "- shell scripts are executable text files that contain shell commands\n",
    "- scripts need execution permission that we can give with the `chmod` command\n",
    "- scripts start with the \"shebang\": `#!/bin/bash` that specifies which shell the script should be interpreted by\n",
    "- scripts are great to document what you did or do it again many times"
   ]
  },
  {
   "cell_type": "code",
   "execution_count": null,
   "metadata": {
    "slideshow": {
     "slide_type": "fragment"
    }
   },
   "outputs": [],
   "source": [
    "echo ${PATH}"
   ]
  },
  {
   "cell_type": "code",
   "execution_count": null,
   "metadata": {
    "slideshow": {
     "slide_type": "fragment"
    }
   },
   "outputs": [],
   "source": [
    "which grep"
   ]
  },
  {
   "cell_type": "markdown",
   "metadata": {
    "slideshow": {
     "slide_type": "slide"
    }
   },
   "source": [
    "## Recap of topics\n",
    "\n",
    "1. How to __navigate__ files and directories (`ls`, `cd`, `pwd`)\n",
    "2. How to __modify and move__ files and directories (`cp`, `mv`, `rm`)\n",
    "3. How to __find__ files, directories and help (`find`, `grep`, `tree` and `man`, `whatis`, `which`)\n",
    "4. Shell __variables__ and scripts (`$PATH`, `.bashrc` , `${MY_VAR}`, `export`)"
   ]
  },
  {
   "cell_type": "markdown",
   "metadata": {
    "slideshow": {
     "slide_type": "slide"
    }
   },
   "source": [
    "## Exercise 1 - moving things around\n",
    "\n",
    "Let's navigate to the `dir_of_doom` with `cd` and take a look inside with `ls` and `tree`."
   ]
  },
  {
   "cell_type": "code",
   "execution_count": null,
   "metadata": {
    "slideshow": {
     "slide_type": "fragment"
    }
   },
   "outputs": [],
   "source": [
    "cd ~/shell-course/dir_of_doom"
   ]
  },
  {
   "cell_type": "code",
   "execution_count": null,
   "metadata": {
    "slideshow": {
     "slide_type": "fragment"
    }
   },
   "outputs": [],
   "source": [
    "ls -Rla"
   ]
  },
  {
   "cell_type": "code",
   "execution_count": null,
   "metadata": {
    "slideshow": {
     "slide_type": "fragment"
    }
   },
   "outputs": [],
   "source": [
    "tree  # or ls -R"
   ]
  },
  {
   "cell_type": "markdown",
   "metadata": {
    "slideshow": {
     "slide_type": "subslide"
    }
   },
   "source": [
    "All these files are in `the_wrong_dir`, we want to move them to `the_right_dir`. Let's also use wildcards so we don't have to move each file separately.\n",
    "\n",
    "Remember: \n",
    "- `*` (the asterisk) will match any character 0 or more times. i.e. `*.txt` will match both `a.txt` and `any.txt` (any file ending in `.txt`)\n",
    "- `?` (the questionmark) will match any character exactly once. i.e. `?.txt` will match only `a.txt` but not `any.txt`"
   ]
  },
  {
   "cell_type": "markdown",
   "metadata": {
    "slideshow": {
     "slide_type": "subslide"
    }
   },
   "source": [
    "### Exercise 1a\n",
    "Use the `mv` command to move all the files from `the_wrong_dir` to `the_right_dir`. Remember the form of the `mv` and `cp` commands: `mv [old_path] [new_path]`.\n",
    "\n",
    "\n",
    "#### Hints\n",
    "- the `mv` command can move many files at once, as long as the `[new_path]` is a directory and not a file\n",
    "- e.g., `mv file1.txt file2.txt target_directory/` works, but `mv file1.txt file2.txt file3.txt` does not\n",
    "- a wildcard expands to match multiple file names. It has the same function as typing all the file names by hand\n",
    "\n",
    "**Try it out!**"
   ]
  },
  {
   "cell_type": "code",
   "execution_count": null,
   "metadata": {
    "slideshow": {
     "slide_type": "fragment"
    }
   },
   "outputs": [],
   "source": [
    "mv the_wrong_dir/my_file?.txt the_right_dir"
   ]
  },
  {
   "cell_type": "code",
   "execution_count": null,
   "metadata": {
    "slideshow": {
     "slide_type": "fragment"
    }
   },
   "outputs": [],
   "source": [
    "# Let's check that it has worked\n",
    "tree"
   ]
  },
  {
   "cell_type": "markdown",
   "metadata": {
    "slideshow": {
     "slide_type": "subslide"
    }
   },
   "source": [
    "### Exercise 1b\n",
    "\n",
    "Now that everying in `the_right_dir` is good, remove the `the_wrong_dir`.\n",
    "\n",
    "Remember:\n",
    "- `rm` can remove files\n",
    "- `rm` can only remove directories when the `-r` (\"recursive\") flag is set\n",
    "\n",
    "**Try it out!**"
   ]
  },
  {
   "cell_type": "code",
   "execution_count": null,
   "metadata": {
    "slideshow": {
     "slide_type": "fragment"
    }
   },
   "outputs": [],
   "source": [
    "ls -la the_wrong_dir"
   ]
  },
  {
   "cell_type": "code",
   "execution_count": null,
   "metadata": {
    "slideshow": {
     "slide_type": "fragment"
    }
   },
   "outputs": [],
   "source": [
    "rm -r the_wrong_dir"
   ]
  },
  {
   "cell_type": "markdown",
   "metadata": {
    "slideshow": {
     "slide_type": "fragment"
    }
   },
   "source": [
    "Now `the_wrong_dir` is gone and there is no way to get it or it's contents back! Be __very careful__ with `rm` commands, especially when you are using wildcards and relative paths"
   ]
  },
  {
   "cell_type": "markdown",
   "metadata": {
    "slideshow": {
     "slide_type": "subslide"
    }
   },
   "source": [
    "## Summary\n",
    "\n",
    "* `cp old new` copies a file\n",
    "* `mkdir path` creates a new directory\n",
    "* `mv old new` moves (renames) a file or directory\n",
    "* `rm path` removes (deletes) a file\n",
    "* `*` matches zero or more characters in a filename, so `*.txt` matches all files ending in `.txt`\n",
    "* `?` matches any single character in a filename, so `?.txt` matches `a.txt` but not `any.txt`\n",
    "* The shell does not have a trash bin: once something is deleted, it’s really gone"
   ]
  },
  {
   "cell_type": "markdown",
   "metadata": {
    "slideshow": {
     "slide_type": "slide"
    }
   },
   "source": [
    "## Exercise 2 - pipes\n",
    "\n",
    "Now let's take a look in the `flying_circus` directory. There we have several text files and we want to find out what the shortest text file is. Here we can make use of several tools:\n",
    "- `wc`\n",
    "- `sort`\n",
    "- `head`\n",
    "\n",
    "Use the `whatis` command to find out what they do."
   ]
  },
  {
   "cell_type": "code",
   "execution_count": null,
   "metadata": {
    "slideshow": {
     "slide_type": "fragment"
    }
   },
   "outputs": [],
   "source": [
    "whatis head"
   ]
  },
  {
   "cell_type": "markdown",
   "metadata": {
    "slideshow": {
     "slide_type": "subslide"
    }
   },
   "source": [
    "### Exercise 2a\n",
    "\n",
    "Navigate to the `flying_circus` directory, and print the **number of lines** of each text file in the directory with a single `wc` command.\n",
    "\n",
    "#### Hints\n",
    "- A wildcard (`*`) expands to match multiple file names\n",
    "- The `--help` flag shows all options you can use to control the behaviour of a command\n",
    "\n",
    "**Try it out!**"
   ]
  },
  {
   "cell_type": "code",
   "execution_count": null,
   "metadata": {
    "slideshow": {
     "slide_type": "fragment"
    }
   },
   "outputs": [],
   "source": [
    "ls -lF"
   ]
  },
  {
   "cell_type": "code",
   "execution_count": null,
   "metadata": {
    "slideshow": {
     "slide_type": "fragment"
    }
   },
   "outputs": [],
   "source": [
    "wc -l *.txt"
   ]
  },
  {
   "cell_type": "markdown",
   "metadata": {
    "slideshow": {
     "slide_type": "subslide"
    }
   },
   "source": [
    "### Exercise 2b\n",
    "\n",
    "Instead of printing the `wc` command output to the screen (called STDOUT), redirect the output into a file `file_length.txt`.\n",
    "\n",
    "#### Hints\n",
    "Here are some special characters that redirect the output normally printed to STDOUT:\n",
    "\n",
    "- `|` the \"pipe\" character redirects the output to a second bash command as input. e.g. `wc -l *.txt | head -n 1`\n",
    "- `>` redirects the output to a file and __overwrites__ whatever is in the file. e.g. `wc -l *.txt > file_length.txt`\n",
    "- `>>` redirects the output to a file and __appends__ to this file if it exists. e.g. `wc -l *.txt >> file_length.txt`\n",
    "\n",
    "**Try it out!**"
   ]
  },
  {
   "cell_type": "code",
   "execution_count": null,
   "metadata": {
    "slideshow": {
     "slide_type": "fragment"
    }
   },
   "outputs": [],
   "source": [
    "wc -l *.txt > file_length.txt"
   ]
  },
  {
   "cell_type": "code",
   "execution_count": null,
   "metadata": {
    "slideshow": {
     "slide_type": "fragment"
    }
   },
   "outputs": [],
   "source": [
    "ls"
   ]
  },
  {
   "cell_type": "code",
   "execution_count": null,
   "metadata": {
    "slideshow": {
     "slide_type": "fragment"
    }
   },
   "outputs": [],
   "source": [
    "cat file_length.txt"
   ]
  },
  {
   "cell_type": "markdown",
   "metadata": {
    "slideshow": {
     "slide_type": "subslide"
    }
   },
   "source": [
    "Now let's sort the text in `file_length.txt` by the number of lines with `sort`:"
   ]
  },
  {
   "cell_type": "code",
   "execution_count": null,
   "metadata": {
    "slideshow": {
     "slide_type": "fragment"
    }
   },
   "outputs": [],
   "source": [
    "sort file_length.txt"
   ]
  },
  {
   "cell_type": "markdown",
   "metadata": {
    "slideshow": {
     "slide_type": "fragment"
    }
   },
   "source": [
    "Notice the file lengths have not been sorted correctly. `sort` interpreted the numbers as text, but we want them interpreted as numbers. From `man sort`, we know that the `--numeric-sort` achieves this behaviour.\n",
    "\n",
    "**Note**: Newer versions of `sort` may have desired behaviour with or without the `--numeric-sort` flag, due to how the STDOUT of `wc -l *.txt` is formatted. If this is the case, you can instead test out `--numeric-sort` on the contents of `dangerous_rabbits.txt`."
   ]
  },
  {
   "cell_type": "code",
   "execution_count": null,
   "metadata": {
    "slideshow": {
     "slide_type": "fragment"
    }
   },
   "outputs": [],
   "source": [
    "sort --numeric-sort file_length.txt"
   ]
  },
  {
   "cell_type": "markdown",
   "metadata": {
    "slideshow": {
     "slide_type": "fragment"
    }
   },
   "source": [
    "Lets' redirect this output as well, this time into a file called `sorted_length.txt`"
   ]
  },
  {
   "cell_type": "code",
   "execution_count": null,
   "metadata": {
    "slideshow": {
     "slide_type": "fragment"
    }
   },
   "outputs": [],
   "source": [
    "sort --numeric-sort file_length.txt > sorted_length.txt"
   ]
  },
  {
   "cell_type": "markdown",
   "metadata": {
    "slideshow": {
     "slide_type": "subslide"
    }
   },
   "source": [
    "Now let's read only the first line of `sorted_length.txt` to find the name of the shortest text file in the `flying_circus` directory. "
   ]
  },
  {
   "cell_type": "code",
   "execution_count": null,
   "metadata": {
    "slideshow": {
     "slide_type": "fragment"
    }
   },
   "outputs": [],
   "source": [
    "head -n 1 sorted_length.txt"
   ]
  },
  {
   "cell_type": "markdown",
   "metadata": {
    "slideshow": {
     "slide_type": "subslide"
    }
   },
   "source": [
    "### Exercise 2c\n",
    "\n",
    "So far, to find the shortest text file we have run:\n",
    "1. `wc -l *.txt > file_length.txt`\n",
    "2. `sort --numeric-sort file_length.txt > sorted_length.txt`\n",
    "3. `head  -n 1 sorted_length.txt`\n",
    "\n",
    "This created 2 text files we didn't really care about and took 3 commands. This is a good use for bash pipelines!\n",
    "\n",
    "__Remember__:  the `|` (pipe) character redirects the output to another command as input.\n",
    "\n",
    "Try to rewrite the 3 commands above with the `|` character so the output of each command gets redirected to the next command rather than into a file.\n",
    "\n",
    "__Try for yourselves and I'll walk through in a moment__."
   ]
  },
  {
   "cell_type": "code",
   "execution_count": null,
   "metadata": {
    "slideshow": {
     "slide_type": "fragment"
    }
   },
   "outputs": [],
   "source": [
    "wc -l *.txt | sort --numeric-sort | head -n 1"
   ]
  },
  {
   "cell_type": "markdown",
   "metadata": {
    "slideshow": {
     "slide_type": "subslide"
    }
   },
   "source": [
    "## Summary\n",
    "\n",
    "- `|` the \"pipe\" character redirects the output to a second bash command as input. e.g. `wc -l *.txt | head -n 1`\n",
    "- `>` redirects the output to a file and __overwrites__ whatever is in the file. e.g. `wc -l *.txt > file_lengths.txt`\n",
    "- `>>` redirects the output to a file and __appends__ to this file if it exists. e.g. `wc -l *.txt >> file_lengths.txt`"
   ]
  },
  {
   "cell_type": "markdown",
   "metadata": {
    "slideshow": {
     "slide_type": "slide"
    }
   },
   "source": [
    "## Exercise 3 - grep\n",
    "\n",
    "Some of the text files in the `flying_circus` directory are so long because they contain the complete scripts to movies from Monty Python (which `python` is named after!). For example, the file `brian.txt` contains the script to `The life of Brian`. Let's say our goal is to make personalized copies of this file for the actor who play the role of `\"Brian\"` - with only the lines said by the role. \n",
    "\n",
    "For this we can use the tool `grep`. `grep` can search for text snippets (i.e. strings) __inside__ of files. We can redirect the output of `grep` into new text files. Let's first do this for `\"Brian\"`:"
   ]
  },
  {
   "cell_type": "code",
   "execution_count": null,
   "metadata": {
    "slideshow": {
     "slide_type": "fragment"
    }
   },
   "outputs": [],
   "source": [
    "ls"
   ]
  },
  {
   "cell_type": "code",
   "execution_count": null,
   "metadata": {
    "slideshow": {
     "slide_type": "fragment"
    }
   },
   "outputs": [],
   "source": [
    "grep \"Brian\" brian.txt"
   ]
  },
  {
   "cell_type": "markdown",
   "metadata": {
    "slideshow": {
     "slide_type": "subslide"
    }
   },
   "source": [
    "Now we get every string with `\"Brian\"`. But we only want those strings that are denoting lines the character Brian says. We can do two things:\n",
    "- search specifically for the string `\"Brian:\"` with the `:` character\n",
    "- use the `^` character to only find occurrences that are **at the beginning of the line**, i.e. `^Brian:`\n",
    "  - FYI: the `man` pages for `grep` have a section dedicated to these patterns, called regular expressions\n",
    "\n",
    "Let's add these to our grep command and then redirect the output to a file in `my_lines/Brians_lines.txt` with the `>` character"
   ]
  },
  {
   "cell_type": "code",
   "execution_count": null,
   "metadata": {
    "slideshow": {
     "slide_type": "fragment"
    }
   },
   "outputs": [],
   "source": [
    "mkdir my_lines"
   ]
  },
  {
   "cell_type": "code",
   "execution_count": null,
   "metadata": {
    "slideshow": {
     "slide_type": "fragment"
    }
   },
   "outputs": [],
   "source": [
    "grep \"^Brian:\" brian.txt > my_lines/Brians_lines.txt"
   ]
  },
  {
   "cell_type": "code",
   "execution_count": null,
   "metadata": {
    "slideshow": {
     "slide_type": "fragment"
    }
   },
   "outputs": [],
   "source": [
    "head my_lines/Brians_lines.txt"
   ]
  },
  {
   "cell_type": "markdown",
   "metadata": {
    "slideshow": {
     "slide_type": "subslide"
    }
   },
   "source": [
    "That's nice. But how can we:\n",
    "- easily create the lines for another role in this movie?\n",
    "- remember the exact command we used to create the lines for this role?\n",
    "- re-run the exact same command in the future, e.g. to re-create the lines for the \"Brian\" role\n",
    "- easily change the role we create lines for?"
   ]
  },
  {
   "cell_type": "markdown",
   "metadata": {
    "slideshow": {
     "slide_type": "subslide"
    }
   },
   "source": [
    "### Exercise 3 - scripts\n",
    "\n",
    "For this we can use shell scripts! Shell scripts are just special text files that contain shell commands. We can \n",
    "1. take the commands we have just written and put them in a shell script to re-run them again later. \n",
    "2. use a variable to store the name of the role so we can easily change what actor we generate lines for\n",
    "\n",
    "Let's quickly revisit the aspects of scripts and variables discussed in the lecture!"
   ]
  },
  {
   "cell_type": "markdown",
   "metadata": {
    "slideshow": {
     "slide_type": "subslide"
    }
   },
   "source": [
    "### Recap scripts\n",
    "A __script__ is a text file that contains shell commands and: "
   ]
  },
  {
   "cell_type": "markdown",
   "metadata": {
    "slideshow": {
     "slide_type": "fragment"
    }
   },
   "source": [
    "1. commonly has the `.sh` file ending to show it is a script\n",
    "2. has execution permission. This can be given with the `chmod +x` command\n",
    "3. starts with the shebang: `#!/bin/bash` that specifies the shell that should run the script\n",
    "\n",
    "Let's look at an example script in the `interesting_files` directory:"
   ]
  },
  {
   "cell_type": "code",
   "execution_count": null,
   "metadata": {
    "slideshow": {
     "slide_type": "fragment"
    }
   },
   "outputs": [],
   "source": [
    "ls -lF ../interesting_files/"
   ]
  },
  {
   "cell_type": "code",
   "execution_count": null,
   "metadata": {
    "slideshow": {
     "slide_type": "fragment"
    }
   },
   "outputs": [],
   "source": [
    "../interesting_files/run_me.sh"
   ]
  },
  {
   "cell_type": "markdown",
   "metadata": {
    "slideshow": {
     "slide_type": "subslide"
    }
   },
   "source": [
    "### Exercise 3a\n",
    "\n",
    "Create a script that runs our `grep` command to create the lines for the role of \"Brian\"\n",
    "\n",
    "Steps:\n",
    "1. Start by re-running the command that created the lines for the role \"Brian\"\n",
    "2. In the `~/shell-directory/flying_circus` directory, create an empty script file called `create_lines.sh`\n",
    "3. Copy the `grep` command to the shell script using a text editor (or, try using `echo` and redirect the entire command into the script directly, with `>`) \n",
    "4. Add the necessary shell script elements:\n",
    "    1. a `.sh` file ending (done)\n",
    "    2. first line has the shebang: `#!/bin/bash`\n",
    "    3. file has execution permission. This can be given with the `chmod` command: `chmod +x create_lines.sh`"
   ]
  },
  {
   "cell_type": "code",
   "execution_count": null,
   "metadata": {
    "slideshow": {
     "slide_type": "fragment"
    }
   },
   "outputs": [],
   "source": [
    "grep \"^Brian:\" brian.txt > my_lines/Brians_lines.txt"
   ]
  },
  {
   "cell_type": "markdown",
   "metadata": {
    "slideshow": {
     "slide_type": "subslide"
    }
   },
   "source": [
    "__Try for yourselves and I'll walk through in a moment__.\n",
    "\n",
    "### Hints:\n",
    "- `touch <filename>` creates an empty file\n",
    "- if you copy by hand, use the context menu to paste (right-click). `CTRL+C` is reserved in `bash` to cancel commands\n",
    "- in `nano`, remember to save (write) the file before you exit.\n",
    "  - `^` for CTRL: `^G`  means \"press and hold CTRL together with the `G` key\"\n",
    "  - `M` for ALT:  `M-U` means \"press and hold ALT together with the `U` key\"\n",
    "  - Write out then is `CTRL+O`"
   ]
  },
  {
   "cell_type": "markdown",
   "metadata": {
    "slideshow": {
     "slide_type": "fragment"
    }
   },
   "source": [
    "```bash\n",
    "nano create_lines.sh\n",
    "\n",
    "# OR\n",
    "echo \\\n",
    "  'grep \"^Brian:\" brian.txt > my_lines/Brians_lines.txt' > create_lines.sh\n",
    "# and then nano create_lines.sh to add shell script elements\n",
    "```"
   ]
  },
  {
   "cell_type": "markdown",
   "metadata": {
    "slideshow": {
     "slide_type": "subslide"
    }
   },
   "source": [
    "Now let's \n",
    "- give the script execution permission with `chmod +x`\n",
    "- and see if this worked with `ls -lF`\n",
    "- finally, run our script with `./create_lines.sh` (remove the existing `my_lines/Brians_lines.txt` file first, to check that the script works)"
   ]
  },
  {
   "cell_type": "code",
   "execution_count": null,
   "metadata": {
    "slideshow": {
     "slide_type": "fragment"
    }
   },
   "outputs": [],
   "source": [
    "ls -lF"
   ]
  },
  {
   "cell_type": "code",
   "execution_count": null,
   "metadata": {
    "slideshow": {
     "slide_type": "fragment"
    }
   },
   "outputs": [],
   "source": [
    "chmod +x create_lines.sh"
   ]
  },
  {
   "cell_type": "code",
   "execution_count": null,
   "metadata": {
    "slideshow": {
     "slide_type": "fragment"
    }
   },
   "outputs": [],
   "source": [
    "ls -lF"
   ]
  },
  {
   "cell_type": "code",
   "execution_count": null,
   "metadata": {
    "slideshow": {
     "slide_type": "fragment"
    }
   },
   "outputs": [],
   "source": [
    "rm my_lines/Brians_lines.txt\n",
    "./create_lines.sh"
   ]
  },
  {
   "cell_type": "markdown",
   "metadata": {
    "slideshow": {
     "slide_type": "fragment"
    }
   },
   "source": [
    "It works!"
   ]
  },
  {
   "cell_type": "markdown",
   "metadata": {
    "slideshow": {
     "slide_type": "subslide"
    }
   },
   "source": [
    "### Exercise 3 - variables\n",
    "\n",
    "But what if we want to change the role that the script creates the lines for? For this, we can use variables!"
   ]
  },
  {
   "cell_type": "markdown",
   "metadata": {
    "slideshow": {
     "slide_type": "subslide"
    }
   },
   "source": [
    "### Recap variables\n",
    "\n",
    "We can define __variables__ and assign values to them\n",
    "- to define a variable we use the `=` character\n",
    "- to access the value of a variable we use the `$` character\n",
    "- a newly defined variable is a __shell variable__ that is not visible to other programs we start from our shell\n",
    "- with the `export` command, we can turn our variable into an __environment variable__ that is visible to other programs\n",
    "\n",
    "Let's look at this briefly"
   ]
  },
  {
   "cell_type": "code",
   "execution_count": null,
   "metadata": {
    "slideshow": {
     "slide_type": "fragment"
    }
   },
   "outputs": [],
   "source": [
    "MY_VAR=10"
   ]
  },
  {
   "cell_type": "code",
   "execution_count": null,
   "metadata": {
    "slideshow": {
     "slide_type": "fragment"
    }
   },
   "outputs": [],
   "source": [
    "echo $MY_VAR"
   ]
  },
  {
   "cell_type": "code",
   "execution_count": null,
   "metadata": {
    "slideshow": {
     "slide_type": "fragment"
    }
   },
   "outputs": [],
   "source": [
    "export MY_VAR"
   ]
  },
  {
   "cell_type": "code",
   "execution_count": null,
   "metadata": {
    "slideshow": {
     "slide_type": "fragment"
    }
   },
   "outputs": [],
   "source": [
    "printenv | grep MY_VAR"
   ]
  },
  {
   "cell_type": "markdown",
   "metadata": {
    "slideshow": {
     "slide_type": "subslide"
    }
   },
   "source": [
    "### Exercise 3b\n",
    "\n",
    "1. Create a shell variable called `ROLE` and assign the name of a different role, \"Vendor\", as the value\n",
    "3. Confirm the value was correctly assigned with `echo`\n",
    "4. Turn our variable `ROLE` into an **environment variable** so our script can see it\n",
    "\n",
    "__Try for yourselves and I'll walk through in a moment__."
   ]
  },
  {
   "cell_type": "code",
   "execution_count": null,
   "metadata": {
    "slideshow": {
     "slide_type": "fragment"
    }
   },
   "outputs": [],
   "source": [
    "ROLE=\"Vendor\""
   ]
  },
  {
   "cell_type": "code",
   "execution_count": null,
   "metadata": {
    "slideshow": {
     "slide_type": "fragment"
    }
   },
   "outputs": [],
   "source": [
    "echo ${ROLE}"
   ]
  },
  {
   "cell_type": "code",
   "execution_count": null,
   "metadata": {
    "slideshow": {
     "slide_type": "fragment"
    }
   },
   "outputs": [],
   "source": [
    "export ROLE"
   ]
  },
  {
   "cell_type": "code",
   "execution_count": null,
   "metadata": {
    "slideshow": {
     "slide_type": "fragment"
    }
   },
   "outputs": [],
   "source": [
    "# Confirm that \"ROLE\" is now an environment variable\n",
    "printenv | grep ROLE"
   ]
  },
  {
   "cell_type": "markdown",
   "metadata": {
    "slideshow": {
     "slide_type": "subslide"
    }
   },
   "source": [
    "### Exercise 3c\n",
    "\n",
    "Finally, replace the hard-coded value `\"Brian\"` in the script `create_lines.sh` with the new variable `ROLE`:\n",
    "\n",
    "#### Hints\n",
    "- `$` to access the value of the variable\n",
    "- variable names are case sensitive\n",
    "- wrapping the variable in `{ }` is important when the variable is surrounded by other text, so bash knows where the variable name ends\n",
    "  - we can embed a variable in a string like this:\n",
    "    `\"Hello World!\"` -> `\"Hello ${PLACE}!\"`\n",
    "\n",
    "__Try for yourselves and I'll walk through in a moment__."
   ]
  },
  {
   "cell_type": "markdown",
   "metadata": {
    "slideshow": {
     "slide_type": "fragment"
    }
   },
   "source": [
    "```bash\n",
    "grep \"^Brian:\" brian.txt > my_lines/brians_lines.txt\n",
    "# becomes  \n",
    "grep \"^${ROLE}:\" brian.txt > my_lines/${ROLE}s_lines.txt\n",
    "```"
   ]
  },
  {
   "cell_type": "code",
   "execution_count": null,
   "metadata": {
    "slideshow": {
     "slide_type": "fragment"
    }
   },
   "outputs": [],
   "source": [
    "cat create_lines.sh"
   ]
  },
  {
   "cell_type": "code",
   "execution_count": null,
   "metadata": {
    "slideshow": {
     "slide_type": "fragment"
    }
   },
   "outputs": [],
   "source": [
    "./create_lines.sh"
   ]
  },
  {
   "cell_type": "markdown",
   "metadata": {
    "slideshow": {
     "slide_type": "subslide"
    }
   },
   "source": [
    "Try changing the `ROLE` variable in the shell to other roles from the script and then run `create_lines.sh` again.\n",
    "\n",
    "Here is a list with some other roles to try:\n",
    "\n",
    "- Baby\n",
    "- Balthasar\n",
    "- Eremite\n",
    "- Door"
   ]
  },
  {
   "cell_type": "code",
   "execution_count": null,
   "metadata": {
    "slideshow": {
     "slide_type": "fragment"
    }
   },
   "outputs": [],
   "source": [
    "ROLE=Door"
   ]
  },
  {
   "cell_type": "code",
   "execution_count": null,
   "metadata": {
    "slideshow": {
     "slide_type": "fragment"
    }
   },
   "outputs": [],
   "source": [
    "./create_lines.sh"
   ]
  },
  {
   "cell_type": "markdown",
   "metadata": {
    "slideshow": {
     "slide_type": "subslide"
    }
   },
   "source": [
    "## Summary\n",
    "\n",
    "- `grep` is a great tool to search within (text)files for occurrences of a given string or even complex regular expressions\n",
    "- shell scripts are a very powerful way to automate, repeat and document steps\n",
    "- variables can store values that scripts operate on\n",
    "- we access the value of variables with `$` and we can export variables to environment variables with `export`\n",
    "- here we have used environmental variables because we have seen them before. In practice there would have been better ways to tell our script which actor we want to have lines created for (i.e. we can make our script accept its own arguments like other bash commands do too)"
   ]
  },
  {
   "cell_type": "markdown",
   "metadata": {
    "slideshow": {
     "slide_type": "slide"
    }
   },
   "source": [
    "## Exercise 4 - a neuroimaging dataset example\n",
    "\n",
    "When working with research datasets, commands like `head`, `tail`, `cat`, `wc`, and `grep` are extremely useful when you need to quickly check info or get an overview of large tabular data files (e.g., `.csv` and `.tsv`) without having to open them in Excel, Google Sheets, or even a normal text editor.\n",
    "\n",
    "The file `participants_nbsub-100.tsv` is a tab-separated table that contains data for 100 subjects from the ABIDE dataset. Each row represents a subject except for the first row, which contains the column names."
   ]
  },
  {
   "cell_type": "code",
   "execution_count": null,
   "metadata": {
    "slideshow": {
     "slide_type": "fragment"
    }
   },
   "outputs": [],
   "source": [
    "cd .."
   ]
  },
  {
   "cell_type": "code",
   "execution_count": null,
   "metadata": {
    "slideshow": {
     "slide_type": "fragment"
    }
   },
   "outputs": [],
   "source": [
    "ls"
   ]
  },
  {
   "cell_type": "markdown",
   "metadata": {
    "slideshow": {
     "slide_type": "subslide"
    }
   },
   "source": [
    "### Exercise 4\n",
    "\n",
    "Try the following to explore `participants_nbsub-100.tsv`, **without opening the file**:\n",
    "\n",
    "1. Print just the first row (the column names) to see what kinds of subject data are available\n",
    "2. Confirm that besides the header, there are 100 rows/lines of subject data in the file\n",
    "3. Print just the information for the subject `50012`\n",
    "4. There's a column called `SITE_ID` which has 3 possible values: `PITT`, `OLIN`, `OHSU`. Find just the rows that have the value \"PITT\", and output those rows to a new file `participants_nbsub-100_PITTonly.tsv`\n",
    "\n",
    "**Try it out!**"
   ]
  },
  {
   "cell_type": "code",
   "execution_count": null,
   "metadata": {
    "slideshow": {
     "slide_type": "fragment"
    }
   },
   "outputs": [],
   "source": [
    "head -n 1 participants_nbsub-100.tsv"
   ]
  },
  {
   "cell_type": "code",
   "execution_count": null,
   "metadata": {
    "slideshow": {
     "slide_type": "fragment"
    }
   },
   "outputs": [],
   "source": [
    "cat participants_nbsub-100.tsv | wc -l"
   ]
  },
  {
   "cell_type": "code",
   "execution_count": null,
   "metadata": {
    "slideshow": {
     "slide_type": "fragment"
    }
   },
   "outputs": [],
   "source": [
    "# OR\n",
    "tail -n +2 participants_nbsub-100.tsv | wc -l"
   ]
  },
  {
   "cell_type": "code",
   "execution_count": null,
   "metadata": {
    "slideshow": {
     "slide_type": "fragment"
    }
   },
   "outputs": [],
   "source": [
    "grep 50012 participants_nbsub-100.tsv"
   ]
  },
  {
   "cell_type": "code",
   "execution_count": null,
   "metadata": {
    "slideshow": {
     "slide_type": "fragment"
    }
   },
   "outputs": [],
   "source": [
    "grep PITT participants_nbsub-100.tsv > participants_nbsub-100_PITTonly.tsv"
   ]
  },
  {
   "cell_type": "markdown",
   "metadata": {
    "slideshow": {
     "slide_type": "slide"
    }
   },
   "source": [
    "## Exercise 5 - the `$PATH` variable\n",
    "\n",
    "When we run scripts that we have created (like `create_lines.sh`), we need to specify the path to the script: `./create_lines.sh` (remember that `.` stands for the current directory).\n",
    "\n",
    "From the lecture we know that when you type a command into the shell, it will go and search for executable files with this name in a number of directories. These directories are defined in the `$PATH` variable:"
   ]
  },
  {
   "cell_type": "code",
   "execution_count": null,
   "metadata": {
    "slideshow": {
     "slide_type": "fragment"
    }
   },
   "outputs": [],
   "source": [
    "echo $PATH"
   ]
  },
  {
   "cell_type": "markdown",
   "metadata": {
    "slideshow": {
     "slide_type": "fragment"
    }
   },
   "source": [
    "Unless a script is in one of these directories, the shell won't find it. We have some scripts inside of the `interesting_files` directory, but the directory is not in the `PATH` variable. We shouldn't be able to run them without specifying their path:"
   ]
  },
  {
   "cell_type": "code",
   "execution_count": null,
   "metadata": {
    "slideshow": {
     "slide_type": "fragment"
    }
   },
   "outputs": [],
   "source": [
    "pwd"
   ]
  },
  {
   "cell_type": "code",
   "execution_count": null,
   "metadata": {
    "slideshow": {
     "slide_type": "fragment"
    }
   },
   "outputs": [],
   "source": [
    "# -F helps differentiate types of files or directories\n",
    "# Executable files are indicated by a *\n",
    "ls -lF interesting_files"
   ]
  },
  {
   "cell_type": "code",
   "execution_count": null,
   "metadata": {
    "slideshow": {
     "slide_type": "fragment"
    }
   },
   "outputs": [],
   "source": [
    "run_me.sh"
   ]
  },
  {
   "cell_type": "markdown",
   "metadata": {
    "slideshow": {
     "slide_type": "subslide"
    }
   },
   "source": [
    "### Exercise 5a\n",
    "\n",
    "How can we add the `interesting_files` directory to the `PATH` variable?\n",
    "\n",
    "Just like the `ROLE` variable in the previous exercise, we can **re-assign** the value of the `PATH` variable. \n",
    "\n",
    "### Hints:\n",
    "- In `$PATH`, directories are separated by a `:` character\n",
    "- Append another directory to the list of directories currently in `$PATH` using the `:` delimiter, and re-assigning the combined path to the `PATH` variable\n",
    "\n",
    "**Try it out!**"
   ]
  },
  {
   "cell_type": "code",
   "execution_count": null,
   "metadata": {
    "slideshow": {
     "slide_type": "fragment"
    }
   },
   "outputs": [],
   "source": [
    "echo $PATH"
   ]
  },
  {
   "cell_type": "code",
   "execution_count": null,
   "metadata": {
    "slideshow": {
     "slide_type": "fragment"
    }
   },
   "outputs": [],
   "source": [
    "PATH=${PATH}:~/shell-course/interesting_files"
   ]
  },
  {
   "cell_type": "code",
   "execution_count": null,
   "metadata": {
    "slideshow": {
     "slide_type": "fragment"
    }
   },
   "outputs": [],
   "source": [
    "echo $PATH"
   ]
  },
  {
   "cell_type": "markdown",
   "metadata": {
    "slideshow": {
     "slide_type": "subslide"
    }
   },
   "source": [
    "And now let's see if the shell can find our script"
   ]
  },
  {
   "cell_type": "code",
   "execution_count": null,
   "metadata": {
    "slideshow": {
     "slide_type": "fragment"
    }
   },
   "outputs": [],
   "source": [
    "pwd"
   ]
  },
  {
   "cell_type": "code",
   "execution_count": null,
   "metadata": {
    "slideshow": {
     "slide_type": "fragment"
    }
   },
   "outputs": [],
   "source": [
    "run_me.sh"
   ]
  },
  {
   "cell_type": "markdown",
   "metadata": {
    "slideshow": {
     "slide_type": "subslide"
    }
   },
   "source": [
    "### Exercise 5b\n",
    "\n",
    "Now that all the scripts inside `interesting_files` are in `$PATH`, let's use the `favorite_color.sh` script to print your favorite color.\n",
    "\n",
    "Let's look at the script first:"
   ]
  },
  {
   "cell_type": "code",
   "execution_count": null,
   "metadata": {
    "slideshow": {
     "slide_type": "fragment"
    }
   },
   "outputs": [],
   "source": [
    "cat interesting_files/favorite_colour.sh"
   ]
  },
  {
   "cell_type": "markdown",
   "metadata": {
    "slideshow": {
     "slide_type": "fragment"
    }
   },
   "source": [
    "This script uses the value of a variable called `FAVORITE_COLOR`.\n",
    "\n",
    "Without modifying the script, make it print a color of your choosing.\n",
    "\n",
    "**Try it out!**"
   ]
  },
  {
   "cell_type": "code",
   "execution_count": null,
   "metadata": {
    "slideshow": {
     "slide_type": "fragment"
    }
   },
   "outputs": [],
   "source": [
    "export FAVORITE_COLOR=yellow"
   ]
  },
  {
   "cell_type": "code",
   "execution_count": null,
   "metadata": {
    "slideshow": {
     "slide_type": "fragment"
    }
   },
   "outputs": [],
   "source": [
    "favourite_colour.sh"
   ]
  },
  {
   "cell_type": "markdown",
   "metadata": {
    "slideshow": {
     "slide_type": "subslide"
    }
   },
   "source": [
    "## Summary\n",
    "\n",
    "- the shell will look for programs in your command in directories defined in the `$PATH` variable\n",
    "- `$PATH` and other environment variables are set by startup files at the system and user level\n",
    "- you can edit the startup files for your user in your home directory (e.g. `~/.bashrc`)\n",
    "- to retrieve the value of a variable, we need the `$` character (e.g. `$VAR` vs `VAR`)\n",
    "- there are two types of variables: \"shell variables\" and \"environment variables\"\n",
    "    - only environment variables get passed to programs you call from the shell\n",
    "    - you can turn a shell variable into an environment variable with `export`"
   ]
  },
  {
   "cell_type": "markdown",
   "metadata": {
    "slideshow": {
     "slide_type": "slide"
    }
   },
   "source": [
    "## Final tips\n",
    "\n",
    "The shell (bash) will be useful for you for:\n",
    "- automating repetitive tasks\n",
    "- keeping records of executed commands (through scripts) and re-using them\n",
    "- access to remote computers like Compute Canada\n",
    "- access to and understanding of tools in the neuroimaging world (many of the ones you will learn about this week)\n",
    "\n",
    "With some experience, you'll probably find yourself often opening a terminal (running a shell) for something you could also do with your mouse or a graphical program."
   ]
  },
  {
   "cell_type": "markdown",
   "metadata": {
    "slideshow": {
     "slide_type": "subslide"
    }
   },
   "source": [
    "Also consider:\n",
    "* `bash` and other shells are great for many tasks, particularly when they involve changes to your files and directories\n",
    "* But `bash` is not the right tool to create complex pipelines and programs like the ones needed for research analyses\n",
    "* For these tasks, modern programming languages like `python` offer better error handling, control flow, debugging and other features"
   ]
  },
  {
   "cell_type": "markdown",
   "metadata": {
    "slideshow": {
     "slide_type": "subslide"
    }
   },
   "source": [
    "## What else can I do?\n",
    "\n",
    "Check out the documentation for some other useful commands:"
   ]
  },
  {
   "cell_type": "markdown",
   "metadata": {
    "slideshow": {
     "slide_type": "fragment"
    }
   },
   "source": [
    "- [rsync](https://linux.die.net/man/1/rsync): local and remote file transfer (synchronization) that can detect and transfer only differences"
   ]
  },
  {
   "cell_type": "markdown",
   "metadata": {
    "slideshow": {
     "slide_type": "fragment"
    }
   },
   "source": [
    "- `cat -e` and [dos2unix](https://linux.die.net/man/1/dos2unix): check and convert line endings between Windows/Mac/Linux file formats (very useful if you work on a remote server that is a different OS)"
   ]
  },
  {
   "cell_type": "markdown",
   "metadata": {
    "slideshow": {
     "slide_type": "fragment"
    }
   },
   "source": [
    "* `sed` and `awk` [tutorial](https://tldp.org/LDP/abs/html/sedawk.html): more advanced string manipulation/replacement and selecting specific sections of text\n",
    "    * often used in a context with `grep`"
   ]
  },
  {
   "cell_type": "markdown",
   "metadata": {
    "slideshow": {
     "slide_type": "fragment"
    }
   },
   "source": [
    "- [tmux](https://tmuxguide.readthedocs.io/en/latest/tmux/tmux.html), see also [this beginner's guide](https://www.hamvocke.com/blog/a-quick-and-easy-guide-to-tmux/): manage multiple terminal \"windows\" and keep sessions running in the background"
   ]
  },
  {
   "cell_type": "markdown",
   "metadata": {
    "slideshow": {
     "slide_type": "slide"
    }
   },
   "source": [
    "# Questions?"
   ]
  },
  {
   "cell_type": "markdown",
   "metadata": {
    "slideshow": {
     "slide_type": "subslide"
    }
   },
   "source": [
    "# References\n",
    "\n",
    "There are lots of excellent resources online for learning more about bash:\n",
    "\n",
    "* The GNU Manual is *the* reference for all bash commands: http://www.gnu.org/manual/manual.html\n",
    "* \"Learning the Bash Shell\" book: http://shop.oreilly.com/product/9780596009656.do\n",
    "* An interactive on-line bash shell course: https://www.learnshell.org/\n",
    "* The reference page of the software carpentry course: https://swcarpentry.github.io/shell-novice/reference.html"
   ]
  }
 ],
 "metadata": {
  "celltoolbar": "Slideshow",
  "kernelspec": {
   "display_name": "Bash",
   "language": "bash",
   "name": "bash"
  },
  "language_info": {
   "codemirror_mode": "shell",
   "file_extension": ".sh",
   "mimetype": "text/x-sh",
   "name": "bash"
  },
  "rise": {
   "scroll": true
  }
 },
 "nbformat": 4,
 "nbformat_minor": 2
}

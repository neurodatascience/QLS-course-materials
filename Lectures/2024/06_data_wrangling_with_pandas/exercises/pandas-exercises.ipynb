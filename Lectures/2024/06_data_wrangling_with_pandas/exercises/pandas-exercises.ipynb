{
 "cells": [
  {
   "cell_type": "markdown",
   "metadata": {},
   "source": [
    "# Intro to Data Wrangling With Pandas - Exercises"
   ]
  },
  {
   "cell_type": "code",
   "execution_count": null,
   "metadata": {},
   "outputs": [],
   "source": [
    "import pandas as pd  # Importing the pandas module\n",
    "import numpy as np  # Importing numpy"
   ]
  },
  {
   "cell_type": "markdown",
   "metadata": {},
   "source": [
    "### a)\n",
    "* Read in the `Lectures/2024/data/participants_nbsub-100.tsv` file using Pandas.\n",
    "  The difference between a CSV and a TSV is that the separator is either a comma (C) or a tab (T),\n",
    "  and this separator can be specified as an argument to the read_csv method.\n",
    "* Only keep the columns 'SUB_ID', 'SITE_ID', 'FILE_ID', 'AGE_AT_SCAN', and 'SEX'.\n",
    "* Find the dimensionality of the dataframe, and display the first 20 rows."
   ]
  },
  {
   "cell_type": "code",
   "execution_count": null,
   "metadata": {},
   "outputs": [],
   "source": [
    "# Write your code here"
   ]
  },
  {
   "cell_type": "markdown",
   "metadata": {},
   "source": [
    "### b) \n",
    "* Make a new dataframe containing all of the subjects below age 15, that are NOT found at the 'PITT' SITE_ID, and that are males.\n",
    "* Find the dimensionality of this resulting dataframe, how did it change? Look at the order of the indices, how did they change?\n",
    "* Use the describe() method to find a statistical summary of the resulting AGE_AT_SCAN Series.\n",
    "* Reset the index of the dataframe as seen in the [Documentation](https://pandas.pydata.org/docs/reference/api/pandas.DataFrame.reset_index.html), such that the dataframe indices are re-set to start from 0."
   ]
  },
  {
   "cell_type": "code",
   "execution_count": null,
   "metadata": {},
   "outputs": [],
   "source": [
    "# Write your code here"
   ]
  },
  {
   "cell_type": "markdown",
   "metadata": {},
   "source": [
    "### c)\n",
    "* Imagine your CSV was somehow corrupted, and you randomly lost 10% of the AGE_AT_SCAN values. Oh no!\n",
    "* How would you write a script to mimic this mishap? Randomly replace 10% of the AGE_AT_SCAN values with a NaN value. Use numpy.random.seed(0).\n",
    "* You now want to replace these NaN values by imputing the missing data with the mean. There are many ways to skin a cat, but you might want to look into the [replace function](https://pandas.pydata.org/docs/reference/api/pandas.DataFrame.replace.html)."
   ]
  },
  {
   "cell_type": "code",
   "execution_count": null,
   "metadata": {},
   "outputs": [],
   "source": [
    "# Write your code here"
   ]
  },
  {
   "cell_type": "markdown",
   "metadata": {},
   "source": [
    "### d)\n",
    "* Say you are given three Series containing the SUB_ID, the weights and the height of subjects.\n",
    "* Make a dataframe out of these three Series.\n",
    "* Merge the new dataframe and the existing one on based on the common SUB_ID."
   ]
  },
  {
   "cell_type": "code",
   "execution_count": null,
   "metadata": {},
   "outputs": [],
   "source": [
    "weight_array = np.random.normal(50.0, 5.0, df_query.shape[0])\n",
    "height_array = np.random.normal(160.0, 10.0, df_query.shape[0])\n",
    "\n",
    "weight_series = pd.Series(weight_array)\n",
    "height_series = pd.Series(height_array)\n",
    "sub_id_series = df_query[\"SUB_ID\"].copy()  # This df_query dataframe is the output of exercise b)."
   ]
  },
  {
   "cell_type": "code",
   "execution_count": null,
   "metadata": {},
   "outputs": [],
   "source": [
    "# Write your code here"
   ]
  },
  {
   "cell_type": "markdown",
   "metadata": {},
   "source": [
    "### e)\n",
    "* You are given a Basal Metabolic Rate formula in calories: BMR = 88 + 13w + 5h - 6a, where w = weight (kg), h = height (cm), and a = age (yrs).\n",
    "* Add a column to your dataframe that contains the BMR value for all the subjects."
   ]
  },
  {
   "cell_type": "code",
   "execution_count": null,
   "metadata": {},
   "outputs": [],
   "source": [
    "# Write your code here"
   ]
  }
 ],
 "metadata": {
  "kernelspec": {
   "display_name": "Python 3",
   "language": "python",
   "name": "python3"
  },
  "language_info": {
   "codemirror_mode": {
    "name": "ipython",
    "version": 3
   },
   "file_extension": ".py",
   "mimetype": "text/x-python",
   "name": "python",
   "nbconvert_exporter": "python",
   "pygments_lexer": "ipython3",
   "version": "3.6.9"
  }
 },
 "nbformat": 4,
 "nbformat_minor": 4
}

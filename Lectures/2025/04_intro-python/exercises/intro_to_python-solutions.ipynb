{
 "cells": [
  {
   "cell_type": "markdown",
   "id": "dfdc94b8",
   "metadata": {},
   "source": [
    "# QLSC 612: Introduction to Python -- Exercises"
   ]
  },
  {
   "cell_type": "markdown",
   "id": "c2b7a274",
   "metadata": {},
   "source": [
    "## 1: Python basics\n",
    "\n",
    "Get more familiar with Python syntax"
   ]
  },
  {
   "cell_type": "markdown",
   "id": "06126b5c",
   "metadata": {},
   "source": [
    "### 1.1: Variables and data types"
   ]
  },
  {
   "cell_type": "markdown",
   "id": "85d79ccf",
   "metadata": {},
   "source": [
    "Consider the following table:\n",
    "\n",
    "| **Name** | **Age** | **Position** |\n",
    "|----------|---------|--------------|\n",
    "| Alice    | 30      | Postdoc      |\n",
    "| Bob      | 27      | Student      |\n",
    "| Charles  | 20      | Student      |\n",
    "| Danielle | 40      | Professor    |\n",
    "\n",
    "\n",
    "Pick one of the persons in the table and create the following variables to store information about them:\n",
    "- `name`: the person's name (**string**) \n",
    "- `age`: the person's age (**integer**) \n",
    "- `is_student`: whether the person is a student or not (**boolean**)"
   ]
  },
  {
   "cell_type": "code",
   "execution_count": null,
   "id": "9882151d",
   "metadata": {},
   "outputs": [],
   "source": [
    "# row 1\n",
    "name = \"Alice\"\n",
    "age = 30\n",
    "is_student = False\n",
    "\n",
    "# row 2\n",
    "name = \"Bob\"\n",
    "age = 27\n",
    "is_student = True\n",
    "\n",
    "# row 3\n",
    "name = \"Charles\"\n",
    "age = 20\n",
    "is_student = True\n",
    "\n",
    "# row 4\n",
    "name = \"Danielle\"\n",
    "age = 40\n",
    "is_student = False"
   ]
  },
  {
   "cell_type": "markdown",
   "id": "260234d9",
   "metadata": {},
   "source": [
    "Now, for each of the three variables you defined above, use the `print` function to print the name of variable and its content.\n",
    "\n",
    "**Bonus**: Use [f-strings](https://docs.python.org/3/tutorial/inputoutput.html#formatted-string-literals) in your solution."
   ]
  },
  {
   "cell_type": "code",
   "execution_count": null,
   "id": "435691ed",
   "metadata": {},
   "outputs": [],
   "source": [
    "# possible solution out of many\n",
    "print(f\"Name:        {name}\")\n",
    "print(f\"Age:         {age}\")\n",
    "print(f\"Is student:  {is_student}\")"
   ]
  },
  {
   "cell_type": "markdown",
   "id": "2dc7b936",
   "metadata": {},
   "source": [
    "One year has passed! Add 1 to the age, assign it back to `age` and print the new value"
   ]
  },
  {
   "cell_type": "code",
   "execution_count": null,
   "id": "db343e9c",
   "metadata": {},
   "outputs": [],
   "source": [
    "# possible solution out of many\n",
    "age += 1\n",
    "print(age)"
   ]
  },
  {
   "cell_type": "markdown",
   "id": "d0f2e50d",
   "metadata": {},
   "source": [
    "### 1.2: Conditionals and logical operators"
   ]
  },
  {
   "cell_type": "markdown",
   "id": "e2e51fab",
   "metadata": {},
   "source": [
    "Write a code snippet that prints whether a person meets the recruitment criteria for a study:\n",
    "- They must be between 18 and 100 years old\n",
    "- If the person is 65 years old or above, they must score at least 75% on a cognitive assessment test\n",
    "\n",
    "Your code should print `\"You are eligible for the study!\"` if they satisfy all the requirements above. Otherwise, it should print `\"Sorry, you are not eligible for the study\"`.\n",
    "\n",
    "**Hint**: You may want to use nested `if`/`elif`/`else` statements.\n",
    "\n",
    "**Bonus**: put your code snippet inside a function and call it with different combinations of values for the `age` and `score` variables."
   ]
  },
  {
   "cell_type": "code",
   "execution_count": null,
   "id": "29dc58f1",
   "metadata": {},
   "outputs": [],
   "source": [
    "# you can modify these variables to test your code\n",
    "age = 66\n",
    "score = 100\n",
    "\n",
    "# note: the question did not specify whether the 18-100 age range is inclusive or exclusive\n",
    "#       here we assume it is inclusive for both ends but it's okay if you used\n",
    "#       age > 18 and age < 100 instead\n",
    "if age >= 18 and age <= 100:\n",
    "    if age >= 65 and score < 75:\n",
    "        print(\"Sorry, you are not eligible for the study\")\n",
    "    else:\n",
    "        print(\"You are eligible for the study!\")\n",
    "\n",
    "else:\n",
    "    print(\"Sorry, you are not eligible for the study\")"
   ]
  },
  {
   "cell_type": "markdown",
   "id": "0d5a0f92",
   "metadata": {},
   "source": [
    "### 1.3: Loops"
   ]
  },
  {
   "cell_type": "markdown",
   "id": "fdef0576",
   "metadata": {},
   "source": [
    "Use nested `for` loops to print the following:\n",
    "\n",
    "```\n",
    "#####\n",
    "####\n",
    "###\n",
    "##\n",
    "#\n",
    "```"
   ]
  },
  {
   "cell_type": "code",
   "execution_count": null,
   "id": "b08a7acc",
   "metadata": {},
   "outputs": [],
   "source": [
    "for i_row in range(5):\n",
    "    row = \"\"\n",
    "    for i_col in range(5 - i_row):\n",
    "        row += \"#\"\n",
    "    print(row)"
   ]
  },
  {
   "cell_type": "markdown",
   "id": "1b9b9da0",
   "metadata": {},
   "source": [
    "Use a `while` loop to print the following:\n",
    "\n",
    "```\n",
    "5\n",
    "4\n",
    "3\n",
    "2\n",
    "1\n",
    "```"
   ]
  },
  {
   "cell_type": "code",
   "execution_count": null,
   "id": "76782e42",
   "metadata": {},
   "outputs": [],
   "source": [
    "i = 5\n",
    "while i > 0:\n",
    "    print(i)\n",
    "    i -= 1"
   ]
  },
  {
   "cell_type": "markdown",
   "id": "afbcd0d4",
   "metadata": {},
   "source": [
    "## 2. `get_average_calories`\n",
    "\n",
    "Create a function `get_average_calories` that takes as input a nested dictionary where:\n",
    "- The first level is fruit names\n",
    "- The second level is information about the fruit\n",
    "- (see cell below for examples)\n",
    "\n",
    "The function should compute the average amount of calories of the fruits in the dictionary.\n",
    "\n",
    "You can assume that every fruit dictionary will have a `\"calories\"` key, which can be either a number or `None`\n",
    "- If the calories field of the fruit is `None`, then skip this fruit and do not use it in your averaging"
   ]
  },
  {
   "cell_type": "code",
   "execution_count": null,
   "id": "cc158d96",
   "metadata": {},
   "outputs": [],
   "source": [
    "# example inputs\n",
    "\n",
    "# expected output: 50\n",
    "fruits_nutrition1 = {\n",
    "    \"apple\": {\"calories\": 54, \"water_percent\": 86, \"fibre_grams\": 2.4},\n",
    "    \"orange\": {\"calories\": 60, \"water_percent\": 86, \"fibre_grams\": 3.0},\n",
    "    \"banana\": {\"calories\": 36, \"water_percent\": 75, \"fibre_grams\": 2.6},\n",
    "}\n",
    "\n",
    "# expected output: 50\n",
    "fruits_nutrition2 = {\n",
    "    \"apple\": {\"calories\": 54, \"water_percent\": 86, \"fibre_grams\": 2.4},\n",
    "    \"orange\": {\"calories\": 60, \"water_percent\": 86, \"fibre_grams\": 3.0},\n",
    "    \"banana\": {\"calories\": 36, \"water_percent\": 75, \"fibre_grams\": 2.6},\n",
    "    \"otherfruit\": {\"calories\": None, \"water_percent\": 66, \"fibre_grams\": 2.0},\n",
    "}\n",
    "\n",
    "# expected output: 40\n",
    "fruits_nutrition3 = {\n",
    "    \"apple\": {\"calories\": 54, \"water_percent\": 86, \"fibre_grams\": 2.4},\n",
    "    \"orange\": {\"calories\": 60, \"water_percent\": 86, \"fibre_grams\": 3.0},\n",
    "    \"banana\": {\"calories\": 36, \"water_percent\": 75, \"fibre_grams\": 2.6},\n",
    "    \"otherfruit\": {\"calories\": None, \"water_percent\": 66, \"fibre_grams\": 2.0},\n",
    "    \"strawberry\": {\"calories\": 10, \"water_percent\": 91, \"fibre_grams\": 0.2},\n",
    "}\n",
    "\n",
    "\n",
    "# possible solution out of many\n",
    "def get_average_calories(fruit_dictionary):\n",
    "    total_calories = 0\n",
    "    fruit_count = 0\n",
    "\n",
    "    for nutrition_info in fruit_dictionary.values():\n",
    "        if nutrition_info.get(\"calories\") is not None:\n",
    "            total_calories += nutrition_info[\"calories\"]\n",
    "            fruit_count += 1\n",
    "\n",
    "    return total_calories / fruit_count\n",
    "\n",
    "\n",
    "print(get_average_calories(fruits_nutrition1))\n",
    "print(get_average_calories(fruits_nutrition2))\n",
    "print(get_average_calories(fruits_nutrition3))"
   ]
  },
  {
   "cell_type": "markdown",
   "id": "382c4220",
   "metadata": {},
   "source": [
    "## 3: `get_and_write_number`"
   ]
  },
  {
   "cell_type": "markdown",
   "id": "691ae478",
   "metadata": {},
   "source": [
    "Write a function `get_and_write_number` that asks for an integer user input from the keyboard and writes it to a text file\n",
    "\n",
    "- The function should take as input the name of the file to write to\n",
    "- If the input is not numerical, then the function should inform the user and attempt to obtain their input again.\n",
    "\n",
    "**Hint**: The function `input(\"Prompt to your question\")` will read the user's input from the keyboard as a string.\n",
    "\n",
    "**Hint**: The [`pathlib.Path`](https://docs.python.org/3/library/pathlib.html) class provides functionalities for writing to files. "
   ]
  },
  {
   "cell_type": "code",
   "execution_count": null,
   "id": "c7658137",
   "metadata": {},
   "outputs": [],
   "source": [
    "# run this to see how the input() function works\n",
    "input(\"Prompt to your question\")"
   ]
  },
  {
   "cell_type": "code",
   "execution_count": null,
   "id": "817987ff",
   "metadata": {},
   "outputs": [],
   "source": [
    "# possible solution out of many\n",
    "def get_and_write_number(filename):\n",
    "    while True:\n",
    "        try:\n",
    "            x = int(input(\"Please enter a number: \"))\n",
    "            break\n",
    "        except ValueError:\n",
    "            print(\"Oops! That was no valid number. Try again...\")\n",
    "\n",
    "    with open(filename, \"w\") as f:\n",
    "        f.write(str(x))\n",
    "        f.close()\n",
    "    return\n",
    "\n",
    "\n",
    "get_and_write_number(\"./user_number.txt\")"
   ]
  },
  {
   "cell_type": "markdown",
   "id": "8b709f75",
   "metadata": {},
   "source": [
    "## 4: Bonus challenge!\n",
    "\n",
    "For those who want more practice or find this easy :)"
   ]
  },
  {
   "cell_type": "markdown",
   "id": "f162e396",
   "metadata": {},
   "source": [
    "### 4.1 Write a piece of code that prints the first 100 primes"
   ]
  },
  {
   "cell_type": "code",
   "execution_count": null,
   "id": "65d7f7f2",
   "metadata": {},
   "outputs": [],
   "source": [
    "primes = []\n",
    "i = 1\n",
    "while i >= 1:\n",
    "    prime_check = 0\n",
    "    for val in range(2, i + 1):\n",
    "        if (i + 1) % val == 0:\n",
    "            prime_check += 1\n",
    "    if prime_check == 0:\n",
    "        primes.append(i + 1)\n",
    "    i += 1\n",
    "    if len(primes) >= 100:\n",
    "        break\n",
    "print(f\"First 100 prime numbers: {primes}\")"
   ]
  },
  {
   "cell_type": "markdown",
   "id": "769180a8",
   "metadata": {},
   "source": [
    "### 4.2 Replace 100 with a variable called `n_primes` (makes your script more customizable)."
   ]
  },
  {
   "cell_type": "code",
   "execution_count": null,
   "id": "a6281f65",
   "metadata": {},
   "outputs": [],
   "source": [
    "n_primes = 100\n",
    "primes = []\n",
    "i = 1\n",
    "while i >= 1:\n",
    "    prime_check = 0\n",
    "    for val in range(2, i + 1):\n",
    "        if (i + 1) % val == 0:\n",
    "            prime_check += 1\n",
    "    if prime_check == 0:\n",
    "        primes.append(i + 1)\n",
    "    i += 1\n",
    "    if len(primes) >= n_primes:\n",
    "        break\n",
    "print(f\"First {n_primes} prime numbers: {primes}\")"
   ]
  },
  {
   "cell_type": "markdown",
   "id": "d36dfb3a",
   "metadata": {},
   "source": [
    "### 4.3 Add code that prints how long it takes to execute\n",
    "\n",
    "**Hint**: you may want to check out the [`time.time` function](https://docs.python.org/3/library/time.html#time.time)."
   ]
  },
  {
   "cell_type": "code",
   "execution_count": null,
   "id": "df223e25",
   "metadata": {},
   "outputs": [],
   "source": [
    "import time\n",
    "\n",
    "start_time = time.time()\n",
    "n_primes = 100\n",
    "primes = []\n",
    "i = 1\n",
    "while i >= 1:\n",
    "    prime_check = 0\n",
    "    for val in range(2, i + 1):\n",
    "        if (i + 1) % val == 0:\n",
    "            prime_check += 1\n",
    "    if prime_check == 0:\n",
    "        primes.append(i + 1)\n",
    "    i += 1\n",
    "    if len(primes) >= n_primes:\n",
    "        break\n",
    "print(f\"First {n_primes} prime numbers: {primes}\")\n",
    "print(f\"Run time: {(time.time() - start_time)} seconds\")"
   ]
  },
  {
   "cell_type": "markdown",
   "id": "33ee0abb",
   "metadata": {},
   "source": [
    "### 4.4 Add a break somewhere to speed up your code (you should notice a smaller run time)."
   ]
  },
  {
   "cell_type": "code",
   "execution_count": null,
   "id": "f9f919e8",
   "metadata": {},
   "outputs": [],
   "source": [
    "import time\n",
    "\n",
    "start_time = time.time()\n",
    "n_primes = 100\n",
    "primes = []\n",
    "i = 1\n",
    "while i >= 1:\n",
    "    prime_check = 0\n",
    "    for val in range(2, i + 1):\n",
    "        if (i + 1) % val == 0:\n",
    "            prime_check += 1\n",
    "            break\n",
    "    if prime_check == 0:\n",
    "        primes.append(i + 1)\n",
    "    i += 1\n",
    "    if len(primes) >= n_primes:\n",
    "        break\n",
    "print(f\"First {n_primes} prime numbers: {primes}\")\n",
    "print(f\"Run time: {(time.time() - start_time)} seconds\")"
   ]
  },
  {
   "cell_type": "markdown",
   "id": "8e4504f7",
   "metadata": {},
   "source": [
    "### 4.5 Modify the range that you iterate through to speed up your code (you should notice a smaller run time).\n",
    "\n",
    "**Hint**: try using `math.sqrt()` (need to `import math` and be weary of type-casting errors)."
   ]
  },
  {
   "cell_type": "code",
   "execution_count": null,
   "id": "72c2bff4",
   "metadata": {},
   "outputs": [],
   "source": [
    "import time\n",
    "import math\n",
    "\n",
    "start_time = time.time()\n",
    "n_primes = 100\n",
    "primes = []\n",
    "i = 1\n",
    "while i >= 1:\n",
    "    prime_check = 0\n",
    "    for val in range(2, int(math.sqrt(i + 1))):\n",
    "        if (i + 1) % val == 0:\n",
    "            prime_check += 1\n",
    "            break\n",
    "    if prime_check == 0:\n",
    "        primes.append(i + 1)\n",
    "    i += 1\n",
    "    if len(primes) >= n_primes:\n",
    "        break\n",
    "print(f\"First {n_primes} prime numbers: {primes}\")\n",
    "print(f\"Run time: {(time.time() - start_time)} seconds\")"
   ]
  },
  {
   "cell_type": "markdown",
   "id": "59ac0b42",
   "metadata": {},
   "source": [
    "### 4.6 Add a prompt that ask a person to input how many ordered primes they want to print.\n",
    "\n",
    "**Hint**: Look into the `input` function"
   ]
  },
  {
   "cell_type": "code",
   "execution_count": null,
   "id": "92758565",
   "metadata": {},
   "outputs": [],
   "source": [
    "import time\n",
    "import math\n",
    "\n",
    "start_time = time.time()\n",
    "n_primes = int(input(\"How many ordered primes do you want to print?\"))\n",
    "primes = []\n",
    "i = 1\n",
    "while i >= 1:\n",
    "    prime_check = 0\n",
    "    for val in range(2, int(math.sqrt(i + 1))):\n",
    "        if (i + 1) % val == 0:\n",
    "            prime_check += 1\n",
    "            break\n",
    "    if prime_check == 0:\n",
    "        primes.append(i + 1)\n",
    "    i += 1\n",
    "    if len(primes) >= n_primes:\n",
    "        break\n",
    "print(f\"First {n_primes} prime numbers: {primes}\")\n",
    "print(f\"Run time: {(time.time() - start_time)} seconds\")"
   ]
  }
 ],
 "metadata": {
  "kernelspec": {
   "display_name": "qlsc612",
   "language": "python",
   "name": "python3"
  },
  "language_info": {
   "codemirror_mode": {
    "name": "ipython",
    "version": 3
   },
   "file_extension": ".py",
   "mimetype": "text/x-python",
   "name": "python",
   "nbconvert_exporter": "python",
   "pygments_lexer": "ipython3",
   "version": "3.9.19"
  }
 },
 "nbformat": 4,
 "nbformat_minor": 5
}

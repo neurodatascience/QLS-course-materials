{
 "cells": [
  {
   "cell_type": "markdown",
   "id": "dfdc94b8",
   "metadata": {},
   "source": [
    "# QLSC 612: Introduction to Python -- Exercises"
   ]
  },
  {
   "cell_type": "markdown",
   "id": "c2b7a274",
   "metadata": {},
   "source": [
    "## 1: Python basics\n",
    "\n",
    "Get more familiar with Python syntax"
   ]
  },
  {
   "cell_type": "markdown",
   "id": "06126b5c",
   "metadata": {},
   "source": [
    "### 1.1: Variables and data types"
   ]
  },
  {
   "cell_type": "markdown",
   "id": "85d79ccf",
   "metadata": {},
   "source": [
    "Consider the following table:\n",
    "\n",
    "| **Name** | **Age** | **Position** |\n",
    "|----------|---------|--------------|\n",
    "| Alice    | 30      | Postdoc      |\n",
    "| Bob      | 27      | Student      |\n",
    "| Charles  | 20      | Student      |\n",
    "| Danielle | 40      | Professor    |\n",
    "\n",
    "\n",
    "Pick one of the persons in the table and create the following variables to store information about them:\n",
    "- `name`: the person's name (**string**) \n",
    "- `age`: the person's age (**integer**) \n",
    "- `is_student`: whether the person is a student or not (**boolean**)"
   ]
  },
  {
   "cell_type": "code",
   "execution_count": null,
   "id": "9882151d",
   "metadata": {
    "vscode": {
     "languageId": "plaintext"
    }
   },
   "outputs": [],
   "source": []
  },
  {
   "cell_type": "markdown",
   "id": "260234d9",
   "metadata": {},
   "source": [
    "Now, for each of the three variables you defined above, use the `print` function to print the name of variable and its content.\n",
    "\n",
    "**Bonus**: Use [f-strings](https://docs.python.org/3/tutorial/inputoutput.html#formatted-string-literals) in your solution."
   ]
  },
  {
   "cell_type": "code",
   "execution_count": null,
   "id": "435691ed",
   "metadata": {
    "vscode": {
     "languageId": "plaintext"
    }
   },
   "outputs": [],
   "source": []
  },
  {
   "cell_type": "markdown",
   "id": "2dc7b936",
   "metadata": {},
   "source": [
    "One year has passed! Add 1 to the age, assign it back to `age` and print the new value"
   ]
  },
  {
   "cell_type": "code",
   "execution_count": null,
   "id": "db343e9c",
   "metadata": {
    "vscode": {
     "languageId": "plaintext"
    }
   },
   "outputs": [],
   "source": []
  },
  {
   "cell_type": "markdown",
   "id": "d0f2e50d",
   "metadata": {},
   "source": [
    "### 1.2: Conditionals and logical operators"
   ]
  },
  {
   "cell_type": "markdown",
   "id": "e2e51fab",
   "metadata": {},
   "source": [
    "Write a code snippet that prints whether a person meets the recruitment criteria for a study:\n",
    "- They must be between 18 and 100 years old\n",
    "- If the person is 65 years old or above, they must score at least 75% on a cognitive assessment test\n",
    "\n",
    "Your code should print `\"You are eligible for the study!\"` if they satisfy all the requirements above. Otherwise, it should print `\"Sorry, you are not eligible for the study\"`.\n",
    "\n",
    "**Hint**: You may want to use nested `if`/`elif`/`else` statements.\n",
    "\n",
    "**Bonus**: put your code snippet inside a function and call it with different combinations of values for the `age` and `score` variables."
   ]
  },
  {
   "cell_type": "code",
   "execution_count": null,
   "id": "29dc58f1",
   "metadata": {},
   "outputs": [],
   "source": [
    "# you can modify these variables to test your code\n",
    "age = 66\n",
    "score = 100\n",
    "\n",
    "# your code here"
   ]
  },
  {
   "cell_type": "markdown",
   "id": "0d5a0f92",
   "metadata": {},
   "source": [
    "### 1.3: Loops"
   ]
  },
  {
   "cell_type": "markdown",
   "id": "fdef0576",
   "metadata": {},
   "source": [
    "Use nested `for` loops to print the following:\n",
    "\n",
    "```\n",
    "#####\n",
    "####\n",
    "###\n",
    "##\n",
    "#\n",
    "```"
   ]
  },
  {
   "cell_type": "code",
   "execution_count": null,
   "id": "b08a7acc",
   "metadata": {},
   "outputs": [],
   "source": []
  },
  {
   "cell_type": "markdown",
   "id": "1b9b9da0",
   "metadata": {},
   "source": [
    "Use a `while` loop to print the following:\n",
    "\n",
    "```\n",
    "5\n",
    "4\n",
    "3\n",
    "2\n",
    "1\n",
    "```"
   ]
  },
  {
   "cell_type": "markdown",
   "id": "afbcd0d4",
   "metadata": {},
   "source": [
    "## 2. `get_average_calories`\n",
    "\n",
    "Create a function `get_average_calories` that takes as input a nested dictionary where:\n",
    "- The first level is fruit names\n",
    "- The second level is information about the fruit\n",
    "- (see cell below for examples)\n",
    "\n",
    "The function should compute the average amount of calories of the fruits in the dictionary.\n",
    "\n",
    "You can assume that every fruit dictionary will have a `\"calories\"` key, which can be either a number or `None`\n",
    "- If the calories field of the fruit is `None`, then skip this fruit and do not use it in your averaging"
   ]
  },
  {
   "cell_type": "code",
   "execution_count": null,
   "id": "cc158d96",
   "metadata": {},
   "outputs": [],
   "source": [
    "# example inputs\n",
    "\n",
    "# expected output: 50\n",
    "fruits_nutrition1 = {\n",
    "    \"apple\": {\"calories\": 54, \"water_percent\": 86, \"fibre_grams\": 2.4},\n",
    "    \"orange\": {\"calories\": 60, \"water_percent\": 86, \"fibre_grams\": 3.0},\n",
    "    \"banana\": {\"calories\": 36, \"water_percent\": 75, \"fibre_grams\": 2.6},\n",
    "}\n",
    "\n",
    "# expected output: 50\n",
    "fruits_nutrition2 = {\n",
    "    \"apple\": {\"calories\": 54, \"water_percent\": 86, \"fibre_grams\": 2.4},\n",
    "    \"orange\": {\"calories\": 60, \"water_percent\": 86, \"fibre_grams\": 3.0},\n",
    "    \"banana\": {\"calories\": 36, \"water_percent\": 75, \"fibre_grams\": 2.6},\n",
    "    \"otherfruit\": {\"calories\": None, \"water_percent\": 66, \"fibre_grams\": 2.0},\n",
    "}\n",
    "\n",
    "# expected output: 40\n",
    "fruits_nutrition3 = {\n",
    "    \"apple\": {\"calories\": 54, \"water_percent\": 86, \"fibre_grams\": 2.4},\n",
    "    \"orange\": {\"calories\": 60, \"water_percent\": 86, \"fibre_grams\": 3.0},\n",
    "    \"banana\": {\"calories\": 36, \"water_percent\": 75, \"fibre_grams\": 2.6},\n",
    "    \"otherfruit\": {\"calories\": None, \"water_percent\": 66, \"fibre_grams\": 2.0},\n",
    "    \"strawberry\": {\"calories\": 10, \"water_percent\": 91, \"fibre_grams\": 0.2},\n",
    "}\n",
    "\n",
    "\n",
    "def get_average_calories(fruit_dictionary: dict[str, dict]):\n",
    "    # your code here (can delete \"pass\")\n",
    "    pass\n",
    "\n",
    "\n",
    "print(get_average_calories(fruits_nutrition1))\n",
    "print(get_average_calories(fruits_nutrition2))\n",
    "print(get_average_calories(fruits_nutrition3))"
   ]
  },
  {
   "cell_type": "markdown",
   "id": "382c4220",
   "metadata": {},
   "source": [
    "## 3: `get_and_write_number`"
   ]
  },
  {
   "cell_type": "markdown",
   "id": "691ae478",
   "metadata": {},
   "source": [
    "Write a function `get_and_write_number` that asks for an integer user input from the keyboard and writes it to a text file\n",
    "\n",
    "- The function should take as input the name of the file to write to\n",
    "- If the input is not numerical, then the function should inform the user and attempt to obtain their input again.\n",
    "\n",
    "**Hint**: The function `input(\"Prompt to your question\")` will read the user's input from the keyboard as a string.\n",
    "\n",
    "**Hint**: The [`pathlib.Path`](https://docs.python.org/3/library/pathlib.html) class provides functionalities for writing to files. "
   ]
  },
  {
   "cell_type": "code",
   "execution_count": null,
   "id": "c7658137",
   "metadata": {},
   "outputs": [],
   "source": [
    "# run this to see how the input() function works\n",
    "input(\"Prompt to your question\")"
   ]
  },
  {
   "cell_type": "code",
   "execution_count": null,
   "id": "817987ff",
   "metadata": {},
   "outputs": [],
   "source": [
    "def get_and_write_number(filename):\n",
    "    # your code here (can delete \"pass\")\n",
    "    pass\n",
    "\n",
    "\n",
    "get_and_write_number(\"./user_number.txt\")"
   ]
  },
  {
   "cell_type": "markdown",
   "id": "8b709f75",
   "metadata": {},
   "source": [
    "## 4: Bonus challenge!\n",
    "\n",
    "For those who want more practice or find this easy :)"
   ]
  },
  {
   "cell_type": "markdown",
   "id": "f162e396",
   "metadata": {},
   "source": [
    "### 4.1 Write a piece of code that prints the first 100 primes"
   ]
  },
  {
   "cell_type": "code",
   "execution_count": null,
   "id": "65d7f7f2",
   "metadata": {},
   "outputs": [],
   "source": [
    "# your code here"
   ]
  },
  {
   "cell_type": "markdown",
   "id": "769180a8",
   "metadata": {},
   "source": [
    "### 4.2 Replace 100 with a variable called `n_primes` (makes your script more customizable)."
   ]
  },
  {
   "cell_type": "code",
   "execution_count": null,
   "id": "a6281f65",
   "metadata": {},
   "outputs": [],
   "source": [
    "# your code here"
   ]
  },
  {
   "cell_type": "markdown",
   "id": "d36dfb3a",
   "metadata": {},
   "source": [
    "### 4.3 Add code that prints how long it takes to execute\n",
    "\n",
    "**Hint**: you may want to check out the [`time.time` function](https://docs.python.org/3/library/time.html#time.time)."
   ]
  },
  {
   "cell_type": "code",
   "execution_count": null,
   "id": "df223e25",
   "metadata": {},
   "outputs": [],
   "source": [
    "# your code here"
   ]
  },
  {
   "cell_type": "markdown",
   "id": "33ee0abb",
   "metadata": {},
   "source": [
    "### 4.4 Add a break somewhere to speed up your code (you should notice a smaller run time)."
   ]
  },
  {
   "cell_type": "code",
   "execution_count": null,
   "id": "f9f919e8",
   "metadata": {},
   "outputs": [],
   "source": [
    "# your code here"
   ]
  },
  {
   "cell_type": "markdown",
   "id": "8e4504f7",
   "metadata": {},
   "source": [
    "### 4.5 Modify the range that you iterate through to speed up your code (you should notice a smaller run time).\n",
    "\n",
    "**Hint**: try using `math.sqrt()` (need to `import math` and be weary of type-casting errors)."
   ]
  },
  {
   "cell_type": "code",
   "execution_count": null,
   "id": "72c2bff4",
   "metadata": {},
   "outputs": [],
   "source": [
    "# your code here"
   ]
  },
  {
   "cell_type": "markdown",
   "id": "59ac0b42",
   "metadata": {},
   "source": [
    "### 4.6 Add a prompt that ask a person to input how many ordered primes they want to print.\n",
    "\n",
    "**Hint**: Look into the `input` function"
   ]
  },
  {
   "cell_type": "code",
   "execution_count": null,
   "id": "92758565",
   "metadata": {},
   "outputs": [],
   "source": [
    "# your code here"
   ]
  }
 ],
 "metadata": {
  "language_info": {
   "name": "python"
  }
 },
 "nbformat": 4,
 "nbformat_minor": 5
}

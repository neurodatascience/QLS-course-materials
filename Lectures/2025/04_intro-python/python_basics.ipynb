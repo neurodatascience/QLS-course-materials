{
 "cells": [
  {
   "cell_type": "markdown",
   "metadata": {
    "editable": true,
    "slideshow": {
     "slide_type": "slide"
    },
    "tags": []
   },
   "source": [
    "# QLSC 612: Introduction to Python\n",
    "\n",
    "[Link to slides used in the first part of the lecture](https://docs.google.com/presentation/d/1sQU0Kcz2ZN3roCARWneqD_1u6S6-tDDYT25PByslzNM/edit?usp=sharing)\n",
    "\n",
    "<!-- \n",
    "Need to install RISE extension for converting notebooks to HTML slides:\n",
    "    pip install jupyterlab_rise\n",
    "Then open notebook in Jupyter Lab. There should be a button in the top right\n",
    "corner to render the notebook as a Reveal slideshow.\n",
    "-->\n",
    "\n",
    "<!-- \n",
    "Command to generate HTML slides and serve on HTTP server: \n",
    "    jupyter-nbconvert --to slides Intro_to_Python.ipynb --post serve  \n",
    "-->"
   ]
  },
  {
   "cell_type": "markdown",
   "metadata": {},
   "source": [
    "## Python super basics\n",
    "\n",
    "The content of this notebook will not be covered explicitly during the lecture given time constraints. Instead, we encourage you to go over it on your own time before the lecture if you are not that familiar with Python.\n",
    "\n",
    "This [cheatsheet](./beginners_python_cheat_sheet_pcc_all.pdf) might be helpful in reminding you of the Python syntax for some of these programming elements. Feel free to consult it or other resources."
   ]
  },
  {
   "cell_type": "markdown",
   "metadata": {
    "editable": true,
    "slideshow": {
     "slide_type": "skip"
    },
    "tags": []
   },
   "source": [
    "## Note"
   ]
  },
  {
   "cell_type": "markdown",
   "metadata": {},
   "source": [
    "If you cloned the course materials repository from GitHub and wish to run/modify this notebook, **make a copy of this file (`python_basics.ipynb`) and edit that copy instead of this one**. Otherwise, you might get merge conflicts when running `git pull` to get the latest version of the course materials."
   ]
  },
  {
   "cell_type": "markdown",
   "metadata": {
    "editable": true,
    "slideshow": {
     "slide_type": "slide"
    },
    "tags": []
   },
   "source": [
    "## Data types\n"
   ]
  },
  {
   "cell_type": "markdown",
   "metadata": {},
   "source": [
    "\n",
    "All data has a type in Python. The basic data types are:\n",
    "\n",
    "| Type     | Description              | Examples                |\n",
    "|----------|--------------------------|-------------------------|\n",
    "| `int`    | An integer               | `5`<br>`-5`             |\n",
    "| `float`  | A real number            | `5.0`<br>`5.`<br>`-5.0` |\n",
    "| `string` | A sequence of characters | `\"Hello\"`<br>`'1'`      |\n",
    "| `bool`   | A boolean value          | `True`<br>`False`       |"
   ]
  },
  {
   "cell_type": "markdown",
   "metadata": {
    "editable": true,
    "slideshow": {
     "slide_type": "subslide"
    },
    "tags": []
   },
   "source": [
    "Data types can be checked with the `type()` function:"
   ]
  },
  {
   "cell_type": "code",
   "execution_count": null,
   "metadata": {
    "editable": true,
    "slideshow": {
     "slide_type": ""
    },
    "tags": []
   },
   "outputs": [],
   "source": [
    "# comments start with a \"#\" symbol and are not executed by the interpreter\n",
    "print(type(5))\n",
    "print(type(5.0))\n",
    "print(type(\"Hello\"))\n",
    "print(type(True))"
   ]
  },
  {
   "cell_type": "markdown",
   "metadata": {},
   "source": [
    "Aside: the `help` function or your IDE can give you information about functions and their inputs/outputs. You can also hover over the function name in VS Code: a pop-up will appear with more information about how to call a function.\n",
    "\n",
    "Most libraries/packages should also have online documentation."
   ]
  },
  {
   "cell_type": "code",
   "execution_count": null,
   "metadata": {},
   "outputs": [],
   "source": [
    "help(print)"
   ]
  },
  {
   "cell_type": "markdown",
   "metadata": {
    "editable": true,
    "slideshow": {
     "slide_type": "subslide"
    },
    "tags": []
   },
   "source": [
    "### Typecasting\n",
    "\n",
    "We can sometimes convert a variable from one type to another (typecasting).\n",
    "- **Implicit** typecasting is automatic\n",
    "    - e.g., `int` -> `float` during division\n",
    "- **Explicit** typecasting requires using a function (`str`, `int`, `float`, `bool`, etc.)\n",
    "    - Note that loss of data may occur (e.g., `float` -> `int`)"
   ]
  },
  {
   "cell_type": "code",
   "execution_count": null,
   "metadata": {
    "editable": true,
    "slideshow": {
     "slide_type": ""
    },
    "tags": []
   },
   "outputs": [],
   "source": [
    "123 + 489.0  # implicit typecasting (note that the output is a float)"
   ]
  },
  {
   "cell_type": "code",
   "execution_count": null,
   "metadata": {
    "editable": true,
    "slideshow": {
     "slide_type": ""
    },
    "tags": []
   },
   "outputs": [],
   "source": [
    "\"qlsc \" + str(612)  # explicit typecasting"
   ]
  },
  {
   "cell_type": "code",
   "execution_count": null,
   "metadata": {
    "editable": true,
    "slideshow": {
     "slide_type": ""
    },
    "tags": []
   },
   "outputs": [],
   "source": [
    "int(\"qlsc\")  # invalid"
   ]
  },
  {
   "cell_type": "markdown",
   "metadata": {
    "editable": true,
    "slideshow": {
     "slide_type": "slide"
    },
    "tags": []
   },
   "source": [
    "## Variables"
   ]
  },
  {
   "cell_type": "markdown",
   "metadata": {},
   "source": [
    "Variables **are labels or names that point to some value or object**. This means that several names can point to the same object. They are assigned using the assignment operator `=`.\n",
    "\n",
    "The Python convention is for variable names to use `snake_case` (lowercase everywhere, words separated by underscores)."
   ]
  },
  {
   "cell_type": "code",
   "execution_count": null,
   "metadata": {
    "editable": true,
    "slideshow": {
     "slide_type": ""
    },
    "tags": []
   },
   "outputs": [],
   "source": [
    "# assigning a variable\n",
    "age = 12\n",
    "age"
   ]
  },
  {
   "cell_type": "markdown",
   "metadata": {},
   "source": [
    "What is the final value of `age`?"
   ]
  },
  {
   "cell_type": "code",
   "execution_count": null,
   "metadata": {
    "editable": true,
    "slideshow": {
     "slide_type": ""
    },
    "tags": []
   },
   "outputs": [],
   "source": [
    "# variables can be updated and even change type (Python is dynamically typed)\n",
    "age = 12\n",
    "age = age + 2\n",
    "age += 1  # add 1 to the value of 'age' and assign it back to 'age'\n",
    "print(type(age))\n",
    "print(age)\n",
    "\n",
    "age = \"twelve\"  # now 'age' is a string\n",
    "print(type(age))\n",
    "print(age)"
   ]
  },
  {
   "cell_type": "markdown",
   "metadata": {
    "editable": true,
    "slideshow": {
     "slide_type": "slide"
    },
    "tags": []
   },
   "source": [
    "## Operators"
   ]
  },
  {
   "cell_type": "markdown",
   "metadata": {},
   "source": [
    "Common operators in Python are:\n",
    "\n",
    "| Type       | Operator(s)                                                               |\n",
    "|------------|---------------------------------------------------------------------------|\n",
    "| Assignment | `=`                                                                       |\n",
    "| Arithmetic | `+`, `-`, `*`, `/`, `//` (integer division), `**` (power), `%` (modulo)   |\n",
    "| Logical    | `not`, `and`, `or`                                                        |\n",
    "| Comparison | `==` (equal), `!=` (not equal), `>`, `>=`, `<`, `<=`                      |\n",
    "| Other      | `is`, `in`, [etc.](https://www.w3schools.com/python/python_operators.asp) |"
   ]
  },
  {
   "cell_type": "markdown",
   "metadata": {
    "editable": true,
    "slideshow": {
     "slide_type": "subslide"
    },
    "tags": []
   },
   "source": [
    "### Notes"
   ]
  },
  {
   "cell_type": "markdown",
   "metadata": {
    "editable": true,
    "jp-MarkdownHeadingCollapsed": true,
    "slideshow": {
     "slide_type": ""
    },
    "tags": []
   },
   "source": [
    "Assignment (`=`) and equality (`==`) are not the same!"
   ]
  },
  {
   "cell_type": "code",
   "execution_count": null,
   "metadata": {
    "editable": true,
    "slideshow": {
     "slide_type": ""
    },
    "tags": []
   },
   "outputs": [],
   "source": [
    "a = 5\n",
    "a = 4  # assign the value 4 to the variable 'a'\n",
    "a"
   ]
  },
  {
   "cell_type": "code",
   "execution_count": null,
   "metadata": {
    "editable": true,
    "slideshow": {
     "slide_type": ""
    },
    "tags": []
   },
   "outputs": [],
   "source": [
    "a = 5\n",
    "a == 4  # check equality"
   ]
  },
  {
   "cell_type": "markdown",
   "metadata": {
    "editable": true,
    "slideshow": {
     "slide_type": "fragment"
    },
    "tags": []
   },
   "source": [
    "Order matters! Use parentheses if needed"
   ]
  },
  {
   "cell_type": "code",
   "execution_count": null,
   "metadata": {
    "editable": true,
    "slideshow": {
     "slide_type": ""
    },
    "tags": []
   },
   "outputs": [],
   "source": [
    "a = 3\n",
    "print(a + a / a)\n",
    "print((a + a) / a)"
   ]
  },
  {
   "cell_type": "markdown",
   "metadata": {
    "editable": true,
    "slideshow": {
     "slide_type": "subslide"
    },
    "tags": []
   },
   "source": [
    "### Aside: Operator overloading\n",
    "\n",
    "The `+` operator has defined behaviour for different data types."
   ]
  },
  {
   "cell_type": "code",
   "execution_count": null,
   "metadata": {
    "editable": true,
    "raw_mimetype": "",
    "slideshow": {
     "slide_type": ""
    },
    "tags": []
   },
   "outputs": [],
   "source": [
    "123 + 489  # integers"
   ]
  },
  {
   "cell_type": "code",
   "execution_count": null,
   "metadata": {
    "editable": true,
    "slideshow": {
     "slide_type": ""
    },
    "tags": []
   },
   "outputs": [],
   "source": [
    "\"qlsc \" + \"612\"  # strings"
   ]
  },
  {
   "cell_type": "markdown",
   "metadata": {
    "editable": true,
    "slideshow": {
     "slide_type": ""
    },
    "tags": []
   },
   "source": [
    "This is called **overloading** an operator. Understanding overloading requires deeper understanding of Python objects, which is beyond the scope of this course, but see this [article](https://www.programiz.com/python-programming/operator-overloading) if you are interested in learning about it."
   ]
  },
  {
   "cell_type": "markdown",
   "metadata": {
    "editable": true,
    "slideshow": {
     "slide_type": "slide"
    },
    "tags": []
   },
   "source": [
    "## Strings"
   ]
  },
  {
   "cell_type": "markdown",
   "metadata": {},
   "source": [
    "* A sequence of characters in between quotation marks (single or double, either works)"
   ]
  },
  {
   "cell_type": "code",
   "execution_count": null,
   "metadata": {
    "editable": true,
    "slideshow": {
     "slide_type": ""
    },
    "tags": []
   },
   "outputs": [],
   "source": [
    "message = \"Hello, I am a string\"\n",
    "message"
   ]
  },
  {
   "cell_type": "markdown",
   "metadata": {},
   "source": [
    "### f-strings\n",
    "- Special syntax for formatting strings\n",
    "- They are more readable than string concatenation or older formatting methods\n",
    "- Using an `f` before the first quotation mark and curly brackets inside the string\n",
    "\n",
    "More information [here](https://docs.python.org/3/tutorial/inputoutput.html#formatted-string-literals)"
   ]
  },
  {
   "cell_type": "code",
   "execution_count": null,
   "metadata": {},
   "outputs": [],
   "source": [
    "my_variable = 123\n",
    "\n",
    "# note the \"f\" before the string\n",
    "# also note the syntax highlighting\n",
    "print(f\"The content of my_variable is: {my_variable}\")\n",
    "print(f\"Adding 489 to my_variable gives: {my_variable + 489}\")"
   ]
  },
  {
   "cell_type": "code",
   "execution_count": null,
   "metadata": {},
   "outputs": [],
   "source": [
    "print(\"The content of my_variable is: \" + str(my_variable))"
   ]
  },
  {
   "cell_type": "markdown",
   "metadata": {
    "editable": true,
    "slideshow": {
     "slide_type": "subslide"
    },
    "tags": []
   },
   "source": [
    "### String indexing\n",
    "* String indexing allows you to access a particular character in a string\n",
    "* Using square brackets\n",
    "* Indexing starts at 0 in Python!"
   ]
  },
  {
   "cell_type": "code",
   "execution_count": null,
   "metadata": {
    "editable": true,
    "slideshow": {
     "slide_type": ""
    },
    "tags": []
   },
   "outputs": [],
   "source": [
    "message = \"Hello, I am a string\"\n",
    "\n",
    "print(f\"The first character of the string is:       {message[0]}\")\n",
    "print(f\"The second character of the string is:      {message[1]}\")\n",
    "print(f\"The last character of the string is:        {message[-1]}\")\n",
    "print(f\"The penultimate character of the string is: {message[-2]}\")"
   ]
  },
  {
   "cell_type": "markdown",
   "metadata": {
    "editable": true,
    "slideshow": {
     "slide_type": "subslide"
    },
    "tags": []
   },
   "source": [
    "### String slicing\n",
    "\n",
    "* Selecting a substring from a string.\n",
    "* Syntax: `my_string[start:stop]` or `my_string[start:end:step]`\n",
    "    * `start` is inclusive (implies start of string if omitted)\n",
    "    * `stop` is exclusive (implies end of string if omitted)"
   ]
  },
  {
   "cell_type": "code",
   "execution_count": null,
   "metadata": {
    "editable": true,
    "slideshow": {
     "slide_type": "-"
    },
    "tags": []
   },
   "outputs": [],
   "source": [
    "message = \"Hello, I am a string\"\n",
    "\n",
    "print(f\"Slicing from the 8th to the last character:                   {message[7:]}\")\n",
    "print(f\"Slicing from the 8th to the 11th character, with a step of 2: {message[7:11:2]}\")\n",
    "print(f\"Slicing with negative indices (7 to -7):                      {message[7:-7]}\")"
   ]
  },
  {
   "cell_type": "markdown",
   "metadata": {
    "editable": true,
    "slideshow": {
     "slide_type": "subslide"
    },
    "tags": []
   },
   "source": [
    "### Strings are immutable: they cannot be modified"
   ]
  },
  {
   "cell_type": "code",
   "execution_count": null,
   "metadata": {
    "editable": true,
    "scrolled": true,
    "slideshow": {
     "slide_type": ""
    },
    "tags": []
   },
   "outputs": [],
   "source": [
    "message = \"Hello, I am a string\"\n",
    "message[0] = \"Y\""
   ]
  },
  {
   "cell_type": "markdown",
   "metadata": {},
   "source": [
    "We can make a new string and assign it to the same variable.\n",
    "\n",
    "This is **not** changing \n",
    "the original string (though nothing is pointing to it anymore so it will be garbage collected) "
   ]
  },
  {
   "cell_type": "code",
   "execution_count": null,
   "metadata": {
    "editable": true,
    "slideshow": {
     "slide_type": ""
    },
    "tags": []
   },
   "outputs": [],
   "source": [
    "message = \"Hello, I am a string\"\n",
    "message = \"Y\" + message[1:]\n",
    "message"
   ]
  },
  {
   "cell_type": "code",
   "execution_count": null,
   "metadata": {},
   "outputs": [],
   "source": [
    "message.replace(\"Hello\", \"Y\")\n",
    "message"
   ]
  },
  {
   "cell_type": "markdown",
   "metadata": {
    "editable": true,
    "slideshow": {
     "slide_type": "subslide"
    },
    "tags": []
   },
   "source": [
    "### Some operations on strings and string methods\n",
    "See the [documentation](https://docs.python.org/3/library/stdtypes.html#string-methods) for more!"
   ]
  },
  {
   "cell_type": "code",
   "execution_count": null,
   "metadata": {
    "editable": true,
    "slideshow": {
     "slide_type": "-"
    },
    "tags": []
   },
   "outputs": [],
   "source": [
    "message = \"This is a string!\"\n",
    "\n",
    "print(f\"The length of the string is: {len(message)}\")  # length of strings\n",
    "\n",
    "print(\n",
    "    f\"Is the substring 'string' inside my string? {'string' in message}\"\n",
    ")  # True if \"string\" is inside the message variable\n",
    "\n",
    "print(f\"Number of times the character 'i' appears in the string: {message.count('i')}\")\n",
    "\n",
    "print(\n",
    "    f\"The index of the first time the substring 's' appears in the string: {message.find('s')}\"\n",
    ")  # finds the index of the first 's' it finds in the string"
   ]
  },
  {
   "cell_type": "markdown",
   "metadata": {},
   "source": [
    "String methods are available for any string (do not have to be a variable):"
   ]
  },
  {
   "cell_type": "code",
   "execution_count": null,
   "metadata": {},
   "outputs": [],
   "source": [
    "print(\"Another.string\".replace(\".\", \" \"))"
   ]
  },
  {
   "cell_type": "markdown",
   "metadata": {
    "editable": true,
    "slideshow": {
     "slide_type": "slide"
    },
    "tags": []
   },
   "source": [
    "## `if` statements\n",
    "* The code within an `if` statement is only executed if the specified condition evaluates to `True`\n",
    "* The code can make decisions based on conditions\n",
    "* Can be followed by many `elif` blocks and an `else` block at the end"
   ]
  },
  {
   "cell_type": "code",
   "execution_count": null,
   "metadata": {
    "editable": true,
    "slideshow": {
     "slide_type": ""
    },
    "tags": []
   },
   "outputs": [],
   "source": [
    "# try modifying the values of x and y\n",
    "# to see how the output changes\n",
    "x = 7\n",
    "y = 3\n",
    "\n",
    "# the code inside an if statement must be indented\n",
    "if x > y:\n",
    "    print(\"x is bigger than y\")\n",
    "# chaining other conditions with \"elif\"\n",
    "elif x < y:\n",
    "    print(\"x is smaller than y\")\n",
    "# executed if none of the previous blocks is executed\n",
    "else:\n",
    "    print(\"x and y are equal\")"
   ]
  },
  {
   "cell_type": "code",
   "execution_count": null,
   "metadata": {
    "editable": true,
    "slideshow": {
     "slide_type": ""
    },
    "tags": []
   },
   "outputs": [],
   "source": [
    "# we can combine operators to build more complex conditionals\n",
    "x = 7\n",
    "y = 2\n",
    "if y == 3 or (x in [2, 3, 7]):\n",
    "    print(\"Bingo\")"
   ]
  },
  {
   "cell_type": "markdown",
   "metadata": {
    "editable": true,
    "slideshow": {
     "slide_type": "slide"
    },
    "tags": []
   },
   "source": [
    "## Loops\n",
    "* A loop is a sequence of code that is repeated until a certain condition is met\n",
    "* There are two main types of loops, `for` loops and `while` loops\n",
    "* All `for` loops can be written as `while` loops, and vice-versa. Just use whichever makes your life easier\n",
    "\n",
    "### `while` loops: execute code for as long as a condition is true"
   ]
  },
  {
   "cell_type": "code",
   "execution_count": null,
   "metadata": {
    "editable": true,
    "slideshow": {
     "slide_type": ""
    },
    "tags": []
   },
   "outputs": [],
   "source": [
    "i = 1  # initialize our counter\n",
    "while i < 6:\n",
    "    print(i)\n",
    "    i += 1  # increment by 1"
   ]
  },
  {
   "cell_type": "markdown",
   "metadata": {
    "editable": true,
    "slideshow": {
     "slide_type": "subslide"
    },
    "tags": []
   },
   "source": [
    "### The `break` statement can terminate a loop early"
   ]
  },
  {
   "cell_type": "code",
   "execution_count": null,
   "metadata": {
    "editable": true,
    "scrolled": true,
    "slideshow": {
     "slide_type": ""
    },
    "tags": []
   },
   "outputs": [],
   "source": [
    "i = 1\n",
    "while i < 6:\n",
    "    print(i)\n",
    "    if i == 3:  # exit the loop when i takes the value of 3\n",
    "        break\n",
    "    i += 1"
   ]
  },
  {
   "cell_type": "markdown",
   "metadata": {
    "editable": true,
    "slideshow": {
     "slide_type": "subslide"
    },
    "tags": []
   },
   "source": [
    "### `for` loops"
   ]
  },
  {
   "cell_type": "code",
   "execution_count": null,
   "metadata": {
    "editable": true,
    "slideshow": {
     "slide_type": ""
    },
    "tags": []
   },
   "outputs": [],
   "source": [
    "for y in range(3):  # in range(n) - from 0 to n-1, so here it's from from 0 to 2\n",
    "    print(y)"
   ]
  },
  {
   "cell_type": "markdown",
   "metadata": {
    "editable": true,
    "slideshow": {
     "slide_type": "subslide"
    },
    "tags": []
   },
   "source": [
    "The `range` function takes up to 3 arguments: `start`, `stop`, `step`"
   ]
  },
  {
   "cell_type": "code",
   "execution_count": null,
   "metadata": {
    "editable": true,
    "slideshow": {
     "slide_type": ""
    },
    "tags": []
   },
   "outputs": [],
   "source": [
    "for y in range(3, 13, 3):  # from 3 to 12, in steps of 3\n",
    "    print(y)"
   ]
  },
  {
   "cell_type": "markdown",
   "metadata": {},
   "source": [
    "`for` loops can be used to directly iterate over strings and many other data types (lists, tuples, sets, dictionaries -- we will see them in more detail in the lecture).\n",
    "\n",
    "See [here](https://www.w3schools.com/python/python_iterators.asp) for the requirements to be \"iterable\" in Python "
   ]
  },
  {
   "cell_type": "code",
   "execution_count": null,
   "metadata": {
    "editable": true,
    "slideshow": {
     "slide_type": ""
    },
    "tags": []
   },
   "outputs": [],
   "source": [
    "for character in \"string\":  # loop over a string's characters\n",
    "    print(character)"
   ]
  },
  {
   "cell_type": "markdown",
   "metadata": {
    "editable": true,
    "slideshow": {
     "slide_type": "subslide"
    },
    "tags": []
   },
   "source": [
    "### List comprehension\n",
    "\n",
    "A quick way to create lists based on an existing iterable\n",
    "\n",
    "To use with moderation -- the code should still be easily understandable"
   ]
  },
  {
   "cell_type": "code",
   "execution_count": null,
   "metadata": {
    "editable": true,
    "slideshow": {
     "slide_type": ""
    },
    "tags": []
   },
   "outputs": [],
   "source": [
    "my_list = [\"orange\", \"apples\", \"bananas\"]\n",
    "\n",
    "my_new_list = [item for item in my_list if item[-1] == \"s\"]\n",
    "my_new_list"
   ]
  },
  {
   "cell_type": "code",
   "execution_count": null,
   "metadata": {},
   "outputs": [],
   "source": [
    "[print(item) for item in my_list]"
   ]
  },
  {
   "cell_type": "markdown",
   "metadata": {
    "editable": true,
    "slideshow": {
     "slide_type": "slide"
    },
    "tags": []
   },
   "source": [
    "## Errors and exception handling"
   ]
  },
  {
   "cell_type": "markdown",
   "metadata": {},
   "source": [
    "*This is a slightly more advanced topic which was taught in previous years. This year, we will not be cover it explicitly (will not be on the quiz), but we are leaving the content here if you are interested.*"
   ]
  },
  {
   "cell_type": "markdown",
   "metadata": {},
   "source": [
    "If code is not used correctly, it should raise an error"
   ]
  },
  {
   "cell_type": "code",
   "execution_count": null,
   "metadata": {
    "editable": true,
    "scrolled": true,
    "slideshow": {
     "slide_type": ""
    },
    "tags": []
   },
   "outputs": [],
   "source": [
    "# we get a TypeError if we use an operator incorrectly\n",
    "user_input = \"not_a_number\"\n",
    "0 < user_input"
   ]
  },
  {
   "cell_type": "code",
   "execution_count": null,
   "metadata": {
    "editable": true,
    "slideshow": {
     "slide_type": ""
    },
    "tags": []
   },
   "outputs": [],
   "source": [
    "# we get a NameError if we use an undefined variable\n",
    "this_variable_does_not_exist"
   ]
  },
  {
   "cell_type": "markdown",
   "metadata": {
    "editable": true,
    "slideshow": {
     "slide_type": "subslide"
    },
    "tags": []
   },
   "source": [
    "### Raising errors\n",
    "\n",
    "We can raise our own errors in our code"
   ]
  },
  {
   "cell_type": "code",
   "execution_count": null,
   "metadata": {
    "editable": true,
    "slideshow": {
     "slide_type": ""
    },
    "tags": []
   },
   "outputs": [],
   "source": [
    "input_number = -1\n",
    "if input_number < 0:\n",
    "    raise ValueError(f\"Number cannot be negative, got {input_number}\")"
   ]
  },
  {
   "cell_type": "markdown",
   "metadata": {
    "editable": true,
    "slideshow": {
     "slide_type": ""
    },
    "tags": []
   },
   "source": [
    "See the [documentation](https://docs.python.org/3/library/exceptions.html) for built-in exceptions in Python"
   ]
  },
  {
   "cell_type": "markdown",
   "metadata": {
    "editable": true,
    "scrolled": true,
    "slideshow": {
     "slide_type": "subslide"
    },
    "tags": []
   },
   "source": [
    "### The `try`/`except`/`finally` blocks\n",
    "\n",
    "They allow use to gracefully handle errors that we know we might encounter\n",
    "\n",
    "* Code inside a `try` block lets you test the code for errors\n",
    "* The `except` block lets you decide what to do in the case that there is an error inside the `try` block\n",
    "* The `finally` block allowed you to execute code regardless of the result of the `try` and `except` blocks"
   ]
  },
  {
   "cell_type": "code",
   "execution_count": null,
   "metadata": {
    "editable": true,
    "slideshow": {
     "slide_type": ""
    },
    "tags": []
   },
   "outputs": [],
   "source": [
    "try:\n",
    "    # the code inside the try block is tested for error\n",
    "    # the variable \"w\" has not been defined, so we will get a NameError\n",
    "    print(w)\n",
    "except Exception as exception:\n",
    "    # the code inside the except block is executed if there are errors\n",
    "    # the program does not crash with an error\n",
    "    print(f\"An exception was caught! The exception was: {type(exception)} {exception}\")"
   ]
  },
  {
   "cell_type": "markdown",
   "metadata": {
    "editable": true,
    "slideshow": {
     "slide_type": "subslide"
    },
    "tags": []
   },
   "source": [
    "### Using multiple `except` blocks\n",
    "\n",
    "Go from more specific to more general"
   ]
  },
  {
   "cell_type": "code",
   "execution_count": null,
   "metadata": {
    "editable": true,
    "slideshow": {
     "slide_type": ""
    },
    "tags": []
   },
   "outputs": [],
   "source": [
    "try:\n",
    "    print(int(\"w\"))  # TypeError\n",
    "    # print(w)  # NameError\n",
    "    print(\"valid print\")\n",
    "\n",
    "# the code throws a name error when it fails outside a try block\n",
    "# so if we know this is a possibility, we catch it specifically.\n",
    "except NameError:\n",
    "    print(\"Variable w is not defined\")\n",
    "\n",
    "# and this code catches more general errors, in case something else unexpected goes wrong.\n",
    "except Exception:\n",
    "    print(\"Something else went wrong\")"
   ]
  },
  {
   "cell_type": "markdown",
   "metadata": {
    "editable": true,
    "slideshow": {
     "slide_type": "subslide"
    },
    "tags": []
   },
   "source": [
    "### Code in the `finally` block is always executed"
   ]
  },
  {
   "cell_type": "code",
   "execution_count": null,
   "metadata": {
    "editable": true,
    "slideshow": {
     "slide_type": ""
    },
    "tags": []
   },
   "outputs": [],
   "source": [
    "try:\n",
    "    print(w)\n",
    "    print(\"w is defined\")\n",
    "except NameError:\n",
    "    print(\"Caught a NameError!\")\n",
    "finally:\n",
    "    print(\"This always executes (error or no error)\")"
   ]
  },
  {
   "cell_type": "markdown",
   "metadata": {
    "editable": true,
    "slideshow": {
     "slide_type": "slide"
    },
    "tags": []
   },
   "source": [
    "## That's it for now!\n",
    "\n",
    "This was a very brief overview of some key Python concepts, with the goal of providing you with the basic knowledge needed for the rest of the course. There are plenty of resources online (websites/articles/videos) if you want to learn more on your own. We also recommend the [Think Python 3e textbook](https://greenteapress.com/wp/think-python-3rd-edition/) (free!). \n",
    "\n",
    "Remember, the only way to learn (and/or become better at) programming is through practice!\n",
    "\n",
    "### More advanced Python topics you might want to look into\n",
    "\n",
    "- [`if __name__ == \"__main__\"` in scripts](https://realpython.com/if-name-main-python/)\n",
    "- [Anonymous (\"lambda\") functions](https://www.w3schools.com/python/python_lambda.asp)\n",
    "- [Documenting your functions with docstrings](https://www.geeksforgeeks.org/python-docstrings/)\n",
    "- Object-oriented programming:\n",
    "    - Deeper dive on classes, constructors, methods, and attributes\n",
    "    - [Properties](https://www.geeksforgeeks.org/python-property-function/)\n",
    "    - [Subclasses and inheritance](https://www.w3schools.com/python/python_inheritance.asp)\n",
    "    - [Dataclasses](https://docs.python.org/3/library/dataclasses.html)\n",
    "    - [Double-underscore functions (\"dunder methods\")](https://www.geeksforgeeks.org/dunder-magic-methods-python/)\n",
    "- [Function decorators](https://www.geeksforgeeks.org/decorators-in-python/)\n",
    "- Writing command-line tools: [`argparse`](https://docs.python.org/3/library/argparse.html), [`click`](https://click.palletsprojects.com/en/8.1.x/), [`typer`](https://typer.tiangolo.com/)\n",
    "- [Improving code quality/style](https://realpython.com/python-code-quality/)\n",
    "- Writing tests for your code using [`pytest`](https://docs.pytest.org/en/latest/) (third-party) or [`unittest`](https://docs.python.org/3/library/unittest.html) (built-in)"
   ]
  }
 ],
 "metadata": {
  "celltoolbar": "Slideshow",
  "kernelspec": {
   "display_name": "qlsc612",
   "language": "python",
   "name": "python3"
  },
  "language_info": {
   "codemirror_mode": {
    "name": "ipython",
    "version": 3
   },
   "file_extension": ".py",
   "mimetype": "text/x-python",
   "name": "python",
   "nbconvert_exporter": "python",
   "pygments_lexer": "ipython3",
   "version": "3.9.19"
  },
  "toc": {
   "base_numbering": 1,
   "nav_menu": {},
   "number_sections": true,
   "sideBar": true,
   "skip_h1_title": false,
   "toc_cell": false,
   "toc_position": {},
   "toc_section_display": "block",
   "toc_window_display": false
  },
  "toc-autonumbering": true,
  "toc-showmarkdowntxt": true
 },
 "nbformat": 4,
 "nbformat_minor": 4
}

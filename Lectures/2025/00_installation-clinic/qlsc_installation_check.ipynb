{
 "cells": [
  {
   "cell_type": "markdown",
   "id": "33a8c7e5",
   "metadata": {
    "slideshow": {
     "slide_type": "slide"
    }
   },
   "source": [
    "# Let's verify your QLSC 612 software setup"
   ]
  },
  {
   "cell_type": "markdown",
   "id": "cbc88b34",
   "metadata": {
    "slideshow": {
     "slide_type": "slide"
    },
    "vscode": {
     "languageId": "plaintext"
    }
   },
   "source": [
    "### 0. WSL version and distro (for Windows users)\n",
    "\n",
    "0.1 Open your **Command Prompt** and type:\n",
    "```powershell\n",
    "wsl -l -v\n",
    "```\n",
    "In the list of installed distros, you should see the following (your Ubuntu might have a version number):\n",
    "```powershell\n",
    "NAME        STATE     VERSION\n",
    "* Ubuntu    Running   2\n",
    "```\n",
    "\n",
    "0.2 Open your **WSL2 Ubuntu terminal** and type:\n",
    "```powershell\n",
    "lsb_release -a\n",
    "```\n",
    "The Ubuntu you are running should be version `22.04 LTS` or higher."
   ]
  },
  {
   "cell_type": "markdown",
   "id": "ac13b922",
   "metadata": {
    "slideshow": {
     "slide_type": "subslide"
    }
   },
   "source": [
    "_Have multiple Ubuntu versions and running the incorrect one?_\n",
    "\n",
    "Change the default distribution by running in your **Command Prompt**:\n",
    "```powershell\n",
    "wsl --set-default <Ubuntu-VERSION>\n",
    "```\n",
    "Log out and log back in for this to take effect."
   ]
  },
  {
   "cell_type": "markdown",
   "id": "9fcfd6f9",
   "metadata": {
    "slideshow": {
     "slide_type": "slide"
    }
   },
   "source": [
    "### 1. Bash shell\n",
    "\n",
    "Open a **terminal** and type: `echo $SHELL`\n",
    "```bash\n",
    "# Expected output\n",
    "/bin/bash\n",
    "```\n",
    "*Not working? Tips:*\n",
    "- Mac/Linux: You may have to type `bash` first to access the bash shell.\n",
    "- Windows: Ensure you are in the WSL2 Ubuntu terminal."
   ]
  },
  {
   "cell_type": "markdown",
   "id": "93047fd3",
   "metadata": {
    "slideshow": {
     "slide_type": "subslide"
    },
    "vscode": {
     "languageId": "raw"
    }
   },
   "source": [
    "1.1. Install the `tree` program\n",
    "\n",
    "This step is recommended for the Terminal and Bash lecture to view directory structures. \n",
    "\n",
    "Check if you have `tree` already installed:\n",
    "```bash\n",
    "tree --version\n",
    "```\n",
    "\n",
    "If you get a message `tree: command not found`, install it using the package manager for your OS (will take a few seconds):\n",
    "\n",
    "**Linux or WSL**\n",
    "```bash\n",
    "sudo apt-get update\n",
    "sudo apt-get install tree\n",
    "```\n",
    "\n",
    "**macOS**\n",
    "```bash\n",
    "brew install tree\n",
    "```"
   ]
  },
  {
   "cell_type": "markdown",
   "id": "e8a2eb57",
   "metadata": {
    "slideshow": {
     "slide_type": "slide"
    }
   },
   "source": [
    "### 2. Git\n",
    "2.1. Check that `git` was installed correctly:\n",
    "```bash\n",
    "git --version\n",
    "> git version 2.xx.x\n",
    "```\n",
    "\n",
    "2.2. Check your Git configuration:\n",
    "```bash\n",
    "git config --list\n",
    "```\n",
    "Ensure that `user.name` and `user.email` are set to your identity, and that `core.autocrlf=true`.\n",
    "\n",
    "2.3. Check that you can connect to GitHub using the SSH key you set up:\n",
    "```bash\n",
    "ssh -T git@github.com\n",
    "```\n",
    "After entering your passphrase, you should see something like:\n",
    "```bash\n",
    "> Hi USERNAME! You've successfully authenticated, but GitHub does not provide shell access.\n",
    "```"
   ]
  },
  {
   "cell_type": "markdown",
   "id": "6c0b1e79",
   "metadata": {
    "slideshow": {
     "slide_type": "subslide"
    }
   },
   "source": [
    "**GitHub integration in VS Code**\n",
    "\n",
    "Depending on your installed extensions, when you do certain Git operations in the VS Code terminal that require authentication, you may get [a popup prompt to sign in using GitHub](https://code.visualstudio.com/docs/sourcecontrol/github#_authenticating-with-an-existing-repository).\n",
    "\n",
    "If you do get this popup, you can select \"Allow\" to sign in using your browser, in which case you should be able to sign in with your account username and password with two-factor authentication."
   ]
  },
  {
   "cell_type": "markdown",
   "id": "c6428baf",
   "metadata": {
    "slideshow": {
     "slide_type": "slide"
    }
   },
   "source": [
    "### 3. Python\n",
    "3.1. Let's check the conda environment you created during the course setup steps:\n",
    "```bash\n",
    "conda env list\n",
    "```\n",
    "You should see `qlsc612` in the list of available conda environments.\n",
    "\n",
    "3.2. Activate the `qlsc612` conda environment:\n",
    "```bash\n",
    "conda activate qlsc612\n",
    "\n",
    "# Your shell should now display:\n",
    "(qlsc612) USERNAME@YOURMACHINE:\n",
    "```\n",
    "\n",
    "3.3. Confirm that the path of the Python interpreter being used is correct:\n",
    "```bash\n",
    "which python\n",
    "```\n",
    "Linux/WSL: `home/USERNAME/miniconda3/envs/qlsc612/bin/python`  \n",
    "Mac: `Users/USERNAME/miniconda3/envs/qlsc612/bin/python` \n",
    "\n",
    "If you are using Anaconda, the path should end in something like `.../anaconda3/envs/qlsc612/bin/python` instead."
   ]
  },
  {
   "cell_type": "markdown",
   "id": "dc07179a",
   "metadata": {
    "slideshow": {
     "slide_type": "subslide"
    }
   },
   "source": [
    "To deactivate the conda environment after you are done with it, type: \n",
    "```bash\n",
    "conda deactivate\n",
    "```"
   ]
  },
  {
   "cell_type": "markdown",
   "id": "bafa81dc",
   "metadata": {
    "slideshow": {
     "slide_type": "slide"
    }
   },
   "source": [
    "### 4. Docker\n",
    "4.1. If you are on a Mac or Windows machine, first start the Docker Desktop application.  \n",
    "\n",
    "4.2. In the terminal, type:\n",
    "```bash\n",
    "docker run hello-world\n",
    "```\n",
    "\n",
    "After a few seconds, you should see a message that starts with:\n",
    "```bash\n",
    "Hello from Docker!\n",
    "This message shows that your installation appears to be working correctly.\n",
    "...\n",
    "```"
   ]
  },
  {
   "cell_type": "markdown",
   "id": "978ce9ad",
   "metadata": {
    "slideshow": {
     "slide_type": "slide"
    }
   },
   "source": [
    "### 5. Getting the course materials\n",
    "\n",
    "Let's get a copy of the [materials we will need for the lectures](https://github.com/neurodatascience/QLS-course-materials) from GitHub onto our own computer."
   ]
  },
  {
   "cell_type": "markdown",
   "id": "e7f685e0",
   "metadata": {
    "slideshow": {
     "slide_type": "fragment"
    }
   },
   "source": [
    "For convenience, let's store the course materials in our home directory (`~`). In the terminal, type:\n",
    "```bash\n",
    "cd ~\n",
    "git clone git@github.com:neurodatascience/QLS-course-materials.git --depth 1\n",
    "```\n",
    "\n",
    "This will take a few seconds to complete. Once finished, type `ls`. You should see among the output `QLS-course-materials`. This is the folder containing all the course materials.\n",
    "\n",
    "**Note:** If you've already cloned the repo elsewhere, we recommend deleting that copy and running the above commands to get the latest version of the materials in your home directory."
   ]
  },
  {
   "cell_type": "markdown",
   "id": "f2ac4209",
   "metadata": {
    "slideshow": {
     "slide_type": "subslide"
    }
   },
   "source": [
    "From now on, to ensure you have the latest version of the materials for a lecture from GitHub, simply type:\n",
    "```bash\n",
    "cd ~\n",
    "cd QLS-course-materials\n",
    "git pull\n",
    "```"
   ]
  },
  {
   "cell_type": "markdown",
   "id": "daf31bc3",
   "metadata": {
    "slideshow": {
     "slide_type": "subslide"
    }
   },
   "source": [
    "#### A note for Windows users\n",
    "You won't be able to access this new folder `QLS-course-materials` in your normal file explorer, because the WSL filesystem is **separate** from your normal Windows filesystem (which is under `/mnt` inside WSL).\n",
    "\n",
    "However, if you _really wanted_ to view the course materials directory in your file explorer, run the following in the WSL2 Ubuntu terminal:\n",
    "```bash\n",
    "cd ~\n",
    "explorer.exe\n",
    "```\n",
    "This will open a file explorer window showing your WSL home directory files and folders, including `QLS-course-materials`. **Do not modify any files in the WSL filesystem directly from this explorer**. However, if you wanted to, you could *copy* the directory `QLS-course-materials` into a Windows location you're familiar with (Desktop, a D drive folder, etc.), to view the contents as you would your usual files.\n",
    "\n",
    "**For the purposes of this course, we will only be working with the `QLS-course-materials` through the WSL2 Ubuntu.**"
   ]
  },
  {
   "cell_type": "markdown",
   "id": "2ce39d16",
   "metadata": {
    "slideshow": {
     "slide_type": "slide"
    }
   },
   "source": [
    "### 6. Check that plotting works in Jupyter Notebook in VS Code"
   ]
  },
  {
   "cell_type": "markdown",
   "id": "54b40444",
   "metadata": {
    "slideshow": {
     "slide_type": "fragment"
    }
   },
   "source": [
    "6.1. Open a new Jupyter Notebook file in VS Code\n",
    "```bash\n",
    "code plot_test.ipynb\n",
    "```\n",
    "\n",
    "In the top right corner, click `Select Kernel`, then choose from the Python Environments the one called `qlsc612 (Python 3.12.x)`."
   ]
  },
  {
   "cell_type": "markdown",
   "id": "79b3d65f",
   "metadata": {
    "slideshow": {
     "slide_type": "subslide"
    }
   },
   "source": [
    "6.2. Press `+ Code` at the top of the notebook to add a code cell. Type the following code in the cell:\n",
    "```python\n",
    "import matplotlib.pyplot as plt\n",
    "\n",
    "fig, ax = plt.subplots()\n",
    "ax.plot([1, 2, 3], [1, 4, 2])\n",
    "plt.show()\n",
    "```\n",
    "Press the \"play\" icon next to the cell to run the code (or, `Ctrl+Enter` / `Cmd+Enter`).\n",
    "\n",
    "You should see a plot like this:\n",
    "\n",
    "<div>\n",
    "<img src=\"plot_example.png\" width=\"400\"/>\n",
    "</div>"
   ]
  }
 ],
 "metadata": {
  "celltoolbar": "Slideshow",
  "kernelspec": {
   "display_name": "Python 3 (ipykernel)",
   "language": "python",
   "name": "python3"
  },
  "language_info": {
   "codemirror_mode": {
    "name": "ipython",
    "version": 3
   },
   "file_extension": ".py",
   "mimetype": "text/x-python",
   "name": "python",
   "nbconvert_exporter": "python",
   "pygments_lexer": "ipython3",
   "version": "3.11.0"
  }
 },
 "nbformat": 4,
 "nbformat_minor": 5
}
